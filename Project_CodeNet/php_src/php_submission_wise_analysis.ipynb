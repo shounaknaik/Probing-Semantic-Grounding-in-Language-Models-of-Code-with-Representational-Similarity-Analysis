{
 "cells": [
  {
   "cell_type": "code",
   "execution_count": 1,
   "id": "4e6956fa",
   "metadata": {},
   "outputs": [],
   "source": [
    "import glob\n",
    "import pandas as pd"
   ]
  },
  {
   "cell_type": "code",
   "execution_count": 2,
   "id": "29da3c5e",
   "metadata": {},
   "outputs": [],
   "source": [
    "import pickle\n",
    "from tqdm import tqdm"
   ]
  },
  {
   "cell_type": "code",
   "execution_count": 3,
   "id": "52127dd9",
   "metadata": {},
   "outputs": [],
   "source": [
    "import numpy as np"
   ]
  },
  {
   "cell_type": "code",
   "execution_count": 4,
   "id": "fcef7d4b",
   "metadata": {},
   "outputs": [],
   "source": [
    "with open('../train_problems.pkl','rb') as f:\n",
    "    train_problems=pickle.load(f)\n",
    "\n",
    "\n",
    "# train_problems="
   ]
  },
  {
   "cell_type": "code",
   "execution_count": 5,
   "id": "438cdfeb",
   "metadata": {},
   "outputs": [],
   "source": [
    "language='PHP'"
   ]
  },
  {
   "cell_type": "code",
   "execution_count": 6,
   "id": "88aa491d",
   "metadata": {},
   "outputs": [],
   "source": [
    "final_df=pd.DataFrame(columns=['submission_id','problem_id','user_id','date','language','original_language','filename_ext',\t'status','cpu_time','memory','code_size','accuracy'])\n"
   ]
  },
  {
   "cell_type": "code",
   "execution_count": 7,
   "id": "7cfeff81",
   "metadata": {},
   "outputs": [
    {
     "name": "stderr",
     "output_type": "stream",
     "text": [
      "100%|█████████████████████████████████████████| 807/807 [00:13<00:00, 61.89it/s]\n"
     ]
    }
   ],
   "source": [
    "train_problem_description_dict={}\n",
    "for file in tqdm(train_problems,total=len(train_problems)):\n",
    "    \n",
    "    \n",
    "    file='.'+file\n",
    "    pid=file.split('/')[-1].split('.')[0]\n",
    "    df=pd.read_csv(file)\n",
    "    \n",
    "    acc_len=len(df.loc[(df['status']=='Accepted') & (df['language']==language)])\n",
    "    \n",
    "    train_problem_description_dict[pid]=acc_len\n",
    "#     train_problem_description_dict[pid].append(acc_len)\n",
    "    \n",
    "    \n",
    "#     break\n",
    "    \n",
    "    \n",
    "    \n",
    "    \n",
    "    "
   ]
  },
  {
   "cell_type": "code",
   "execution_count": 8,
   "id": "40ac7707",
   "metadata": {},
   "outputs": [],
   "source": [
    "value_li=list(train_problem_description_dict.values())"
   ]
  },
  {
   "cell_type": "code",
   "execution_count": 9,
   "id": "2c2bc029",
   "metadata": {},
   "outputs": [],
   "source": [
    "def get_stats(li):\n",
    "    print(f'Length of list: {len(li)}')\n",
    "    print(f'Mimimum among the list: {np.min(li)}')\n",
    "    print(f'Maximum among the list: {np.max(li)}')\n",
    "    print(f'Mean of the list: {np.mean(li)}')\n",
    "    print(f'Standard Deviation of the list: {np.std(li)}')\n",
    "    \n",
    "    mean=np.mean(li)\n",
    "    std=np.std(li)\n",
    "    \n",
    "    count=0\n",
    "    \n",
    "    for v in li:\n",
    "        if v>(mean+std):\n",
    "            count+=1\n",
    "            \n",
    "    print(f'Number of problems above the Mean+STD:{count}')\n",
    "    \n",
    "    \n",
    "    \n",
    "    count=0\n",
    "#     print(mean -std)\n",
    "    for v in li:\n",
    "        if v<(mean-std):\n",
    "            count+=1\n",
    "            \n",
    "    print(f'Number of problems below the Mean-STD:{count}')\n",
    "    \n",
    "    \n",
    "    "
   ]
  },
  {
   "cell_type": "code",
   "execution_count": 10,
   "id": "d80494a1",
   "metadata": {},
   "outputs": [],
   "source": [
    "# np.min(value_li)"
   ]
  },
  {
   "cell_type": "code",
   "execution_count": 11,
   "id": "8ca9092b",
   "metadata": {},
   "outputs": [],
   "source": [
    "# np.max(value_li)"
   ]
  },
  {
   "cell_type": "code",
   "execution_count": 12,
   "id": "997bf8f2",
   "metadata": {},
   "outputs": [],
   "source": [
    "# np.mean(value_li)"
   ]
  },
  {
   "cell_type": "code",
   "execution_count": 13,
   "id": "cd40adf8",
   "metadata": {},
   "outputs": [],
   "source": [
    "# np.std(value_li)"
   ]
  },
  {
   "cell_type": "code",
   "execution_count": 14,
   "id": "f6666486",
   "metadata": {},
   "outputs": [
    {
     "name": "stdout",
     "output_type": "stream",
     "text": [
      "Length of list: 807\n",
      "Mimimum among the list: 1\n",
      "Maximum among the list: 177\n",
      "Mean of the list: 14.42998760842627\n",
      "Standard Deviation of the list: 16.858320406088637\n",
      "Number of problems above the Mean+STD:104\n",
      "Number of problems below the Mean-STD:0\n"
     ]
    }
   ],
   "source": [
    "get_stats(value_li)"
   ]
  },
  {
   "cell_type": "code",
   "execution_count": 15,
   "id": "81918259",
   "metadata": {},
   "outputs": [],
   "source": [
    "with open('../test_problems.pkl','rb') as f:\n",
    "    test_problems=pickle.load(f)"
   ]
  },
  {
   "cell_type": "code",
   "execution_count": 16,
   "id": "68f17995",
   "metadata": {},
   "outputs": [
    {
     "name": "stderr",
     "output_type": "stream",
     "text": [
      "100%|█████████████████████████████████████████| 255/255 [00:09<00:00, 27.71it/s]\n"
     ]
    }
   ],
   "source": [
    "test_problem_description_dict={}\n",
    "for file in tqdm(test_problems,total=len(test_problems)):\n",
    "    \n",
    "    \n",
    "    file='.'+file\n",
    "    pid=file.split('/')[-1].split('.')[0]\n",
    "    df=pd.read_csv(file)\n",
    "    \n",
    "    acc_len=len(df.loc[(df['status']=='Accepted') & (df['language']==language)])\n",
    "    WA_len=len(df.loc[(df['status']=='Wrong Answer') & (df['language']==language)])\n",
    "    RE_len=len(df.loc[(df['status']=='Runtime Error') & (df['language']==language)])\n",
    "    CE_len=len(df.loc[(df['status']=='Compile Error') & (df['language']==language)])\n",
    "    \n",
    "    test_problem_description_dict[pid]=[acc_len,WA_len,RE_len,CE_len]\n",
    "#     train_problem_description_dict[pid].append(acc_len)\n",
    "    \n",
    "    \n",
    "#     break"
   ]
  },
  {
   "cell_type": "code",
   "execution_count": 17,
   "id": "8bfd0bff",
   "metadata": {},
   "outputs": [],
   "source": [
    "test_df=pd.DataFrame.from_dict(test_problem_description_dict,orient='index',columns=['Accepted','WrongAnswer','RuntimeError','CompileError'])"
   ]
  },
  {
   "cell_type": "code",
   "execution_count": 18,
   "id": "ca6610c6",
   "metadata": {},
   "outputs": [
    {
     "data": {
      "text/html": [
       "<div>\n",
       "<style scoped>\n",
       "    .dataframe tbody tr th:only-of-type {\n",
       "        vertical-align: middle;\n",
       "    }\n",
       "\n",
       "    .dataframe tbody tr th {\n",
       "        vertical-align: top;\n",
       "    }\n",
       "\n",
       "    .dataframe thead th {\n",
       "        text-align: right;\n",
       "    }\n",
       "</style>\n",
       "<table border=\"1\" class=\"dataframe\">\n",
       "  <thead>\n",
       "    <tr style=\"text-align: right;\">\n",
       "      <th></th>\n",
       "      <th>Accepted</th>\n",
       "      <th>WrongAnswer</th>\n",
       "      <th>RuntimeError</th>\n",
       "      <th>CompileError</th>\n",
       "    </tr>\n",
       "  </thead>\n",
       "  <tbody>\n",
       "    <tr>\n",
       "      <th>p03261</th>\n",
       "      <td>28</td>\n",
       "      <td>6</td>\n",
       "      <td>1</td>\n",
       "      <td>0</td>\n",
       "    </tr>\n",
       "    <tr>\n",
       "      <th>p02657</th>\n",
       "      <td>71</td>\n",
       "      <td>26</td>\n",
       "      <td>3</td>\n",
       "      <td>0</td>\n",
       "    </tr>\n",
       "    <tr>\n",
       "      <th>p02675</th>\n",
       "      <td>60</td>\n",
       "      <td>41</td>\n",
       "      <td>13</td>\n",
       "      <td>0</td>\n",
       "    </tr>\n",
       "    <tr>\n",
       "      <th>p03012</th>\n",
       "      <td>38</td>\n",
       "      <td>22</td>\n",
       "      <td>1</td>\n",
       "      <td>0</td>\n",
       "    </tr>\n",
       "    <tr>\n",
       "      <th>p03011</th>\n",
       "      <td>48</td>\n",
       "      <td>11</td>\n",
       "      <td>1</td>\n",
       "      <td>0</td>\n",
       "    </tr>\n",
       "  </tbody>\n",
       "</table>\n",
       "</div>"
      ],
      "text/plain": [
       "        Accepted  WrongAnswer  RuntimeError  CompileError\n",
       "p03261        28            6             1             0\n",
       "p02657        71           26             3             0\n",
       "p02675        60           41            13             0\n",
       "p03012        38           22             1             0\n",
       "p03011        48           11             1             0"
      ]
     },
     "execution_count": 18,
     "metadata": {},
     "output_type": "execute_result"
    }
   ],
   "source": [
    "test_df.head()"
   ]
  },
  {
   "cell_type": "code",
   "execution_count": 19,
   "id": "ff94cac5",
   "metadata": {},
   "outputs": [],
   "source": [
    "accepted_test_li=list(test_df['Accepted'])\n",
    "WA_test_li=list(test_df['WrongAnswer'])\n",
    "RE_test_li=list(test_df['RuntimeError'])\n",
    "CE_test_li=list(test_df['CompileError'])"
   ]
  },
  {
   "cell_type": "code",
   "execution_count": 20,
   "id": "07e0bd4c",
   "metadata": {},
   "outputs": [
    {
     "name": "stdout",
     "output_type": "stream",
     "text": [
      "Length of list: 254\n",
      "Mimimum among the list: 1\n",
      "Maximum among the list: 161\n",
      "Mean of the list: 31.791338582677167\n",
      "Standard Deviation of the list: 21.59851454363612\n",
      "Number of problems above the Mean+STD:39\n",
      "Number of problems below the Mean-STD:36\n"
     ]
    }
   ],
   "source": [
    "get_stats(accepted_test_li)"
   ]
  },
  {
   "cell_type": "code",
   "execution_count": 21,
   "id": "160e351a",
   "metadata": {},
   "outputs": [
    {
     "name": "stdout",
     "output_type": "stream",
     "text": [
      "Length of list: 254\n",
      "Mimimum among the list: 1\n",
      "Maximum among the list: 178\n",
      "Mean of the list: 24.933070866141733\n",
      "Standard Deviation of the list: 23.56059888253351\n",
      "Number of problems above the Mean+STD:26\n",
      "Number of problems below the Mean-STD:5\n"
     ]
    }
   ],
   "source": [
    "get_stats(WA_test_li)"
   ]
  },
  {
   "cell_type": "code",
   "execution_count": 22,
   "id": "232dbd75",
   "metadata": {},
   "outputs": [
    {
     "name": "stdout",
     "output_type": "stream",
     "text": [
      "Length of list: 254\n",
      "Mimimum among the list: 1\n",
      "Maximum among the list: 56\n",
      "Mean of the list: 4.405511811023622\n",
      "Standard Deviation of the list: 6.658495338371901\n",
      "Number of problems above the Mean+STD:19\n",
      "Number of problems below the Mean-STD:0\n"
     ]
    }
   ],
   "source": [
    "get_stats(RE_test_li)"
   ]
  },
  {
   "cell_type": "code",
   "execution_count": 23,
   "id": "4664fbbc",
   "metadata": {},
   "outputs": [
    {
     "name": "stdout",
     "output_type": "stream",
     "text": [
      "Length of list: 254\n",
      "Mimimum among the list: 0\n",
      "Maximum among the list: 0\n",
      "Mean of the list: 0.0\n",
      "Standard Deviation of the list: 0.0\n",
      "Number of problems above the Mean+STD:0\n",
      "Number of problems below the Mean-STD:0\n"
     ]
    }
   ],
   "source": [
    "get_stats(CE_test_li)"
   ]
  },
  {
   "cell_type": "code",
   "execution_count": null,
   "id": "f843b804",
   "metadata": {},
   "outputs": [],
   "source": []
  },
  {
   "cell_type": "code",
   "execution_count": null,
   "id": "9bd70a18",
   "metadata": {},
   "outputs": [],
   "source": []
  },
  {
   "cell_type": "code",
   "execution_count": null,
   "id": "41e740d9",
   "metadata": {},
   "outputs": [],
   "source": []
  },
  {
   "cell_type": "code",
   "execution_count": null,
   "id": "536d37e0",
   "metadata": {},
   "outputs": [],
   "source": []
  },
  {
   "cell_type": "code",
   "execution_count": null,
   "id": "66badd51",
   "metadata": {},
   "outputs": [],
   "source": []
  },
  {
   "cell_type": "code",
   "execution_count": null,
   "id": "900fd22f",
   "metadata": {},
   "outputs": [],
   "source": []
  },
  {
   "cell_type": "code",
   "execution_count": null,
   "id": "b28496c6",
   "metadata": {},
   "outputs": [],
   "source": []
  },
  {
   "cell_type": "code",
   "execution_count": null,
   "id": "8449213d",
   "metadata": {},
   "outputs": [],
   "source": []
  },
  {
   "cell_type": "code",
   "execution_count": null,
   "id": "78534c90",
   "metadata": {},
   "outputs": [],
   "source": []
  },
  {
   "cell_type": "code",
   "execution_count": null,
   "id": "50de8a96",
   "metadata": {},
   "outputs": [],
   "source": []
  },
  {
   "cell_type": "code",
   "execution_count": null,
   "id": "0c455e31",
   "metadata": {},
   "outputs": [],
   "source": []
  }
 ],
 "metadata": {
  "kernelspec": {
   "display_name": "Python 3 (ipykernel)",
   "language": "python",
   "name": "python3"
  },
  "language_info": {
   "codemirror_mode": {
    "name": "ipython",
    "version": 3
   },
   "file_extension": ".py",
   "mimetype": "text/x-python",
   "name": "python",
   "nbconvert_exporter": "python",
   "pygments_lexer": "ipython3",
   "version": "3.9.7"
  }
 },
 "nbformat": 4,
 "nbformat_minor": 5
}
