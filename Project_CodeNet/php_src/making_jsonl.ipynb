{
 "cells": [
  {
   "cell_type": "code",
   "execution_count": 1,
   "id": "6601cfe8",
   "metadata": {},
   "outputs": [],
   "source": [
    "import json\n",
    "import pickle\n",
    "from pprint import pprint\n",
    "import pandas as pd\n",
    "from tqdm import tqdm\n",
    "import jsonlines"
   ]
  },
  {
   "cell_type": "code",
   "execution_count": 2,
   "id": "f51bd181",
   "metadata": {
    "scrolled": true
   },
   "outputs": [
    {
     "name": "stdout",
     "output_type": "stream",
     "text": [
      "./metadata/p00710.csv\n",
      "    index                                  Final_description\n",
      "0  p00000  write a program which prints multiplication ta...\n",
      "1  p00001  there is a data which provides heights (in met...\n",
      "2  p00002  write a program which computes the digit numbe...\n",
      "3  p00003  write a program which judges wheather given le...\n",
      "4  p00004  write a program which solve a simultaneous equ...\n"
     ]
    }
   ],
   "source": [
    "with open('../train_problems_updated.pkl','rb') as f:\n",
    "    train_problems=pickle.load(f)\n",
    "print(train_problems[0])\n",
    "\n",
    "description_df=pd.read_csv('../descriptions.csv')\n",
    "print(description_df.head())"
   ]
  },
  {
   "cell_type": "code",
   "execution_count": 3,
   "id": "1b75d2b8",
   "metadata": {},
   "outputs": [],
   "source": [
    "language='PHP'"
   ]
  },
  {
   "cell_type": "code",
   "execution_count": 4,
   "id": "ad07bf37",
   "metadata": {},
   "outputs": [],
   "source": [
    "extension_dict={'Java':'java','Python':'py','Go':'go','JavaScript':'js','PHP':'php','Ruby':'rb'}"
   ]
  },
  {
   "cell_type": "code",
   "execution_count": 5,
   "id": "3c87e996",
   "metadata": {
    "scrolled": true
   },
   "outputs": [
    {
     "name": "stderr",
     "output_type": "stream",
     "text": [
      "100%|█████████████████████████████████████████| 707/707 [00:14<00:00, 47.54it/s]\n"
     ]
    }
   ],
   "source": [
    "idx=0\n",
    "lines=[]\n",
    "for file in tqdm(train_problems,total=len(train_problems)):\n",
    "    \n",
    "    \n",
    "    file='.'+file\n",
    "    pid=file.split('/')[-1].split('.')[0]\n",
    "    df=pd.read_csv(file)\n",
    "\n",
    "    desc=description_df.loc[description_df['index']==pid]['Final_description'].item()\n",
    "    \n",
    "    acc_df=(df.loc[(df['status']=='Accepted') & (df['language']==language)])\n",
    "    \n",
    "#     count=0\n",
    "\n",
    "    for _,row in acc_df.iterrows():\n",
    "        temp_dict={}\n",
    "        sid=row['submission_id']\n",
    "        st=f'/home/rahul/probing_codeBERT/Project_CodeNet/data/{pid}/{language}/{sid}.{extension_dict[language]}'\n",
    "\n",
    "        with open(st,'r') as f:\n",
    "            code_text=f.read()\n",
    "\n",
    "        lines.append({\n",
    "            'idx': idx,\n",
    "            'function_tokens': code_text.split(\" \"),\n",
    "            \"function\": code_text,\n",
    "            'docstring': desc,\n",
    "            \"docstring_tokens\": desc.split(\" \"),\n",
    "            \"language\": \"Go\",\n",
    "            \"url\": \"GarbageURL\"\n",
    "        })\n",
    "        idx+=1\n",
    "#         count+=1\n",
    "#         if count==100:\n",
    "#             break"
   ]
  },
  {
   "cell_type": "code",
   "execution_count": 6,
   "id": "37af92a1",
   "metadata": {},
   "outputs": [],
   "source": [
    "# Convert to a list of JSON strings\n",
    "json_lines = [str(json.dumps(l)) for l in lines]\n",
    "\n",
    "# Join lines and save to .jsonl file\n",
    "json_data = '\\n'.join(json_lines).encode('utf8')\n",
    "with open(f'train_{language.lower()}.jsonl', 'wb') as f:\n",
    "    f.write(json_data)"
   ]
  },
  {
   "cell_type": "code",
   "execution_count": 7,
   "id": "84c506fc",
   "metadata": {},
   "outputs": [
    {
     "data": {
      "text/plain": [
       "10455"
      ]
     },
     "execution_count": 7,
     "metadata": {},
     "output_type": "execute_result"
    }
   ],
   "source": [
    "len(lines)"
   ]
  },
  {
   "cell_type": "code",
   "execution_count": 8,
   "id": "70d6c330",
   "metadata": {},
   "outputs": [
    {
     "name": "stdout",
     "output_type": "stream",
     "text": [
      "./metadata/p03575.csv\n"
     ]
    }
   ],
   "source": [
    "with open('../validation_problems.pkl','rb') as f:\n",
    "    valid_problems=pickle.load(f)\n",
    "print(valid_problems[0])"
   ]
  },
  {
   "cell_type": "code",
   "execution_count": 9,
   "id": "ecc5575c",
   "metadata": {},
   "outputs": [
    {
     "name": "stderr",
     "output_type": "stream",
     "text": [
      "100%|█████████████████████████████████████████| 100/100 [00:01<00:00, 59.09it/s]\n"
     ]
    }
   ],
   "source": [
    "idx=0\n",
    "lines=[]\n",
    "for file in tqdm(valid_problems,total=len(valid_problems)):\n",
    "    \n",
    "    json_object_li=[]\n",
    "    file='.'+file\n",
    "    pid=file.split('/')[-1].split('.')[0]\n",
    "    df=pd.read_csv(file)\n",
    "\n",
    "    desc=description_df.loc[description_df['index']==pid]['Final_description'].item()\n",
    "    \n",
    "    acc_df=(df.loc[(df['status']=='Accepted') & (df['language']==language)])\n",
    "    \n",
    "    count=0\n",
    "\n",
    "    for _,row in acc_df.iterrows():\n",
    "        temp_dict={}\n",
    "        sid=row['submission_id']\n",
    "        st=f'/home/rahul/probing_codeBERT/Project_CodeNet/data/{pid}/{language}/{sid}.{extension_dict[language]}'\n",
    "\n",
    "        with open(st,'r') as f:\n",
    "            code_text=f.read()\n",
    "\n",
    "        lines.append({\n",
    "            'idx': idx,\n",
    "            'function_tokens': code_text.split(\" \"),\n",
    "            \"function\": code_text,\n",
    "            'docstring': desc,\n",
    "            \"docstring_tokens\": desc.split(\" \"),\n",
    "            \"language\": \"Go\",\n",
    "            \"url\": \"GarbageURL\"\n",
    "        })\n",
    "        idx+=1\n",
    "        count+=1\n",
    "        if count==100:\n",
    "            break"
   ]
  },
  {
   "cell_type": "code",
   "execution_count": 10,
   "id": "8636f887",
   "metadata": {},
   "outputs": [],
   "source": [
    "# Convert to a list of JSON strings\n",
    "json_lines = [str(json.dumps(l)) for l in lines]\n",
    "\n",
    "# Join lines and save to .jsonl file\n",
    "json_data = '\\n'.join(json_lines).encode('utf8')\n",
    "with open(f'valid_{language.lower()}.jsonl', 'wb') as f:\n",
    "    f.write(json_data)"
   ]
  },
  {
   "cell_type": "code",
   "execution_count": 11,
   "id": "956129fd",
   "metadata": {},
   "outputs": [
    {
     "data": {
      "text/plain": [
       "1190"
      ]
     },
     "execution_count": 11,
     "metadata": {},
     "output_type": "execute_result"
    }
   ],
   "source": [
    "len(lines)"
   ]
  },
  {
   "cell_type": "code",
   "execution_count": null,
   "id": "978b373b",
   "metadata": {},
   "outputs": [],
   "source": []
  },
  {
   "cell_type": "code",
   "execution_count": null,
   "id": "758cf6f6",
   "metadata": {},
   "outputs": [],
   "source": []
  },
  {
   "cell_type": "code",
   "execution_count": null,
   "id": "35989f64",
   "metadata": {},
   "outputs": [],
   "source": []
  },
  {
   "cell_type": "code",
   "execution_count": null,
   "id": "47b8681c",
   "metadata": {},
   "outputs": [],
   "source": []
  },
  {
   "cell_type": "code",
   "execution_count": null,
   "id": "5df69348",
   "metadata": {},
   "outputs": [],
   "source": []
  },
  {
   "cell_type": "code",
   "execution_count": null,
   "id": "527aae33",
   "metadata": {},
   "outputs": [],
   "source": []
  },
  {
   "cell_type": "code",
   "execution_count": null,
   "id": "ee6907d2",
   "metadata": {},
   "outputs": [],
   "source": []
  },
  {
   "cell_type": "code",
   "execution_count": null,
   "id": "bfe36193",
   "metadata": {},
   "outputs": [],
   "source": []
  },
  {
   "cell_type": "code",
   "execution_count": null,
   "id": "d3dff046",
   "metadata": {},
   "outputs": [],
   "source": []
  },
  {
   "cell_type": "code",
   "execution_count": null,
   "id": "c52cff9f",
   "metadata": {},
   "outputs": [],
   "source": []
  }
 ],
 "metadata": {
  "kernelspec": {
   "display_name": "Python 3 (ipykernel)",
   "language": "python",
   "name": "python3"
  },
  "language_info": {
   "codemirror_mode": {
    "name": "ipython",
    "version": 3
   },
   "file_extension": ".py",
   "mimetype": "text/x-python",
   "name": "python",
   "nbconvert_exporter": "python",
   "pygments_lexer": "ipython3",
   "version": "3.9.7"
  }
 },
 "nbformat": 4,
 "nbformat_minor": 5
}
