{
 "cells": [
  {
   "cell_type": "code",
   "execution_count": 1,
   "id": "d015528f",
   "metadata": {},
   "outputs": [],
   "source": [
    "import glob\n",
    "import pandas as pd"
   ]
  },
  {
   "cell_type": "code",
   "execution_count": 6,
   "id": "def4dd13",
   "metadata": {},
   "outputs": [],
   "source": [
    "import pickle\n",
    "from tqdm import tqdm"
   ]
  },
  {
   "cell_type": "code",
   "execution_count": 28,
   "id": "400bb9d1",
   "metadata": {},
   "outputs": [],
   "source": [
    "import numpy as np"
   ]
  },
  {
   "cell_type": "code",
   "execution_count": 3,
   "id": "b2f1dde5",
   "metadata": {},
   "outputs": [],
   "source": [
    "with open('../train_problems.pkl','rb') as f:\n",
    "    train_problems=pickle.load(f)\n",
    "\n",
    "\n",
    "# train_problems="
   ]
  },
  {
   "cell_type": "code",
   "execution_count": 5,
   "id": "f675f738",
   "metadata": {},
   "outputs": [],
   "source": [
    "final_df=pd.DataFrame(columns=['submission_id','problem_id','user_id','date','language','original_language','filename_ext',\t'status','cpu_time','memory','code_size','accuracy'])\n"
   ]
  },
  {
   "cell_type": "code",
   "execution_count": 23,
   "id": "9cd42a76",
   "metadata": {},
   "outputs": [
    {
     "name": "stderr",
     "output_type": "stream",
     "text": [
      "100%|█████████████████████████████████████████| 807/807 [00:12<00:00, 64.72it/s]\n"
     ]
    }
   ],
   "source": [
    "train_problem_description_dict={}\n",
    "for file in tqdm(train_problems,total=len(train_problems)):\n",
    "    \n",
    "    \n",
    "    file='.'+file\n",
    "    pid=file.split('/')[-1].split('.')[0]\n",
    "    df=pd.read_csv(file)\n",
    "    \n",
    "    acc_len=len(df.loc[(df['status']=='Accepted') & (df['language']=='Go')])\n",
    "    \n",
    "    train_problem_description_dict[pid]=acc_len\n",
    "#     train_problem_description_dict[pid].append(acc_len)\n",
    "    \n",
    "    \n",
    "#     break\n",
    "    \n",
    "    \n",
    "    \n",
    "    \n",
    "    "
   ]
  },
  {
   "cell_type": "code",
   "execution_count": 30,
   "id": "1553ad27",
   "metadata": {},
   "outputs": [],
   "source": [
    "value_li=list(train_problem_description_dict.values())"
   ]
  },
  {
   "cell_type": "code",
   "execution_count": 50,
   "id": "cac6b687",
   "metadata": {},
   "outputs": [],
   "source": [
    "def get_stats(li):\n",
    "    print(f'Length of list: {len(li)}')\n",
    "    print(f'Mimimum among the list: {np.min(li)}')\n",
    "    print(f'Maximum among the list: {np.max(li)}')\n",
    "    print(f'Mean of the list: {np.mean(li)}')\n",
    "    print(f'Standard Deviation of the list: {np.std(li)}')\n",
    "    \n",
    "    mean=np.mean(li)\n",
    "    std=np.mean(li)\n",
    "    \n",
    "    count=0\n",
    "    \n",
    "    for v in li:\n",
    "        if v>(mean+std):\n",
    "            count+=1\n",
    "            \n",
    "    print(f'Number of problems above the Mean+STD:{count}')\n",
    "    \n",
    "    \n",
    "    \n",
    "    count=0\n",
    "    \n",
    "    for v in li:\n",
    "        if v<(mean-std):\n",
    "            count+=1\n",
    "            \n",
    "    print(f'Number of problems below the Mean-STD:{count}')\n",
    "    \n",
    "    \n",
    "    "
   ]
  },
  {
   "cell_type": "code",
   "execution_count": 32,
   "id": "a78e149c",
   "metadata": {},
   "outputs": [
    {
     "data": {
      "text/plain": [
       "1"
      ]
     },
     "execution_count": 32,
     "metadata": {},
     "output_type": "execute_result"
    }
   ],
   "source": [
    "np.min(value_li)"
   ]
  },
  {
   "cell_type": "code",
   "execution_count": 33,
   "id": "f46c5e90",
   "metadata": {},
   "outputs": [
    {
     "data": {
      "text/plain": [
       "204"
      ]
     },
     "execution_count": 33,
     "metadata": {},
     "output_type": "execute_result"
    }
   ],
   "source": [
    "np.max(value_li)"
   ]
  },
  {
   "cell_type": "code",
   "execution_count": 31,
   "id": "af5ffde7",
   "metadata": {},
   "outputs": [
    {
     "data": {
      "text/plain": [
       "40.940520446096656"
      ]
     },
     "execution_count": 31,
     "metadata": {},
     "output_type": "execute_result"
    }
   ],
   "source": [
    "np.mean(value_li)"
   ]
  },
  {
   "cell_type": "code",
   "execution_count": 34,
   "id": "3ab9662e",
   "metadata": {},
   "outputs": [
    {
     "data": {
      "text/plain": [
       "35.833657155069716"
      ]
     },
     "execution_count": 34,
     "metadata": {},
     "output_type": "execute_result"
    }
   ],
   "source": [
    "np.std(value_li)"
   ]
  },
  {
   "cell_type": "code",
   "execution_count": 51,
   "id": "44bdf59f",
   "metadata": {},
   "outputs": [
    {
     "name": "stdout",
     "output_type": "stream",
     "text": [
      "Length of list: 807\n",
      "Mimimum among the list: 1\n",
      "Maximum among the list: 204\n",
      "Mean of the list: 40.940520446096656\n",
      "Standard Deviation of the list: 35.833657155069716\n",
      "Number of problems above the Mean+STD:116\n",
      "Number of problems above the Mean-STD:0\n"
     ]
    }
   ],
   "source": [
    "get_stats(value_li)"
   ]
  },
  {
   "cell_type": "code",
   "execution_count": 36,
   "id": "262f87d5",
   "metadata": {},
   "outputs": [],
   "source": [
    "with open('../test_problems.pkl','rb') as f:\n",
    "    test_problems=pickle.load(f)"
   ]
  },
  {
   "cell_type": "code",
   "execution_count": 37,
   "id": "d8fc5f43",
   "metadata": {},
   "outputs": [
    {
     "name": "stderr",
     "output_type": "stream",
     "text": [
      "100%|█████████████████████████████████████████| 255/255 [00:09<00:00, 25.54it/s]\n"
     ]
    }
   ],
   "source": [
    "test_problem_description_dict={}\n",
    "for file in tqdm(test_problems,total=len(test_problems)):\n",
    "    \n",
    "    \n",
    "    file='.'+file\n",
    "    pid=file.split('/')[-1].split('.')[0]\n",
    "    df=pd.read_csv(file)\n",
    "    \n",
    "    acc_len=len(df.loc[(df['status']=='Accepted') & (df['language']=='Go')])\n",
    "    WA_len=len(df.loc[(df['status']=='Wrong Answer') & (df['language']=='Go')])\n",
    "    RE_len=len(df.loc[(df['status']=='Runtime Error') & (df['language']=='Go')])\n",
    "    CE_len=len(df.loc[(df['status']=='Compile Error') & (df['language']=='Go')])\n",
    "    \n",
    "    test_problem_description_dict[pid]=[acc_len,WA_len,RE_len,CE_len]\n",
    "#     train_problem_description_dict[pid].append(acc_len)\n",
    "    \n",
    "    \n",
    "#     break"
   ]
  },
  {
   "cell_type": "code",
   "execution_count": 38,
   "id": "610fa69b",
   "metadata": {},
   "outputs": [],
   "source": [
    "test_df=pd.DataFrame.from_dict(test_problem_description_dict,orient='index',columns=['Accepted','WrongAnswer','RuntimeError','CompileError'])"
   ]
  },
  {
   "cell_type": "code",
   "execution_count": 39,
   "id": "daa414f6",
   "metadata": {},
   "outputs": [
    {
     "data": {
      "text/html": [
       "<div>\n",
       "<style scoped>\n",
       "    .dataframe tbody tr th:only-of-type {\n",
       "        vertical-align: middle;\n",
       "    }\n",
       "\n",
       "    .dataframe tbody tr th {\n",
       "        vertical-align: top;\n",
       "    }\n",
       "\n",
       "    .dataframe thead th {\n",
       "        text-align: right;\n",
       "    }\n",
       "</style>\n",
       "<table border=\"1\" class=\"dataframe\">\n",
       "  <thead>\n",
       "    <tr style=\"text-align: right;\">\n",
       "      <th></th>\n",
       "      <th>Accepted</th>\n",
       "      <th>WrongAnswer</th>\n",
       "      <th>RuntimeError</th>\n",
       "      <th>CompileError</th>\n",
       "    </tr>\n",
       "  </thead>\n",
       "  <tbody>\n",
       "    <tr>\n",
       "      <th>p03261</th>\n",
       "      <td>78</td>\n",
       "      <td>39</td>\n",
       "      <td>1</td>\n",
       "      <td>1</td>\n",
       "    </tr>\n",
       "    <tr>\n",
       "      <th>p02657</th>\n",
       "      <td>154</td>\n",
       "      <td>10</td>\n",
       "      <td>4</td>\n",
       "      <td>11</td>\n",
       "    </tr>\n",
       "    <tr>\n",
       "      <th>p02675</th>\n",
       "      <td>138</td>\n",
       "      <td>14</td>\n",
       "      <td>1</td>\n",
       "      <td>15</td>\n",
       "    </tr>\n",
       "    <tr>\n",
       "      <th>p03012</th>\n",
       "      <td>106</td>\n",
       "      <td>22</td>\n",
       "      <td>3</td>\n",
       "      <td>6</td>\n",
       "    </tr>\n",
       "    <tr>\n",
       "      <th>p03011</th>\n",
       "      <td>127</td>\n",
       "      <td>19</td>\n",
       "      <td>2</td>\n",
       "      <td>9</td>\n",
       "    </tr>\n",
       "  </tbody>\n",
       "</table>\n",
       "</div>"
      ],
      "text/plain": [
       "        Accepted  WrongAnswer  RuntimeError  CompileError\n",
       "p03261        78           39             1             1\n",
       "p02657       154           10             4            11\n",
       "p02675       138           14             1            15\n",
       "p03012       106           22             3             6\n",
       "p03011       127           19             2             9"
      ]
     },
     "execution_count": 39,
     "metadata": {},
     "output_type": "execute_result"
    }
   ],
   "source": [
    "test_df.head()"
   ]
  },
  {
   "cell_type": "code",
   "execution_count": 43,
   "id": "639c0f8a",
   "metadata": {},
   "outputs": [],
   "source": [
    "accepted_test_li=list(test_df['Accepted'])\n",
    "WA_test_li=list(test_df['WrongAnswer'])\n",
    "RE_test_li=list(test_df['RuntimeError'])\n",
    "CE_test_li=list(test_df['CompileError'])"
   ]
  },
  {
   "cell_type": "code",
   "execution_count": 52,
   "id": "0c4dd4c0",
   "metadata": {},
   "outputs": [
    {
     "name": "stdout",
     "output_type": "stream",
     "text": [
      "Length of list: 254\n",
      "Mimimum among the list: 10\n",
      "Maximum among the list: 298\n",
      "Mean of the list: 89.33070866141732\n",
      "Standard Deviation of the list: 43.513696842300426\n",
      "Number of problems above the Mean+STD:6\n",
      "Number of problems above the Mean-STD:0\n"
     ]
    }
   ],
   "source": [
    "get_stats(accepted_test_li)"
   ]
  },
  {
   "cell_type": "code",
   "execution_count": 53,
   "id": "06fa8228",
   "metadata": {},
   "outputs": [
    {
     "name": "stdout",
     "output_type": "stream",
     "text": [
      "Length of list: 254\n",
      "Mimimum among the list: 1\n",
      "Maximum among the list: 583\n",
      "Mean of the list: 41.11417322834646\n",
      "Standard Deviation of the list: 55.82585722183466\n",
      "Number of problems above the Mean+STD:35\n",
      "Number of problems above the Mean-STD:0\n"
     ]
    }
   ],
   "source": [
    "get_stats(WA_test_li)"
   ]
  },
  {
   "cell_type": "code",
   "execution_count": 54,
   "id": "f3e4e17d",
   "metadata": {},
   "outputs": [
    {
     "name": "stdout",
     "output_type": "stream",
     "text": [
      "Length of list: 254\n",
      "Mimimum among the list: 1\n",
      "Maximum among the list: 159\n",
      "Mean of the list: 7.960629921259843\n",
      "Standard Deviation of the list: 14.182389864912208\n",
      "Number of problems above the Mean+STD:27\n",
      "Number of problems above the Mean-STD:0\n"
     ]
    }
   ],
   "source": [
    "get_stats(RE_test_li)"
   ]
  },
  {
   "cell_type": "code",
   "execution_count": 55,
   "id": "0e7993c1",
   "metadata": {},
   "outputs": [
    {
     "name": "stdout",
     "output_type": "stream",
     "text": [
      "Length of list: 254\n",
      "Mimimum among the list: 0\n",
      "Maximum among the list: 52\n",
      "Mean of the list: 5.751968503937008\n",
      "Standard Deviation of the list: 6.885844779670586\n",
      "Number of problems above the Mean+STD:25\n",
      "Number of problems above the Mean-STD:0\n"
     ]
    }
   ],
   "source": [
    "get_stats(CE_test_li)"
   ]
  },
  {
   "cell_type": "code",
   "execution_count": null,
   "id": "db3d4bbe",
   "metadata": {},
   "outputs": [],
   "source": []
  }
 ],
 "metadata": {
  "kernelspec": {
   "display_name": "Python 3 (ipykernel)",
   "language": "python",
   "name": "python3"
  },
  "language_info": {
   "codemirror_mode": {
    "name": "ipython",
    "version": 3
   },
   "file_extension": ".py",
   "mimetype": "text/x-python",
   "name": "python",
   "nbconvert_exporter": "python",
   "pygments_lexer": "ipython3",
   "version": "3.9.7"
  }
 },
 "nbformat": 4,
 "nbformat_minor": 5
}
