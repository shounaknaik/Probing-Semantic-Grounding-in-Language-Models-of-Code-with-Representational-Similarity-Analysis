{
 "cells": [
  {
   "cell_type": "code",
   "execution_count": 283,
   "id": "d76a913c",
   "metadata": {},
   "outputs": [],
   "source": [
    "import pandas as pd"
   ]
  },
  {
   "cell_type": "code",
   "execution_count": 284,
   "id": "a2fb9420",
   "metadata": {},
   "outputs": [],
   "source": [
    "from bs4 import BeautifulSoup\n",
    "import glob"
   ]
  },
  {
   "cell_type": "code",
   "execution_count": 285,
   "id": "e95c3b2f",
   "metadata": {},
   "outputs": [],
   "source": [
    "import re\n",
    "import pickle"
   ]
  },
  {
   "cell_type": "code",
   "execution_count": 286,
   "id": "2145df5a",
   "metadata": {},
   "outputs": [],
   "source": [
    "from tqdm import tqdm"
   ]
  },
  {
   "cell_type": "code",
   "execution_count": 287,
   "id": "7ca8aa1c",
   "metadata": {},
   "outputs": [],
   "source": [
    "# from deep_translator import DeepL"
   ]
  },
  {
   "cell_type": "code",
   "execution_count": 288,
   "id": "60cbadbd",
   "metadata": {},
   "outputs": [],
   "source": [
    "with open('./metadata/problem_list.csv','r') as f:\n",
    "    df=pd.read_csv(f)\n",
    "    "
   ]
  },
  {
   "cell_type": "code",
   "execution_count": 289,
   "id": "289bf66c",
   "metadata": {},
   "outputs": [
    {
     "data": {
      "text/html": [
       "<div>\n",
       "<style scoped>\n",
       "    .dataframe tbody tr th:only-of-type {\n",
       "        vertical-align: middle;\n",
       "    }\n",
       "\n",
       "    .dataframe tbody tr th {\n",
       "        vertical-align: top;\n",
       "    }\n",
       "\n",
       "    .dataframe thead th {\n",
       "        text-align: right;\n",
       "    }\n",
       "</style>\n",
       "<table border=\"1\" class=\"dataframe\">\n",
       "  <thead>\n",
       "    <tr style=\"text-align: right;\">\n",
       "      <th></th>\n",
       "      <th>id</th>\n",
       "      <th>name</th>\n",
       "      <th>dataset</th>\n",
       "      <th>time_limit</th>\n",
       "      <th>memory_limit</th>\n",
       "      <th>rating</th>\n",
       "      <th>tags</th>\n",
       "      <th>complexity</th>\n",
       "    </tr>\n",
       "  </thead>\n",
       "  <tbody>\n",
       "    <tr>\n",
       "      <th>0</th>\n",
       "      <td>p00000</td>\n",
       "      <td>QQ</td>\n",
       "      <td>AIZU</td>\n",
       "      <td>1000.0</td>\n",
       "      <td>131072.0</td>\n",
       "      <td>NaN</td>\n",
       "      <td>NaN</td>\n",
       "      <td>NaN</td>\n",
       "    </tr>\n",
       "    <tr>\n",
       "      <th>1</th>\n",
       "      <td>p00001</td>\n",
       "      <td>List of Top 3 Hills</td>\n",
       "      <td>AIZU</td>\n",
       "      <td>1000.0</td>\n",
       "      <td>131072.0</td>\n",
       "      <td>NaN</td>\n",
       "      <td>NaN</td>\n",
       "      <td>NaN</td>\n",
       "    </tr>\n",
       "    <tr>\n",
       "      <th>2</th>\n",
       "      <td>p00002</td>\n",
       "      <td>Digit Number</td>\n",
       "      <td>AIZU</td>\n",
       "      <td>1000.0</td>\n",
       "      <td>131072.0</td>\n",
       "      <td>NaN</td>\n",
       "      <td>NaN</td>\n",
       "      <td>NaN</td>\n",
       "    </tr>\n",
       "    <tr>\n",
       "      <th>3</th>\n",
       "      <td>p00003</td>\n",
       "      <td>Is it a Right Triangle?</td>\n",
       "      <td>AIZU</td>\n",
       "      <td>1000.0</td>\n",
       "      <td>131072.0</td>\n",
       "      <td>NaN</td>\n",
       "      <td>NaN</td>\n",
       "      <td>NaN</td>\n",
       "    </tr>\n",
       "    <tr>\n",
       "      <th>4</th>\n",
       "      <td>p00004</td>\n",
       "      <td>Simultaneous Equation</td>\n",
       "      <td>AIZU</td>\n",
       "      <td>1000.0</td>\n",
       "      <td>131072.0</td>\n",
       "      <td>NaN</td>\n",
       "      <td>NaN</td>\n",
       "      <td>NaN</td>\n",
       "    </tr>\n",
       "  </tbody>\n",
       "</table>\n",
       "</div>"
      ],
      "text/plain": [
       "       id                     name dataset  time_limit  memory_limit  rating  \\\n",
       "0  p00000                       QQ    AIZU      1000.0      131072.0     NaN   \n",
       "1  p00001      List of Top 3 Hills    AIZU      1000.0      131072.0     NaN   \n",
       "2  p00002             Digit Number    AIZU      1000.0      131072.0     NaN   \n",
       "3  p00003  Is it a Right Triangle?    AIZU      1000.0      131072.0     NaN   \n",
       "4  p00004    Simultaneous Equation    AIZU      1000.0      131072.0     NaN   \n",
       "\n",
       "   tags  complexity  \n",
       "0   NaN         NaN  \n",
       "1   NaN         NaN  \n",
       "2   NaN         NaN  \n",
       "3   NaN         NaN  \n",
       "4   NaN         NaN  "
      ]
     },
     "execution_count": 289,
     "metadata": {},
     "output_type": "execute_result"
    }
   ],
   "source": [
    "df.head()"
   ]
  },
  {
   "cell_type": "code",
   "execution_count": 290,
   "id": "3b7e44d0",
   "metadata": {},
   "outputs": [
    {
     "data": {
      "text/html": [
       "<div>\n",
       "<style scoped>\n",
       "    .dataframe tbody tr th:only-of-type {\n",
       "        vertical-align: middle;\n",
       "    }\n",
       "\n",
       "    .dataframe tbody tr th {\n",
       "        vertical-align: top;\n",
       "    }\n",
       "\n",
       "    .dataframe thead th {\n",
       "        text-align: right;\n",
       "    }\n",
       "</style>\n",
       "<table border=\"1\" class=\"dataframe\">\n",
       "  <thead>\n",
       "    <tr style=\"text-align: right;\">\n",
       "      <th></th>\n",
       "      <th>id</th>\n",
       "      <th>name</th>\n",
       "      <th>dataset</th>\n",
       "    </tr>\n",
       "  </thead>\n",
       "  <tbody>\n",
       "    <tr>\n",
       "      <th>0</th>\n",
       "      <td>p00000</td>\n",
       "      <td>QQ</td>\n",
       "      <td>AIZU</td>\n",
       "    </tr>\n",
       "    <tr>\n",
       "      <th>1</th>\n",
       "      <td>p00001</td>\n",
       "      <td>List of Top 3 Hills</td>\n",
       "      <td>AIZU</td>\n",
       "    </tr>\n",
       "    <tr>\n",
       "      <th>2</th>\n",
       "      <td>p00002</td>\n",
       "      <td>Digit Number</td>\n",
       "      <td>AIZU</td>\n",
       "    </tr>\n",
       "    <tr>\n",
       "      <th>3</th>\n",
       "      <td>p00003</td>\n",
       "      <td>Is it a Right Triangle?</td>\n",
       "      <td>AIZU</td>\n",
       "    </tr>\n",
       "    <tr>\n",
       "      <th>4</th>\n",
       "      <td>p00004</td>\n",
       "      <td>Simultaneous Equation</td>\n",
       "      <td>AIZU</td>\n",
       "    </tr>\n",
       "  </tbody>\n",
       "</table>\n",
       "</div>"
      ],
      "text/plain": [
       "       id                     name dataset\n",
       "0  p00000                       QQ    AIZU\n",
       "1  p00001      List of Top 3 Hills    AIZU\n",
       "2  p00002             Digit Number    AIZU\n",
       "3  p00003  Is it a Right Triangle?    AIZU\n",
       "4  p00004    Simultaneous Equation    AIZU"
      ]
     },
     "execution_count": 290,
     "metadata": {},
     "output_type": "execute_result"
    }
   ],
   "source": [
    "df=df[['id','name','dataset']]\n",
    "df.head()"
   ]
  },
  {
   "cell_type": "code",
   "execution_count": 291,
   "id": "af93ffe0",
   "metadata": {},
   "outputs": [],
   "source": [
    "html_doc='./problem_descriptions/p00000.html'\n",
    "with open(html_doc,'r') as f:\n",
    "    soup=BeautifulSoup(f,'html.parser')\n",
    "# soup = BeautifulSoup(html_doc, 'html.parser')"
   ]
  },
  {
   "cell_type": "code",
   "execution_count": null,
   "id": "b263c55c",
   "metadata": {},
   "outputs": [],
   "source": []
  },
  {
   "cell_type": "code",
   "execution_count": 292,
   "id": "5a681976",
   "metadata": {},
   "outputs": [],
   "source": [
    "def remove_html_tags(text):\n",
    "    \"\"\"Remove html tags from a string\"\"\"\n",
    "    clean = re.compile('<.*?>')\n",
    "    return re.sub(clean, '', text)"
   ]
  },
  {
   "cell_type": "code",
   "execution_count": null,
   "id": "4547235e",
   "metadata": {},
   "outputs": [],
   "source": []
  },
  {
   "cell_type": "code",
   "execution_count": null,
   "id": "4d6135a9",
   "metadata": {},
   "outputs": [],
   "source": []
  },
  {
   "cell_type": "code",
   "execution_count": null,
   "id": "9b5c2212",
   "metadata": {},
   "outputs": [],
   "source": []
  },
  {
   "cell_type": "code",
   "execution_count": 293,
   "id": "0254a61f",
   "metadata": {},
   "outputs": [],
   "source": [
    "html_files=glob.glob('./problem_descriptions/p0*.html')\n",
    "html_files=sorted(html_files)\n",
    "\n"
   ]
  },
  {
   "cell_type": "code",
   "execution_count": 294,
   "id": "bed58592",
   "metadata": {},
   "outputs": [
    {
     "data": {
      "text/plain": [
       "3999"
      ]
     },
     "execution_count": 294,
     "metadata": {},
     "output_type": "execute_result"
    }
   ],
   "source": [
    "len(html_files)"
   ]
  },
  {
   "cell_type": "code",
   "execution_count": null,
   "id": "9faa8b21",
   "metadata": {},
   "outputs": [],
   "source": []
  },
  {
   "cell_type": "code",
   "execution_count": null,
   "id": "49eef33c",
   "metadata": {},
   "outputs": [],
   "source": []
  },
  {
   "cell_type": "code",
   "execution_count": 295,
   "id": "c9433b2f",
   "metadata": {},
   "outputs": [],
   "source": [
    "description_dict={}"
   ]
  },
  {
   "cell_type": "code",
   "execution_count": null,
   "id": "13b7f040",
   "metadata": {},
   "outputs": [],
   "source": [
    "\n"
   ]
  },
  {
   "cell_type": "code",
   "execution_count": null,
   "id": "05ec9692",
   "metadata": {},
   "outputs": [],
   "source": []
  },
  {
   "cell_type": "code",
   "execution_count": null,
   "id": "a487e749",
   "metadata": {},
   "outputs": [],
   "source": []
  },
  {
   "cell_type": "code",
   "execution_count": 296,
   "id": "83f88ece",
   "metadata": {},
   "outputs": [
    {
     "data": {
      "text/html": [
       "<div>\n",
       "<style scoped>\n",
       "    .dataframe tbody tr th:only-of-type {\n",
       "        vertical-align: middle;\n",
       "    }\n",
       "\n",
       "    .dataframe tbody tr th {\n",
       "        vertical-align: top;\n",
       "    }\n",
       "\n",
       "    .dataframe thead th {\n",
       "        text-align: right;\n",
       "    }\n",
       "</style>\n",
       "<table border=\"1\" class=\"dataframe\">\n",
       "  <thead>\n",
       "    <tr style=\"text-align: right;\">\n",
       "      <th></th>\n",
       "      <th>id</th>\n",
       "      <th>name</th>\n",
       "      <th>dataset</th>\n",
       "      <th>time_limit</th>\n",
       "      <th>memory_limit</th>\n",
       "      <th>rating</th>\n",
       "      <th>tags</th>\n",
       "      <th>complexity</th>\n",
       "    </tr>\n",
       "  </thead>\n",
       "  <tbody>\n",
       "    <tr>\n",
       "      <th>0</th>\n",
       "      <td>p00000</td>\n",
       "      <td>QQ</td>\n",
       "      <td>AIZU</td>\n",
       "      <td>1000.0</td>\n",
       "      <td>131072.0</td>\n",
       "      <td>NaN</td>\n",
       "      <td>NaN</td>\n",
       "      <td>NaN</td>\n",
       "    </tr>\n",
       "    <tr>\n",
       "      <th>1</th>\n",
       "      <td>p00001</td>\n",
       "      <td>List of Top 3 Hills</td>\n",
       "      <td>AIZU</td>\n",
       "      <td>1000.0</td>\n",
       "      <td>131072.0</td>\n",
       "      <td>NaN</td>\n",
       "      <td>NaN</td>\n",
       "      <td>NaN</td>\n",
       "    </tr>\n",
       "    <tr>\n",
       "      <th>2</th>\n",
       "      <td>p00002</td>\n",
       "      <td>Digit Number</td>\n",
       "      <td>AIZU</td>\n",
       "      <td>1000.0</td>\n",
       "      <td>131072.0</td>\n",
       "      <td>NaN</td>\n",
       "      <td>NaN</td>\n",
       "      <td>NaN</td>\n",
       "    </tr>\n",
       "    <tr>\n",
       "      <th>3</th>\n",
       "      <td>p00003</td>\n",
       "      <td>Is it a Right Triangle?</td>\n",
       "      <td>AIZU</td>\n",
       "      <td>1000.0</td>\n",
       "      <td>131072.0</td>\n",
       "      <td>NaN</td>\n",
       "      <td>NaN</td>\n",
       "      <td>NaN</td>\n",
       "    </tr>\n",
       "    <tr>\n",
       "      <th>4</th>\n",
       "      <td>p00004</td>\n",
       "      <td>Simultaneous Equation</td>\n",
       "      <td>AIZU</td>\n",
       "      <td>1000.0</td>\n",
       "      <td>131072.0</td>\n",
       "      <td>NaN</td>\n",
       "      <td>NaN</td>\n",
       "      <td>NaN</td>\n",
       "    </tr>\n",
       "  </tbody>\n",
       "</table>\n",
       "</div>"
      ],
      "text/plain": [
       "       id                     name dataset  time_limit  memory_limit  rating  \\\n",
       "0  p00000                       QQ    AIZU      1000.0      131072.0     NaN   \n",
       "1  p00001      List of Top 3 Hills    AIZU      1000.0      131072.0     NaN   \n",
       "2  p00002             Digit Number    AIZU      1000.0      131072.0     NaN   \n",
       "3  p00003  Is it a Right Triangle?    AIZU      1000.0      131072.0     NaN   \n",
       "4  p00004    Simultaneous Equation    AIZU      1000.0      131072.0     NaN   \n",
       "\n",
       "   tags  complexity  \n",
       "0   NaN         NaN  \n",
       "1   NaN         NaN  \n",
       "2   NaN         NaN  \n",
       "3   NaN         NaN  \n",
       "4   NaN         NaN  "
      ]
     },
     "execution_count": 296,
     "metadata": {},
     "output_type": "execute_result"
    }
   ],
   "source": [
    "problem_descriptions_df=pd.read_csv('./metadata/problem_list.csv')\n",
    "problem_descriptions_df.head()"
   ]
  },
  {
   "cell_type": "code",
   "execution_count": null,
   "id": "89e30004",
   "metadata": {},
   "outputs": [],
   "source": []
  },
  {
   "cell_type": "code",
   "execution_count": null,
   "id": "cf791d8a",
   "metadata": {},
   "outputs": [],
   "source": []
  },
  {
   "cell_type": "code",
   "execution_count": null,
   "id": "6cba0862",
   "metadata": {},
   "outputs": [],
   "source": []
  },
  {
   "cell_type": "code",
   "execution_count": 297,
   "id": "4001a0ab",
   "metadata": {},
   "outputs": [],
   "source": [
    "# html_files=['./problem_descriptions/p00441.html']"
   ]
  },
  {
   "cell_type": "code",
   "execution_count": 298,
   "id": "298d8e3a",
   "metadata": {},
   "outputs": [
    {
     "name": "stderr",
     "output_type": "stream",
     "text": [
      "100%|█████████████████████████████████████| 3999/3999 [00:03<00:00, 1321.58it/s]\n"
     ]
    }
   ],
   "source": [
    "for file in tqdm(html_files,total=len(html_files)):\n",
    "    \n",
    "    with open(file,'r') as f:\n",
    "        text=f.read()\n",
    "        \n",
    "        \n",
    "#     print(file)   \n",
    "        \n",
    "    pid=file.split('/')[-1].split('.ht')[0]\n",
    "    \n",
    "    \n",
    "    if pid not in description_dict:\n",
    "        description_dict[pid]=[]\n",
    "        \n",
    "    title_csv=problem_descriptions_df.loc[df['id']== pid]['name'].item()\n",
    "    \n",
    "    \n",
    "    desc=text.lower().split('</p>')[0].split('<p>')\n",
    "        \n",
    "        \n",
    "        \n",
    "        \n",
    "    section_text=text.lower().split('</section>')[0]\n",
    "    section_text=section_text.split('<section>')[-1]\n",
    "    \n",
    "    \n",
    "    \n",
    "    \n",
    "\n",
    "    title_temp=re.split('</h[1-9]>',section_text)[0]\n",
    "    title=re.split('<h[1-9]>',title_temp)[-1]\n",
    "    title=remove_html_tags(title)\n",
    "    \n",
    "    \n",
    "    rem_section_text=section_text[len(title_temp)+5:]\n",
    "    \n",
    "#     print(len(re.split('<h[1-9]>',rem_section_text)))\n",
    "#     print(re.split('<h[1-9]>',rem_section_text))\n",
    "\n",
    "    rem_section_li=re.split('<h[1-9]>',rem_section_text)\n",
    "    \n",
    "    rem_section_text=rem_section_li[0]\n",
    "\n",
    "    \n",
    "    li=re.split('</p>|</li>',rem_section_text)\n",
    "\n",
    "    \n",
    "    for i,item in enumerate(li):\n",
    "        li[i]=re.split('<p>|<li>',li[i])[-1]\n",
    "\n",
    "    \n",
    "    description=\" \".join(li)\n",
    "    description=remove_html_tags(description)\n",
    "    \n",
    "    sec_description=' '\n",
    "    if len(rem_section_li)>1:\n",
    "#         print(file)\n",
    "        \n",
    "        rem_section_text_secondary=rem_section_li[1]\n",
    "    \n",
    "        sec_li=re.split('</p>|</li>',rem_section_text_secondary)\n",
    "\n",
    "        for i,item in enumerate(sec_li):\n",
    "            sec_li[i]=re.split('<p>|<li>',sec_li[i])[-1]\n",
    "\n",
    "\n",
    "        sec_description=\" \".join(sec_li)\n",
    "        sec_description=remove_html_tags(sec_description)\n",
    "\n",
    "    \n",
    "    \n",
    "\n",
    "\n",
    "    description_dict[pid].append(title_csv)\n",
    "    description_dict[pid].append(title)\n",
    "    description_dict[pid].append(description)\n",
    "    description_dict[pid].append(sec_description)\n",
    "    \n",
    "#     break\n",
    "    \n",
    "    \n",
    "        \n",
    "    \n",
    "        \n",
    "    \n",
    "    \n",
    "    "
   ]
  },
  {
   "cell_type": "code",
   "execution_count": 299,
   "id": "10e4feb3",
   "metadata": {},
   "outputs": [],
   "source": [
    "# description_dict['p00001']"
   ]
  },
  {
   "cell_type": "code",
   "execution_count": 300,
   "id": "29aa203f",
   "metadata": {},
   "outputs": [
    {
     "data": {
      "text/html": [
       "<div>\n",
       "<style scoped>\n",
       "    .dataframe tbody tr th:only-of-type {\n",
       "        vertical-align: middle;\n",
       "    }\n",
       "\n",
       "    .dataframe tbody tr th {\n",
       "        vertical-align: top;\n",
       "    }\n",
       "\n",
       "    .dataframe thead th {\n",
       "        text-align: right;\n",
       "    }\n",
       "</style>\n",
       "<table border=\"1\" class=\"dataframe\">\n",
       "  <thead>\n",
       "    <tr style=\"text-align: right;\">\n",
       "      <th></th>\n",
       "      <th>Title_CSV</th>\n",
       "      <th>Title</th>\n",
       "      <th>Description</th>\n",
       "      <th>Sec_Description</th>\n",
       "    </tr>\n",
       "  </thead>\n",
       "  <tbody>\n",
       "    <tr>\n",
       "      <th>p00000</th>\n",
       "      <td>QQ</td>\n",
       "      <td>qq</td>\n",
       "      <td>\\nwrite a program which prints multiplication ...</td>\n",
       "      <td>\\nno input.\\n \\n\\n</td>\n",
       "    </tr>\n",
       "    <tr>\n",
       "      <th>p00001</th>\n",
       "      <td>List of Top 3 Hills</td>\n",
       "      <td>list of top 3 hills</td>\n",
       "      <td>\\nthere is a data which provides heights (in m...</td>\n",
       "      <td>input\\n\\n\\nheight of mountain 1\\nheight of mou...</td>\n",
       "    </tr>\n",
       "    <tr>\n",
       "      <th>p00002</th>\n",
       "      <td>Digit Number</td>\n",
       "      <td>digit number</td>\n",
       "      <td>\\nwrite a program which computes the digit num...</td>\n",
       "      <td>\\nthere are several test cases. each test case...</td>\n",
       "    </tr>\n",
       "    <tr>\n",
       "      <th>p00003</th>\n",
       "      <td>Is it a Right Triangle?</td>\n",
       "      <td>is it a right triangle?</td>\n",
       "      <td>\\nwrite a program which judges wheather given ...</td>\n",
       "      <td>\\ninput consists of several data sets. in the ...</td>\n",
       "    </tr>\n",
       "    <tr>\n",
       "      <th>p00004</th>\n",
       "      <td>Simultaneous Equation</td>\n",
       "      <td>simultaneous equation</td>\n",
       "      <td>\\nwrite a program which solve a simultaneous e...</td>\n",
       "      <td>\\nthe input consists of several data sets, 1 l...</td>\n",
       "    </tr>\n",
       "  </tbody>\n",
       "</table>\n",
       "</div>"
      ],
      "text/plain": [
       "                      Title_CSV                    Title  \\\n",
       "p00000                       QQ                       qq   \n",
       "p00001      List of Top 3 Hills      list of top 3 hills   \n",
       "p00002             Digit Number             digit number   \n",
       "p00003  Is it a Right Triangle?  is it a right triangle?   \n",
       "p00004    Simultaneous Equation    simultaneous equation   \n",
       "\n",
       "                                              Description  \\\n",
       "p00000  \\nwrite a program which prints multiplication ...   \n",
       "p00001  \\nthere is a data which provides heights (in m...   \n",
       "p00002  \\nwrite a program which computes the digit num...   \n",
       "p00003  \\nwrite a program which judges wheather given ...   \n",
       "p00004  \\nwrite a program which solve a simultaneous e...   \n",
       "\n",
       "                                          Sec_Description  \n",
       "p00000                                 \\nno input.\\n \\n\\n  \n",
       "p00001  input\\n\\n\\nheight of mountain 1\\nheight of mou...  \n",
       "p00002  \\nthere are several test cases. each test case...  \n",
       "p00003  \\ninput consists of several data sets. in the ...  \n",
       "p00004  \\nthe input consists of several data sets, 1 l...  "
      ]
     },
     "execution_count": 300,
     "metadata": {},
     "output_type": "execute_result"
    }
   ],
   "source": [
    "df=pd.DataFrame.from_dict(description_dict,orient='index',columns=['Title_CSV','Title','Description','Sec_Description'])\n",
    "df.head()"
   ]
  },
  {
   "cell_type": "code",
   "execution_count": 301,
   "id": "78b7c1bf",
   "metadata": {},
   "outputs": [
    {
     "data": {
      "text/plain": [
       "'\\nno input.\\n \\n\\n'"
      ]
     },
     "execution_count": 301,
     "metadata": {},
     "output_type": "execute_result"
    }
   ],
   "source": [
    "df.iloc[0]['Sec_Description']"
   ]
  },
  {
   "cell_type": "code",
   "execution_count": 302,
   "id": "2d4fef0c",
   "metadata": {},
   "outputs": [],
   "source": [
    "df=df.reset_index()"
   ]
  },
  {
   "cell_type": "code",
   "execution_count": 303,
   "id": "989bcb09",
   "metadata": {},
   "outputs": [
    {
     "data": {
      "text/html": [
       "<div>\n",
       "<style scoped>\n",
       "    .dataframe tbody tr th:only-of-type {\n",
       "        vertical-align: middle;\n",
       "    }\n",
       "\n",
       "    .dataframe tbody tr th {\n",
       "        vertical-align: top;\n",
       "    }\n",
       "\n",
       "    .dataframe thead th {\n",
       "        text-align: right;\n",
       "    }\n",
       "</style>\n",
       "<table border=\"1\" class=\"dataframe\">\n",
       "  <thead>\n",
       "    <tr style=\"text-align: right;\">\n",
       "      <th></th>\n",
       "      <th>index</th>\n",
       "      <th>Title_CSV</th>\n",
       "      <th>Title</th>\n",
       "      <th>Description</th>\n",
       "      <th>Sec_Description</th>\n",
       "    </tr>\n",
       "  </thead>\n",
       "  <tbody>\n",
       "    <tr>\n",
       "      <th>441</th>\n",
       "      <td>p00441</td>\n",
       "      <td>The Oldest Site</td>\n",
       "      <td>最古の遺跡</td>\n",
       "      <td>\\n\\n</td>\n",
       "      <td>\\n 昔, そこには集落があり, 多くの人が暮らしていた. 人々は形も大きさも様々な建物を建...</td>\n",
       "    </tr>\n",
       "  </tbody>\n",
       "</table>\n",
       "</div>"
      ],
      "text/plain": [
       "      index        Title_CSV    Title Description  \\\n",
       "441  p00441  The Oldest Site  最古の遺跡          \\n\\n   \n",
       "\n",
       "                                       Sec_Description  \n",
       "441  \\n 昔, そこには集落があり, 多くの人が暮らしていた. 人々は形も大きさも様々な建物を建...  "
      ]
     },
     "execution_count": 303,
     "metadata": {},
     "output_type": "execute_result"
    }
   ],
   "source": [
    "df.loc[df['index']=='p00441']"
   ]
  },
  {
   "cell_type": "code",
   "execution_count": 304,
   "id": "e9e52419",
   "metadata": {},
   "outputs": [
    {
     "data": {
      "text/html": [
       "<div>\n",
       "<style scoped>\n",
       "    .dataframe tbody tr th:only-of-type {\n",
       "        vertical-align: middle;\n",
       "    }\n",
       "\n",
       "    .dataframe tbody tr th {\n",
       "        vertical-align: top;\n",
       "    }\n",
       "\n",
       "    .dataframe thead th {\n",
       "        text-align: right;\n",
       "    }\n",
       "</style>\n",
       "<table border=\"1\" class=\"dataframe\">\n",
       "  <thead>\n",
       "    <tr style=\"text-align: right;\">\n",
       "      <th></th>\n",
       "      <th>index</th>\n",
       "      <th>Title_CSV</th>\n",
       "      <th>Title</th>\n",
       "      <th>Description</th>\n",
       "      <th>Sec_Description</th>\n",
       "    </tr>\n",
       "  </thead>\n",
       "  <tbody>\n",
       "    <tr>\n",
       "      <th>2522</th>\n",
       "      <td>p02576</td>\n",
       "      <td>AtCoder Beginner Contest 176 - Takoyaki</td>\n",
       "      <td>problem statement</td>\n",
       "      <td>takahashi loves takoyaki - a ball-shaped snack...</td>\n",
       "      <td></td>\n",
       "    </tr>\n",
       "    <tr>\n",
       "      <th>1405</th>\n",
       "      <td>p01405</td>\n",
       "      <td>Oh</td>\n",
       "      <td>\\nproblem h: oh, my goat!\\n</td>\n",
       "      <td>\\n太郎君は、次郎君に古文のノートを借りた。\\n明日の古文の宿題を写させてもらうためだ。\\n...</td>\n",
       "      <td>\\n入力の1行目では、データセットの数t(1 &amp;le; t &amp;le; 100)が与えられる。...</td>\n",
       "    </tr>\n",
       "    <tr>\n",
       "      <th>1055</th>\n",
       "      <td>p01055</td>\n",
       "      <td>Bomb Removal</td>\n",
       "      <td>bomb removal</td>\n",
       "      <td>\\n\\n</td>\n",
       "      <td>\\n縦h&amp;times;横wのグリッド上にn個の点火された導火線とそれぞれに対する1つの爆弾が...</td>\n",
       "    </tr>\n",
       "    <tr>\n",
       "      <th>641</th>\n",
       "      <td>p00641</td>\n",
       "      <td>Huge Family</td>\n",
       "      <td>problem e: huge family</td>\n",
       "      <td>\\nmr. dango's family has extremely huge number...</td>\n",
       "      <td>\\nthe input consists of several datasets.\\n \\n...</td>\n",
       "    </tr>\n",
       "    <tr>\n",
       "      <th>3869</th>\n",
       "      <td>p03923</td>\n",
       "      <td>CODE FESTIVAL 2016 Final (Parallel) - Cookies</td>\n",
       "      <td>problem statement</td>\n",
       "      <td>rng is baking cookies. initially, he can bake ...</td>\n",
       "      <td></td>\n",
       "    </tr>\n",
       "    <tr>\n",
       "      <th>96</th>\n",
       "      <td>p00096</td>\n",
       "      <td>Sum of 4 Integers II</td>\n",
       "      <td>４つの整数の和 ii</td>\n",
       "      <td>\\n4,000 以下の正の整数 n を入力し、0 〜 1000 の範囲の整数 a, b, c...</td>\n",
       "      <td>\\n複数のデータセットが与えられます。各データセットに n が１行に与えられます。入力の最後...</td>\n",
       "    </tr>\n",
       "    <tr>\n",
       "      <th>3521</th>\n",
       "      <td>p03575</td>\n",
       "      <td>AtCoder Beginner Contest 075 - Bridge</td>\n",
       "      <td>problem statement</td>\n",
       "      <td>you are given an undirected connected graph wi...</td>\n",
       "      <td></td>\n",
       "    </tr>\n",
       "    <tr>\n",
       "      <th>3198</th>\n",
       "      <td>p03252</td>\n",
       "      <td>AtCoder Beginner Contest 110 - String Transfor...</td>\n",
       "      <td>problem statement</td>\n",
       "      <td>you are given strings s and t consisting of lo...</td>\n",
       "      <td></td>\n",
       "    </tr>\n",
       "    <tr>\n",
       "      <th>1170</th>\n",
       "      <td>p01170</td>\n",
       "      <td>Robots' Crash</td>\n",
       "      <td>problem h: robot's crash</td>\n",
       "      <td>\\nprof. jenifer a. gibson is carrying out expe...</td>\n",
       "      <td>\\nthe input consists of multiple datasets. eac...</td>\n",
       "    </tr>\n",
       "    <tr>\n",
       "      <th>2151</th>\n",
       "      <td>p02151</td>\n",
       "      <td>Phone Number</td>\n",
       "      <td>problem c: phone number</td>\n",
       "      <td>\\n\\n</td>\n",
       "      <td>\\n株式会社ウクニキアの電話番、デンさんは毎日とても長い電話番号を電話に入力しています。\\n...</td>\n",
       "    </tr>\n",
       "    <tr>\n",
       "      <th>2059</th>\n",
       "      <td>p02059</td>\n",
       "      <td>Revenge of UMG</td>\n",
       "      <td>h: revenge of umg</td>\n",
       "      <td>\\n\\n</td>\n",
       "      <td>'u', 'm', 'g' の三種類の文字からなる文字列 t に対し、1, 2, ..., ...</td>\n",
       "    </tr>\n",
       "    <tr>\n",
       "      <th>506</th>\n",
       "      <td>p00506</td>\n",
       "      <td>Common Divisors</td>\n",
       "      <td>問題 ２</td>\n",
       "      <td>\\n　入力ファイルの１行目に正整数 n が書いてあり，\\n２行目には半角空白文字１つを区切り...</td>\n",
       "      <td>入出力例\\n\\n</td>\n",
       "    </tr>\n",
       "    <tr>\n",
       "      <th>1152</th>\n",
       "      <td>p01152</td>\n",
       "      <td>Reading a Chord</td>\n",
       "      <td>problem e: reading a chord</td>\n",
       "      <td>\\nin this problem, you are required to write a...</td>\n",
       "      <td>\\nthe first line of input contains an integer ...</td>\n",
       "    </tr>\n",
       "    <tr>\n",
       "      <th>3407</th>\n",
       "      <td>p03461</td>\n",
       "      <td>AtCoder Regular Contest 089 - GraphXY</td>\n",
       "      <td>problem statement</td>\n",
       "      <td>atcodeer the deer wants a directed graph that ...</td>\n",
       "      <td></td>\n",
       "    </tr>\n",
       "    <tr>\n",
       "      <th>3516</th>\n",
       "      <td>p03570</td>\n",
       "      <td>CODE FESTIVAL 2017 qual C - Yet Another Palind...</td>\n",
       "      <td>problem statement</td>\n",
       "      <td>we have a string s consisting of lowercase eng...</td>\n",
       "      <td></td>\n",
       "    </tr>\n",
       "    <tr>\n",
       "      <th>2093</th>\n",
       "      <td>p02093</td>\n",
       "      <td>Invariant Tree</td>\n",
       "      <td>f: invariant tree</td>\n",
       "      <td>\\n\\n</td>\n",
       "      <td>you have a permutation p_1, p_2, ... , p_n of ...</td>\n",
       "    </tr>\n",
       "    <tr>\n",
       "      <th>714</th>\n",
       "      <td>p00714</td>\n",
       "      <td>Water Tank</td>\n",
       "      <td>\\nproblem e: water tank\\n</td>\n",
       "      <td>\\nmr. denjiro is a science teacher.\\n\\ntoday h...</td>\n",
       "      <td>\\nthe input consists of multiple data sets.\\n\\...</td>\n",
       "    </tr>\n",
       "    <tr>\n",
       "      <th>2615</th>\n",
       "      <td>p02669</td>\n",
       "      <td>AtCoder Grand Contest 044 - Pay to Win</td>\n",
       "      <td>problem statement</td>\n",
       "      <td>you start with the number 0 and you want to re...</td>\n",
       "      <td></td>\n",
       "    </tr>\n",
       "    <tr>\n",
       "      <th>617</th>\n",
       "      <td>p00617</td>\n",
       "      <td>Simple GUI Application</td>\n",
       "      <td>problem c: simple gui application</td>\n",
       "      <td>\\nadvanced creative mobile 社（acm社）では、新しいポータブルコ...</td>\n",
       "      <td>\\n入力は複数のデータセットからなる。各データセットは以下の形式で与えられる：\\n \\nn ...</td>\n",
       "    </tr>\n",
       "    <tr>\n",
       "      <th>314</th>\n",
       "      <td>p00314</td>\n",
       "      <td>Programming Contest</td>\n",
       "      <td>プログラミングコンテスト</td>\n",
       "      <td>\\n今年も白虎大学でプログラミングコンテストが開催されることになりました。コンテストではいく...</td>\n",
       "      <td>\\n入力は以下の形式で与えられる。\\n \\n１行目にチームが正解した問題の数 n (1 &amp;l...</td>\n",
       "    </tr>\n",
       "  </tbody>\n",
       "</table>\n",
       "</div>"
      ],
      "text/plain": [
       "       index                                          Title_CSV  \\\n",
       "2522  p02576            AtCoder Beginner Contest 176 - Takoyaki   \n",
       "1405  p01405                                                 Oh   \n",
       "1055  p01055                                       Bomb Removal   \n",
       "641   p00641                                        Huge Family   \n",
       "3869  p03923      CODE FESTIVAL 2016 Final (Parallel) - Cookies   \n",
       "96    p00096                               Sum of 4 Integers II   \n",
       "3521  p03575              AtCoder Beginner Contest 075 - Bridge   \n",
       "3198  p03252  AtCoder Beginner Contest 110 - String Transfor...   \n",
       "1170  p01170                                      Robots' Crash   \n",
       "2151  p02151                                       Phone Number   \n",
       "2059  p02059                                     Revenge of UMG   \n",
       "506   p00506                                    Common Divisors   \n",
       "1152  p01152                                    Reading a Chord   \n",
       "3407  p03461              AtCoder Regular Contest 089 - GraphXY   \n",
       "3516  p03570  CODE FESTIVAL 2017 qual C - Yet Another Palind...   \n",
       "2093  p02093                                     Invariant Tree   \n",
       "714   p00714                                         Water Tank   \n",
       "2615  p02669             AtCoder Grand Contest 044 - Pay to Win   \n",
       "617   p00617                             Simple GUI Application   \n",
       "314   p00314                                Programming Contest   \n",
       "\n",
       "                                  Title  \\\n",
       "2522                  problem statement   \n",
       "1405        \\nproblem h: oh, my goat!\\n   \n",
       "1055                       bomb removal   \n",
       "641              problem e: huge family   \n",
       "3869                  problem statement   \n",
       "96                           ４つの整数の和 ii   \n",
       "3521                  problem statement   \n",
       "3198                  problem statement   \n",
       "1170           problem h: robot's crash   \n",
       "2151            problem c: phone number   \n",
       "2059                  h: revenge of umg   \n",
       "506                                問題 ２   \n",
       "1152         problem e: reading a chord   \n",
       "3407                  problem statement   \n",
       "3516                  problem statement   \n",
       "2093                  f: invariant tree   \n",
       "714           \\nproblem e: water tank\\n   \n",
       "2615                  problem statement   \n",
       "617   problem c: simple gui application   \n",
       "314                        プログラミングコンテスト   \n",
       "\n",
       "                                            Description  \\\n",
       "2522  takahashi loves takoyaki - a ball-shaped snack...   \n",
       "1405  \\n太郎君は、次郎君に古文のノートを借りた。\\n明日の古文の宿題を写させてもらうためだ。\\n...   \n",
       "1055                                               \\n\\n   \n",
       "641   \\nmr. dango's family has extremely huge number...   \n",
       "3869  rng is baking cookies. initially, he can bake ...   \n",
       "96    \\n4,000 以下の正の整数 n を入力し、0 〜 1000 の範囲の整数 a, b, c...   \n",
       "3521  you are given an undirected connected graph wi...   \n",
       "3198  you are given strings s and t consisting of lo...   \n",
       "1170  \\nprof. jenifer a. gibson is carrying out expe...   \n",
       "2151                                               \\n\\n   \n",
       "2059                                               \\n\\n   \n",
       "506   \\n　入力ファイルの１行目に正整数 n が書いてあり，\\n２行目には半角空白文字１つを区切り...   \n",
       "1152  \\nin this problem, you are required to write a...   \n",
       "3407  atcodeer the deer wants a directed graph that ...   \n",
       "3516  we have a string s consisting of lowercase eng...   \n",
       "2093                                               \\n\\n   \n",
       "714   \\nmr. denjiro is a science teacher.\\n\\ntoday h...   \n",
       "2615  you start with the number 0 and you want to re...   \n",
       "617   \\nadvanced creative mobile 社（acm社）では、新しいポータブルコ...   \n",
       "314   \\n今年も白虎大学でプログラミングコンテストが開催されることになりました。コンテストではいく...   \n",
       "\n",
       "                                        Sec_Description  \n",
       "2522                                                     \n",
       "1405  \\n入力の1行目では、データセットの数t(1 &le; t &le; 100)が与えられる。...  \n",
       "1055  \\n縦h&times;横wのグリッド上にn個の点火された導火線とそれぞれに対する1つの爆弾が...  \n",
       "641   \\nthe input consists of several datasets.\\n \\n...  \n",
       "3869                                                     \n",
       "96    \\n複数のデータセットが与えられます。各データセットに n が１行に与えられます。入力の最後...  \n",
       "3521                                                     \n",
       "3198                                                     \n",
       "1170  \\nthe input consists of multiple datasets. eac...  \n",
       "2151  \\n株式会社ウクニキアの電話番、デンさんは毎日とても長い電話番号を電話に入力しています。\\n...  \n",
       "2059  'u', 'm', 'g' の三種類の文字からなる文字列 t に対し、1, 2, ..., ...  \n",
       "506                                            入出力例\\n\\n  \n",
       "1152  \\nthe first line of input contains an integer ...  \n",
       "3407                                                     \n",
       "3516                                                     \n",
       "2093  you have a permutation p_1, p_2, ... , p_n of ...  \n",
       "714   \\nthe input consists of multiple data sets.\\n\\...  \n",
       "2615                                                     \n",
       "617   \\n入力は複数のデータセットからなる。各データセットは以下の形式で与えられる：\\n \\nn ...  \n",
       "314   \\n入力は以下の形式で与えられる。\\n \\n１行目にチームが正解した問題の数 n (1 &l...  "
      ]
     },
     "execution_count": 304,
     "metadata": {},
     "output_type": "execute_result"
    }
   ],
   "source": [
    "df.sample(20)"
   ]
  },
  {
   "cell_type": "code",
   "execution_count": 305,
   "id": "2be58781",
   "metadata": {},
   "outputs": [],
   "source": [
    "df.to_csv('problem_descriptions_untranslated.csv',index=False)"
   ]
  },
  {
   "cell_type": "code",
   "execution_count": 306,
   "id": "4ab50d96",
   "metadata": {},
   "outputs": [
    {
     "data": {
      "text/plain": [
       "True"
      ]
     },
     "execution_count": 306,
     "metadata": {},
     "output_type": "execute_result"
    }
   ],
   "source": [
    "# type(df['Title_CSV'])\n",
    "df['Title_CSV'].isnull().values.any()"
   ]
  },
  {
   "cell_type": "code",
   "execution_count": 282,
   "id": "421ec395",
   "metadata": {},
   "outputs": [
    {
     "data": {
      "text/html": [
       "<div>\n",
       "<style scoped>\n",
       "    .dataframe tbody tr th:only-of-type {\n",
       "        vertical-align: middle;\n",
       "    }\n",
       "\n",
       "    .dataframe tbody tr th {\n",
       "        vertical-align: top;\n",
       "    }\n",
       "\n",
       "    .dataframe thead th {\n",
       "        text-align: right;\n",
       "    }\n",
       "</style>\n",
       "<table border=\"1\" class=\"dataframe\">\n",
       "  <thead>\n",
       "    <tr style=\"text-align: right;\">\n",
       "      <th></th>\n",
       "      <th>level_0</th>\n",
       "      <th>index</th>\n",
       "      <th>Title_CSV</th>\n",
       "      <th>Title</th>\n",
       "      <th>Description</th>\n",
       "      <th>Sec_Description</th>\n",
       "    </tr>\n",
       "  </thead>\n",
       "  <tbody>\n",
       "    <tr>\n",
       "      <th>434</th>\n",
       "      <td>434</td>\n",
       "      <td>p00434</td>\n",
       "      <td>Who Are The Student Yet To Submit</td>\n",
       "      <td>未提出者は誰だ</td>\n",
       "      <td>\\n\\n</td>\n",
       "      <td>\\njoi大学のm教授はプログラミングの授業を担当している．クラスには30人の受講生がいて各...</td>\n",
       "    </tr>\n",
       "  </tbody>\n",
       "</table>\n",
       "</div>"
      ],
      "text/plain": [
       "     level_0   index                          Title_CSV    Title Description  \\\n",
       "434      434  p00434  Who Are The Student Yet To Submit  未提出者は誰だ        \\n\\n   \n",
       "\n",
       "                                       Sec_Description  \n",
       "434  \\njoi大学のm教授はプログラミングの授業を担当している．クラスには30人の受講生がいて各...  "
      ]
     },
     "execution_count": 282,
     "metadata": {},
     "output_type": "execute_result"
    }
   ],
   "source": [
    "df.loc[df['index']=='p00434']"
   ]
  },
  {
   "cell_type": "code",
   "execution_count": 153,
   "id": "2eb52def",
   "metadata": {},
   "outputs": [
    {
     "ename": "AttributeError",
     "evalue": "'float' object has no attribute 'split'",
     "output_type": "error",
     "traceback": [
      "\u001b[0;31m---------------------------------------------------------------------------\u001b[0m",
      "\u001b[0;31mAttributeError\u001b[0m                            Traceback (most recent call last)",
      "Input \u001b[0;32mIn [153]\u001b[0m, in \u001b[0;36m<cell line: 1>\u001b[0;34m()\u001b[0m\n\u001b[0;32m----> 1\u001b[0m df[\u001b[38;5;124m'\u001b[39m\u001b[38;5;124mTitle_filtered\u001b[39m\u001b[38;5;124m'\u001b[39m]\u001b[38;5;241m=\u001b[39mdf[\u001b[38;5;124m'\u001b[39m\u001b[38;5;124mTitle_CSV\u001b[39m\u001b[38;5;124m'\u001b[39m]\u001b[38;5;241m.\u001b[39mapply(\u001b[38;5;28;01mlambda\u001b[39;00m x:x\u001b[38;5;241m.\u001b[39msplit(\u001b[38;5;124m'\u001b[39m\u001b[38;5;124m-\u001b[39m\u001b[38;5;124m'\u001b[39m)[\u001b[38;5;241m-\u001b[39m\u001b[38;5;241m1\u001b[39m])\n\u001b[1;32m      2\u001b[0m df\u001b[38;5;241m.\u001b[39mhead()\n",
      "File \u001b[0;32m~/anaconda3/envs/probeBERT/lib/python3.9/site-packages/pandas/core/series.py:4357\u001b[0m, in \u001b[0;36mSeries.apply\u001b[0;34m(self, func, convert_dtype, args, **kwargs)\u001b[0m\n\u001b[1;32m   4247\u001b[0m \u001b[38;5;28;01mdef\u001b[39;00m \u001b[38;5;21mapply\u001b[39m(\n\u001b[1;32m   4248\u001b[0m     \u001b[38;5;28mself\u001b[39m,\n\u001b[1;32m   4249\u001b[0m     func: AggFuncType,\n\u001b[0;32m   (...)\u001b[0m\n\u001b[1;32m   4252\u001b[0m     \u001b[38;5;241m*\u001b[39m\u001b[38;5;241m*\u001b[39mkwargs,\n\u001b[1;32m   4253\u001b[0m ) \u001b[38;5;241m-\u001b[39m\u001b[38;5;241m>\u001b[39m FrameOrSeriesUnion:\n\u001b[1;32m   4254\u001b[0m     \u001b[38;5;124;03m\"\"\"\u001b[39;00m\n\u001b[1;32m   4255\u001b[0m \u001b[38;5;124;03m    Invoke function on values of Series.\u001b[39;00m\n\u001b[1;32m   4256\u001b[0m \n\u001b[0;32m   (...)\u001b[0m\n\u001b[1;32m   4355\u001b[0m \u001b[38;5;124;03m    dtype: float64\u001b[39;00m\n\u001b[1;32m   4356\u001b[0m \u001b[38;5;124;03m    \"\"\"\u001b[39;00m\n\u001b[0;32m-> 4357\u001b[0m     \u001b[38;5;28;01mreturn\u001b[39;00m \u001b[43mSeriesApply\u001b[49m\u001b[43m(\u001b[49m\u001b[38;5;28;43mself\u001b[39;49m\u001b[43m,\u001b[49m\u001b[43m \u001b[49m\u001b[43mfunc\u001b[49m\u001b[43m,\u001b[49m\u001b[43m \u001b[49m\u001b[43mconvert_dtype\u001b[49m\u001b[43m,\u001b[49m\u001b[43m \u001b[49m\u001b[43margs\u001b[49m\u001b[43m,\u001b[49m\u001b[43m \u001b[49m\u001b[43mkwargs\u001b[49m\u001b[43m)\u001b[49m\u001b[38;5;241;43m.\u001b[39;49m\u001b[43mapply\u001b[49m\u001b[43m(\u001b[49m\u001b[43m)\u001b[49m\n",
      "File \u001b[0;32m~/anaconda3/envs/probeBERT/lib/python3.9/site-packages/pandas/core/apply.py:1043\u001b[0m, in \u001b[0;36mSeriesApply.apply\u001b[0;34m(self)\u001b[0m\n\u001b[1;32m   1039\u001b[0m \u001b[38;5;28;01mif\u001b[39;00m \u001b[38;5;28misinstance\u001b[39m(\u001b[38;5;28mself\u001b[39m\u001b[38;5;241m.\u001b[39mf, \u001b[38;5;28mstr\u001b[39m):\n\u001b[1;32m   1040\u001b[0m     \u001b[38;5;66;03m# if we are a string, try to dispatch\u001b[39;00m\n\u001b[1;32m   1041\u001b[0m     \u001b[38;5;28;01mreturn\u001b[39;00m \u001b[38;5;28mself\u001b[39m\u001b[38;5;241m.\u001b[39mapply_str()\n\u001b[0;32m-> 1043\u001b[0m \u001b[38;5;28;01mreturn\u001b[39;00m \u001b[38;5;28;43mself\u001b[39;49m\u001b[38;5;241;43m.\u001b[39;49m\u001b[43mapply_standard\u001b[49m\u001b[43m(\u001b[49m\u001b[43m)\u001b[49m\n",
      "File \u001b[0;32m~/anaconda3/envs/probeBERT/lib/python3.9/site-packages/pandas/core/apply.py:1098\u001b[0m, in \u001b[0;36mSeriesApply.apply_standard\u001b[0;34m(self)\u001b[0m\n\u001b[1;32m   1092\u001b[0m         values \u001b[38;5;241m=\u001b[39m obj\u001b[38;5;241m.\u001b[39mastype(\u001b[38;5;28mobject\u001b[39m)\u001b[38;5;241m.\u001b[39m_values\n\u001b[1;32m   1093\u001b[0m         \u001b[38;5;66;03m# error: Argument 2 to \"map_infer\" has incompatible type\u001b[39;00m\n\u001b[1;32m   1094\u001b[0m         \u001b[38;5;66;03m# \"Union[Callable[..., Any], str, List[Union[Callable[..., Any], str]],\u001b[39;00m\n\u001b[1;32m   1095\u001b[0m         \u001b[38;5;66;03m# Dict[Hashable, Union[Union[Callable[..., Any], str],\u001b[39;00m\n\u001b[1;32m   1096\u001b[0m         \u001b[38;5;66;03m# List[Union[Callable[..., Any], str]]]]]\"; expected\u001b[39;00m\n\u001b[1;32m   1097\u001b[0m         \u001b[38;5;66;03m# \"Callable[[Any], Any]\"\u001b[39;00m\n\u001b[0;32m-> 1098\u001b[0m         mapped \u001b[38;5;241m=\u001b[39m \u001b[43mlib\u001b[49m\u001b[38;5;241;43m.\u001b[39;49m\u001b[43mmap_infer\u001b[49m\u001b[43m(\u001b[49m\n\u001b[1;32m   1099\u001b[0m \u001b[43m            \u001b[49m\u001b[43mvalues\u001b[49m\u001b[43m,\u001b[49m\n\u001b[1;32m   1100\u001b[0m \u001b[43m            \u001b[49m\u001b[43mf\u001b[49m\u001b[43m,\u001b[49m\u001b[43m  \u001b[49m\u001b[38;5;66;43;03m# type: ignore[arg-type]\u001b[39;49;00m\n\u001b[1;32m   1101\u001b[0m \u001b[43m            \u001b[49m\u001b[43mconvert\u001b[49m\u001b[38;5;241;43m=\u001b[39;49m\u001b[38;5;28;43mself\u001b[39;49m\u001b[38;5;241;43m.\u001b[39;49m\u001b[43mconvert_dtype\u001b[49m\u001b[43m,\u001b[49m\n\u001b[1;32m   1102\u001b[0m \u001b[43m        \u001b[49m\u001b[43m)\u001b[49m\n\u001b[1;32m   1104\u001b[0m \u001b[38;5;28;01mif\u001b[39;00m \u001b[38;5;28mlen\u001b[39m(mapped) \u001b[38;5;129;01mand\u001b[39;00m \u001b[38;5;28misinstance\u001b[39m(mapped[\u001b[38;5;241m0\u001b[39m], ABCSeries):\n\u001b[1;32m   1105\u001b[0m     \u001b[38;5;66;03m# GH 25959 use pd.array instead of tolist\u001b[39;00m\n\u001b[1;32m   1106\u001b[0m     \u001b[38;5;66;03m# so extension arrays can be used\u001b[39;00m\n\u001b[1;32m   1107\u001b[0m     \u001b[38;5;28;01mreturn\u001b[39;00m obj\u001b[38;5;241m.\u001b[39m_constructor_expanddim(pd_array(mapped), index\u001b[38;5;241m=\u001b[39mobj\u001b[38;5;241m.\u001b[39mindex)\n",
      "File \u001b[0;32m~/anaconda3/envs/probeBERT/lib/python3.9/site-packages/pandas/_libs/lib.pyx:2859\u001b[0m, in \u001b[0;36mpandas._libs.lib.map_infer\u001b[0;34m()\u001b[0m\n",
      "Input \u001b[0;32mIn [153]\u001b[0m, in \u001b[0;36m<lambda>\u001b[0;34m(x)\u001b[0m\n\u001b[0;32m----> 1\u001b[0m df[\u001b[38;5;124m'\u001b[39m\u001b[38;5;124mTitle_filtered\u001b[39m\u001b[38;5;124m'\u001b[39m]\u001b[38;5;241m=\u001b[39mdf[\u001b[38;5;124m'\u001b[39m\u001b[38;5;124mTitle_CSV\u001b[39m\u001b[38;5;124m'\u001b[39m]\u001b[38;5;241m.\u001b[39mapply(\u001b[38;5;28;01mlambda\u001b[39;00m x:\u001b[43mx\u001b[49m\u001b[38;5;241;43m.\u001b[39;49m\u001b[43msplit\u001b[49m(\u001b[38;5;124m'\u001b[39m\u001b[38;5;124m-\u001b[39m\u001b[38;5;124m'\u001b[39m)[\u001b[38;5;241m-\u001b[39m\u001b[38;5;241m1\u001b[39m])\n\u001b[1;32m      2\u001b[0m df\u001b[38;5;241m.\u001b[39mhead()\n",
      "\u001b[0;31mAttributeError\u001b[0m: 'float' object has no attribute 'split'"
     ]
    }
   ],
   "source": [
    "df['Title_filtered']=df['Title_CSV'].apply(lambda x:x.split('-')[-1])\n",
    "df.head()"
   ]
  },
  {
   "cell_type": "code",
   "execution_count": 30,
   "id": "3af8f4ef",
   "metadata": {},
   "outputs": [
    {
     "data": {
      "text/plain": [
       "3999"
      ]
     },
     "execution_count": 30,
     "metadata": {},
     "output_type": "execute_result"
    }
   ],
   "source": [
    "len(df)"
   ]
  },
  {
   "cell_type": "code",
   "execution_count": 31,
   "id": "de104021",
   "metadata": {},
   "outputs": [],
   "source": [
    "problem_desc=pd.read_csv('./problem_descriptions_untranslated.csv')"
   ]
  },
  {
   "cell_type": "code",
   "execution_count": 32,
   "id": "2994d841",
   "metadata": {},
   "outputs": [
    {
     "data": {
      "text/html": [
       "<div>\n",
       "<style scoped>\n",
       "    .dataframe tbody tr th:only-of-type {\n",
       "        vertical-align: middle;\n",
       "    }\n",
       "\n",
       "    .dataframe tbody tr th {\n",
       "        vertical-align: top;\n",
       "    }\n",
       "\n",
       "    .dataframe thead th {\n",
       "        text-align: right;\n",
       "    }\n",
       "</style>\n",
       "<table border=\"1\" class=\"dataframe\">\n",
       "  <thead>\n",
       "    <tr style=\"text-align: right;\">\n",
       "      <th></th>\n",
       "      <th>Unnamed: 0</th>\n",
       "      <th>Title_CSV</th>\n",
       "      <th>Title</th>\n",
       "      <th>Description</th>\n",
       "    </tr>\n",
       "  </thead>\n",
       "  <tbody>\n",
       "    <tr>\n",
       "      <th>0</th>\n",
       "      <td>p00508</td>\n",
       "      <td>Nearest Two Points</td>\n",
       "      <td>問題 ４</td>\n",
       "      <td>\\n　平面上の n 個の点 p1, ..., pn が与えられたとき，\\n距離が最小の２点を...</td>\n",
       "    </tr>\n",
       "    <tr>\n",
       "      <th>1</th>\n",
       "      <td>p00407</td>\n",
       "      <td>Castle in the Sky</td>\n",
       "      <td>天空の城ツルガ</td>\n",
       "      <td>\\n  天空の城ツルガはアイヅ国の上空に浮かんでいる。アイヅ国では、天空の城ツルガによって日...</td>\n",
       "    </tr>\n",
       "    <tr>\n",
       "      <th>2</th>\n",
       "      <td>p02440</td>\n",
       "      <td>Min-Max Element</td>\n",
       "      <td>min-max element</td>\n",
       "      <td>\\n  write a program which manipulates a sequen...</td>\n",
       "    </tr>\n",
       "    <tr>\n",
       "      <th>3</th>\n",
       "      <td>p02355</td>\n",
       "      <td>The Smallest Window II</td>\n",
       "      <td>the smallest window ii</td>\n",
       "      <td>\\n  for a given array $a_1, a_2, a_3, ... , a_...</td>\n",
       "    </tr>\n",
       "    <tr>\n",
       "      <th>4</th>\n",
       "      <td>p01980</td>\n",
       "      <td>Elevator</td>\n",
       "      <td>g: エレベータ</td>\n",
       "      <td>\\n株式会社aorは $n$ 階建てのビルである。地下階は存在しない。\\naorイカちゃんは...</td>\n",
       "    </tr>\n",
       "  </tbody>\n",
       "</table>\n",
       "</div>"
      ],
      "text/plain": [
       "  Unnamed: 0               Title_CSV                   Title  \\\n",
       "0     p00508      Nearest Two Points                    問題 ４   \n",
       "1     p00407       Castle in the Sky                 天空の城ツルガ   \n",
       "2     p02440         Min-Max Element         min-max element   \n",
       "3     p02355  The Smallest Window II  the smallest window ii   \n",
       "4     p01980                Elevator                g: エレベータ   \n",
       "\n",
       "                                         Description  \n",
       "0  \\n　平面上の n 個の点 p1, ..., pn が与えられたとき，\\n距離が最小の２点を...  \n",
       "1  \\n  天空の城ツルガはアイヅ国の上空に浮かんでいる。アイヅ国では、天空の城ツルガによって日...  \n",
       "2  \\n  write a program which manipulates a sequen...  \n",
       "3  \\n  for a given array $a_1, a_2, a_3, ... , a_...  \n",
       "4  \\n株式会社aorは $n$ 階建てのビルである。地下階は存在しない。\\naorイカちゃんは...  "
      ]
     },
     "execution_count": 32,
     "metadata": {},
     "output_type": "execute_result"
    }
   ],
   "source": [
    "problem_desc.head()"
   ]
  },
  {
   "cell_type": "code",
   "execution_count": 33,
   "id": "fbb86fb3",
   "metadata": {},
   "outputs": [],
   "source": [
    "from googletrans import Translator\n",
    "\n",
    "translator = Translator()"
   ]
  },
  {
   "cell_type": "code",
   "execution_count": 34,
   "id": "db2e43b2",
   "metadata": {},
   "outputs": [],
   "source": [
    "problem_descriptions=problem_desc['Description']"
   ]
  },
  {
   "cell_type": "code",
   "execution_count": 35,
   "id": "d44d98f7",
   "metadata": {},
   "outputs": [
    {
     "data": {
      "text/plain": [
       "array([False,  True])"
      ]
     },
     "execution_count": 35,
     "metadata": {},
     "output_type": "execute_result"
    }
   ],
   "source": [
    "# len(problem_descriptions.unique())\n",
    "problem_descriptions.isna().unique()"
   ]
  },
  {
   "cell_type": "code",
   "execution_count": null,
   "id": "511704e2",
   "metadata": {},
   "outputs": [],
   "source": []
  },
  {
   "cell_type": "code",
   "execution_count": 102,
   "id": "034819a4",
   "metadata": {},
   "outputs": [],
   "source": [
    "problem_descriptions=problem_descriptions.to_list()"
   ]
  },
  {
   "cell_type": "code",
   "execution_count": 105,
   "id": "5c58dea8",
   "metadata": {},
   "outputs": [
    {
     "ename": "AttributeError",
     "evalue": "'list' object has no attribute 'unique'",
     "output_type": "error",
     "traceback": [
      "\u001b[0;31m---------------------------------------------------------------------------\u001b[0m",
      "\u001b[0;31mAttributeError\u001b[0m                            Traceback (most recent call last)",
      "Input \u001b[0;32mIn [105]\u001b[0m, in \u001b[0;36m<cell line: 1>\u001b[0;34m()\u001b[0m\n\u001b[0;32m----> 1\u001b[0m problem_descriptions\u001b[38;5;241m.\u001b[39munique()\n",
      "\u001b[0;31mAttributeError\u001b[0m: 'list' object has no attribute 'unique'"
     ]
    }
   ],
   "source": [
    "problem_descriptions.unique()"
   ]
  },
  {
   "cell_type": "code",
   "execution_count": 103,
   "id": "9c1ccfab",
   "metadata": {},
   "outputs": [
    {
     "ename": "AttributeError",
     "evalue": "'NoneType' object has no attribute 'group'",
     "output_type": "error",
     "traceback": [
      "\u001b[0;31m---------------------------------------------------------------------------\u001b[0m",
      "\u001b[0;31mAttributeError\u001b[0m                            Traceback (most recent call last)",
      "Input \u001b[0;32mIn [103]\u001b[0m, in \u001b[0;36m<cell line: 1>\u001b[0;34m()\u001b[0m\n\u001b[0;32m----> 1\u001b[0m result_text \u001b[38;5;241m=\u001b[39m translator\u001b[38;5;241m.\u001b[39mtranslate(problem_descriptions,dest\u001b[38;5;241m=\u001b[39m\u001b[38;5;124m'\u001b[39m\u001b[38;5;124men\u001b[39m\u001b[38;5;124m'\u001b[39m)\n",
      "File \u001b[0;32m~/anaconda3/envs/probeBERT/lib/python3.9/site-packages/googletrans/client.py:177\u001b[0m, in \u001b[0;36mTranslator.translate\u001b[0;34m(self, text, dest, src, **kwargs)\u001b[0m\n\u001b[1;32m    175\u001b[0m result \u001b[38;5;241m=\u001b[39m []\n\u001b[1;32m    176\u001b[0m \u001b[38;5;28;01mfor\u001b[39;00m item \u001b[38;5;129;01min\u001b[39;00m text:\n\u001b[0;32m--> 177\u001b[0m     translated \u001b[38;5;241m=\u001b[39m \u001b[38;5;28;43mself\u001b[39;49m\u001b[38;5;241;43m.\u001b[39;49m\u001b[43mtranslate\u001b[49m\u001b[43m(\u001b[49m\u001b[43mitem\u001b[49m\u001b[43m,\u001b[49m\u001b[43m \u001b[49m\u001b[43mdest\u001b[49m\u001b[38;5;241;43m=\u001b[39;49m\u001b[43mdest\u001b[49m\u001b[43m,\u001b[49m\u001b[43m \u001b[49m\u001b[43msrc\u001b[49m\u001b[38;5;241;43m=\u001b[39;49m\u001b[43msrc\u001b[49m\u001b[43m,\u001b[49m\u001b[43m \u001b[49m\u001b[38;5;241;43m*\u001b[39;49m\u001b[38;5;241;43m*\u001b[39;49m\u001b[43mkwargs\u001b[49m\u001b[43m)\u001b[49m\n\u001b[1;32m    178\u001b[0m     result\u001b[38;5;241m.\u001b[39mappend(translated)\n\u001b[1;32m    179\u001b[0m \u001b[38;5;28;01mreturn\u001b[39;00m result\n",
      "File \u001b[0;32m~/anaconda3/envs/probeBERT/lib/python3.9/site-packages/googletrans/client.py:182\u001b[0m, in \u001b[0;36mTranslator.translate\u001b[0;34m(self, text, dest, src, **kwargs)\u001b[0m\n\u001b[1;32m    179\u001b[0m     \u001b[38;5;28;01mreturn\u001b[39;00m result\n\u001b[1;32m    181\u001b[0m origin \u001b[38;5;241m=\u001b[39m text\n\u001b[0;32m--> 182\u001b[0m data \u001b[38;5;241m=\u001b[39m \u001b[38;5;28;43mself\u001b[39;49m\u001b[38;5;241;43m.\u001b[39;49m\u001b[43m_translate\u001b[49m\u001b[43m(\u001b[49m\u001b[43mtext\u001b[49m\u001b[43m,\u001b[49m\u001b[43m \u001b[49m\u001b[43mdest\u001b[49m\u001b[43m,\u001b[49m\u001b[43m \u001b[49m\u001b[43msrc\u001b[49m\u001b[43m,\u001b[49m\u001b[43m \u001b[49m\u001b[43mkwargs\u001b[49m\u001b[43m)\u001b[49m\n\u001b[1;32m    184\u001b[0m \u001b[38;5;66;03m# this code will be updated when the format is changed.\u001b[39;00m\n\u001b[1;32m    185\u001b[0m translated \u001b[38;5;241m=\u001b[39m \u001b[38;5;124m'\u001b[39m\u001b[38;5;124m'\u001b[39m\u001b[38;5;241m.\u001b[39mjoin([d[\u001b[38;5;241m0\u001b[39m] \u001b[38;5;28;01mif\u001b[39;00m d[\u001b[38;5;241m0\u001b[39m] \u001b[38;5;28;01melse\u001b[39;00m \u001b[38;5;124m'\u001b[39m\u001b[38;5;124m'\u001b[39m \u001b[38;5;28;01mfor\u001b[39;00m d \u001b[38;5;129;01min\u001b[39;00m data[\u001b[38;5;241m0\u001b[39m]])\n",
      "File \u001b[0;32m~/anaconda3/envs/probeBERT/lib/python3.9/site-packages/googletrans/client.py:78\u001b[0m, in \u001b[0;36mTranslator._translate\u001b[0;34m(self, text, dest, src, override)\u001b[0m\n\u001b[1;32m     77\u001b[0m \u001b[38;5;28;01mdef\u001b[39;00m \u001b[38;5;21m_translate\u001b[39m(\u001b[38;5;28mself\u001b[39m, text, dest, src, override):\n\u001b[0;32m---> 78\u001b[0m     token \u001b[38;5;241m=\u001b[39m \u001b[38;5;28;43mself\u001b[39;49m\u001b[38;5;241;43m.\u001b[39;49m\u001b[43mtoken_acquirer\u001b[49m\u001b[38;5;241;43m.\u001b[39;49m\u001b[43mdo\u001b[49m\u001b[43m(\u001b[49m\u001b[43mtext\u001b[49m\u001b[43m)\u001b[49m\n\u001b[1;32m     79\u001b[0m     params \u001b[38;5;241m=\u001b[39m utils\u001b[38;5;241m.\u001b[39mbuild_params(query\u001b[38;5;241m=\u001b[39mtext, src\u001b[38;5;241m=\u001b[39msrc, dest\u001b[38;5;241m=\u001b[39mdest,\n\u001b[1;32m     80\u001b[0m                                 token\u001b[38;5;241m=\u001b[39mtoken, override\u001b[38;5;241m=\u001b[39moverride)\n\u001b[1;32m     82\u001b[0m     url \u001b[38;5;241m=\u001b[39m urls\u001b[38;5;241m.\u001b[39mTRANSLATE\u001b[38;5;241m.\u001b[39mformat(host\u001b[38;5;241m=\u001b[39m\u001b[38;5;28mself\u001b[39m\u001b[38;5;241m.\u001b[39m_pick_service_url())\n",
      "File \u001b[0;32m~/anaconda3/envs/probeBERT/lib/python3.9/site-packages/googletrans/gtoken.py:194\u001b[0m, in \u001b[0;36mTokenAcquirer.do\u001b[0;34m(self, text)\u001b[0m\n\u001b[1;32m    193\u001b[0m \u001b[38;5;28;01mdef\u001b[39;00m \u001b[38;5;21mdo\u001b[39m(\u001b[38;5;28mself\u001b[39m, text):\n\u001b[0;32m--> 194\u001b[0m     \u001b[38;5;28;43mself\u001b[39;49m\u001b[38;5;241;43m.\u001b[39;49m\u001b[43m_update\u001b[49m\u001b[43m(\u001b[49m\u001b[43m)\u001b[49m\n\u001b[1;32m    195\u001b[0m     tk \u001b[38;5;241m=\u001b[39m \u001b[38;5;28mself\u001b[39m\u001b[38;5;241m.\u001b[39macquire(text)\n\u001b[1;32m    196\u001b[0m     \u001b[38;5;28;01mreturn\u001b[39;00m tk\n",
      "File \u001b[0;32m~/anaconda3/envs/probeBERT/lib/python3.9/site-packages/googletrans/gtoken.py:62\u001b[0m, in \u001b[0;36mTokenAcquirer._update\u001b[0;34m(self)\u001b[0m\n\u001b[1;32m     59\u001b[0m     \u001b[38;5;28;01mreturn\u001b[39;00m\n\u001b[1;32m     61\u001b[0m \u001b[38;5;66;03m# this will be the same as python code after stripping out a reserved word 'var'\u001b[39;00m\n\u001b[0;32m---> 62\u001b[0m code \u001b[38;5;241m=\u001b[39m \u001b[38;5;28;43mself\u001b[39;49m\u001b[38;5;241;43m.\u001b[39;49m\u001b[43mRE_TKK\u001b[49m\u001b[38;5;241;43m.\u001b[39;49m\u001b[43msearch\u001b[49m\u001b[43m(\u001b[49m\u001b[43mr\u001b[49m\u001b[38;5;241;43m.\u001b[39;49m\u001b[43mtext\u001b[49m\u001b[43m)\u001b[49m\u001b[38;5;241;43m.\u001b[39;49m\u001b[43mgroup\u001b[49m(\u001b[38;5;241m1\u001b[39m)\u001b[38;5;241m.\u001b[39mreplace(\u001b[38;5;124m'\u001b[39m\u001b[38;5;124mvar \u001b[39m\u001b[38;5;124m'\u001b[39m, \u001b[38;5;124m'\u001b[39m\u001b[38;5;124m'\u001b[39m)\n\u001b[1;32m     63\u001b[0m \u001b[38;5;66;03m# unescape special ascii characters such like a \\x3d(=)\u001b[39;00m\n\u001b[1;32m     64\u001b[0m code \u001b[38;5;241m=\u001b[39m code\u001b[38;5;241m.\u001b[39mencode()\u001b[38;5;241m.\u001b[39mdecode(\u001b[38;5;124m'\u001b[39m\u001b[38;5;124municode-escape\u001b[39m\u001b[38;5;124m'\u001b[39m)\n",
      "\u001b[0;31mAttributeError\u001b[0m: 'NoneType' object has no attribute 'group'"
     ]
    }
   ],
   "source": [
    "result_text = translator.translate(problem_descriptions,dest='en')"
   ]
  },
  {
   "cell_type": "code",
   "execution_count": null,
   "id": "38ac0d5d",
   "metadata": {},
   "outputs": [],
   "source": []
  }
 ],
 "metadata": {
  "kernelspec": {
   "display_name": "Python 3 (ipykernel)",
   "language": "python",
   "name": "python3"
  },
  "language_info": {
   "codemirror_mode": {
    "name": "ipython",
    "version": 3
   },
   "file_extension": ".py",
   "mimetype": "text/x-python",
   "name": "python",
   "nbconvert_exporter": "python",
   "pygments_lexer": "ipython3",
   "version": "3.9.7"
  }
 },
 "nbformat": 4,
 "nbformat_minor": 5
}
