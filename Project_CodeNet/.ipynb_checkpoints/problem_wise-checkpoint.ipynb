{
 "cells": [
  {
   "cell_type": "code",
   "execution_count": 1,
   "id": "353d17ce",
   "metadata": {},
   "outputs": [],
   "source": [
    "import glob\n",
    "import pandas as pd\n",
    "import random\n",
    "import pickle\n",
    "\n",
    "from tqdm import tqdm"
   ]
  },
  {
   "cell_type": "code",
   "execution_count": null,
   "id": "6b06b896",
   "metadata": {},
   "outputs": [],
   "source": []
  },
  {
   "cell_type": "code",
   "execution_count": 2,
   "id": "8531f86f",
   "metadata": {},
   "outputs": [],
   "source": [
    "file_list=glob.glob('./metadata/p0*.csv')"
   ]
  },
  {
   "cell_type": "code",
   "execution_count": 4,
   "id": "5012b0b0",
   "metadata": {},
   "outputs": [],
   "source": [
    "codebert_languages=['Python', 'Java', 'JavaScript', 'PHP', 'Ruby', 'Go']"
   ]
  },
  {
   "cell_type": "code",
   "execution_count": 9,
   "id": "35777c8e",
   "metadata": {},
   "outputs": [],
   "source": [
    "errors=['Wrong Answer','Runtime Error','Accepted','Compile Error']"
   ]
  },
  {
   "cell_type": "code",
   "execution_count": 15,
   "id": "9d4c7a8d",
   "metadata": {},
   "outputs": [],
   "source": [
    "errors_1=['Wrong Answer','Runtime Error','Accepted']"
   ]
  },
  {
   "cell_type": "code",
   "execution_count": 16,
   "id": "429c8b4b",
   "metadata": {},
   "outputs": [],
   "source": [
    "check_li=[(x, y) for x in codebert_languages for y in errors_1]"
   ]
  },
  {
   "cell_type": "code",
   "execution_count": 17,
   "id": "1f35fb80",
   "metadata": {},
   "outputs": [
    {
     "data": {
      "text/plain": [
       "[('Python', 'Wrong Answer'),\n",
       " ('Python', 'Runtime Error'),\n",
       " ('Python', 'Accepted'),\n",
       " ('Java', 'Wrong Answer'),\n",
       " ('Java', 'Runtime Error'),\n",
       " ('Java', 'Accepted'),\n",
       " ('JavaScript', 'Wrong Answer'),\n",
       " ('JavaScript', 'Runtime Error'),\n",
       " ('JavaScript', 'Accepted'),\n",
       " ('PHP', 'Wrong Answer'),\n",
       " ('PHP', 'Runtime Error'),\n",
       " ('PHP', 'Accepted'),\n",
       " ('Ruby', 'Wrong Answer'),\n",
       " ('Ruby', 'Runtime Error'),\n",
       " ('Ruby', 'Accepted'),\n",
       " ('Go', 'Wrong Answer'),\n",
       " ('Go', 'Runtime Error'),\n",
       " ('Go', 'Accepted')]"
      ]
     },
     "execution_count": 17,
     "metadata": {},
     "output_type": "execute_result"
    }
   ],
   "source": [
    "check_li"
   ]
  },
  {
   "cell_type": "code",
   "execution_count": 21,
   "id": "ce0fa953",
   "metadata": {},
   "outputs": [],
   "source": [
    "def create_dict():\n",
    "    my_dict={}\n",
    "    for tup in check_li:\n",
    "        my_dict[tup]=0\n",
    "    return my_dict"
   ]
  },
  {
   "cell_type": "code",
   "execution_count": 25,
   "id": "ce50d719",
   "metadata": {},
   "outputs": [],
   "source": [
    "problem_id=[]"
   ]
  },
  {
   "cell_type": "code",
   "execution_count": 31,
   "id": "3e46b5d1",
   "metadata": {},
   "outputs": [
    {
     "name": "stderr",
     "output_type": "stream",
     "text": [
      "100%|██████████████████████████████████████████████████████████████████████████████████████████████████████████████████████████████████████████████████████████████████| 4053/4053 [03:22<00:00, 19.98it/s]\n"
     ]
    }
   ],
   "source": [
    "for file in tqdm(file_list,total=len(file_list)):\n",
    "    \n",
    "    df=pd.read_csv(file)\n",
    "    df=df.loc[df['language'].isin(codebert_languages)]\n",
    "    df=df.loc[df['status'].isin(errors_1)]\n",
    "    \n",
    "    my_dict=create_dict()\n",
    "    \n",
    "    for _ , row in df.iterrows():\n",
    "        my_dict[(row['language'],row['status'])]+=1\n",
    "    \n",
    "    flag=1\n",
    "    for value in my_dict.values():\n",
    "        if value ==0:\n",
    "            flag=0\n",
    "            \n",
    "    if flag:\n",
    "        problem_id.append(file)\n",
    "    \n",
    "    "
   ]
  },
  {
   "cell_type": "code",
   "execution_count": 34,
   "id": "ff999e07",
   "metadata": {},
   "outputs": [],
   "source": [
    "with open('ok_problems.pkl','wb') as f:\n",
    "    pickle.dump(problem_id,f)\n",
    "    "
   ]
  },
  {
   "cell_type": "code",
   "execution_count": 33,
   "id": "9c660bc2",
   "metadata": {},
   "outputs": [
    {
     "data": {
      "text/plain": [
       "255"
      ]
     },
     "execution_count": 33,
     "metadata": {},
     "output_type": "execute_result"
    }
   ],
   "source": [
    "len(problem_id)"
   ]
  },
  {
   "cell_type": "code",
   "execution_count": 35,
   "id": "d4329c4f",
   "metadata": {},
   "outputs": [
    {
     "data": {
      "text/plain": [
       "['./metadata/p03261.csv',\n",
       " './metadata/p03261.csv',\n",
       " './metadata/p02657.csv',\n",
       " './metadata/p02675.csv',\n",
       " './metadata/p03012.csv',\n",
       " './metadata/p03011.csv',\n",
       " './metadata/p03037.csv',\n",
       " './metadata/p02928.csv',\n",
       " './metadata/p02773.csv',\n",
       " './metadata/p03294.csv',\n",
       " './metadata/p02953.csv',\n",
       " './metadata/p02778.csv',\n",
       " './metadata/p03502.csv',\n",
       " './metadata/p03835.csv',\n",
       " './metadata/p03337.csv',\n",
       " './metadata/p02814.csv',\n",
       " './metadata/p02572.csv',\n",
       " './metadata/p02693.csv',\n",
       " './metadata/p00004.csv',\n",
       " './metadata/p03192.csv',\n",
       " './metadata/p03273.csv',\n",
       " './metadata/p02720.csv',\n",
       " './metadata/p02754.csv',\n",
       " './metadata/p03060.csv',\n",
       " './metadata/p03030.csv',\n",
       " './metadata/p03836.csv',\n",
       " './metadata/p02888.csv',\n",
       " './metadata/p03069.csv',\n",
       " './metadata/p03242.csv',\n",
       " './metadata/p03017.csv',\n",
       " './metadata/p03472.csv',\n",
       " './metadata/p02811.csv',\n",
       " './metadata/p02552.csv',\n",
       " './metadata/p02642.csv',\n",
       " './metadata/p03386.csv',\n",
       " './metadata/p02990.csv',\n",
       " './metadata/p02983.csv',\n",
       " './metadata/p03080.csv',\n",
       " './metadata/p02913.csv',\n",
       " './metadata/p02645.csv',\n",
       " './metadata/p02995.csv',\n",
       " './metadata/p03854.csv',\n",
       " './metadata/p02909.csv',\n",
       " './metadata/p02772.csv',\n",
       " './metadata/p02398.csv',\n",
       " './metadata/p03041.csv',\n",
       " './metadata/p03103.csv',\n",
       " './metadata/p02629.csv',\n",
       " './metadata/p02911.csv',\n",
       " './metadata/p03611.csv',\n",
       " './metadata/p02390.csv',\n",
       " './metadata/p02783.csv',\n",
       " './metadata/p02801.csv',\n",
       " './metadata/p03470.csv',\n",
       " './metadata/p03493.csv',\n",
       " './metadata/p02982.csv',\n",
       " './metadata/p02969.csv',\n",
       " './metadata/p02924.csv',\n",
       " './metadata/p02639.csv',\n",
       " './metadata/p00009.csv',\n",
       " './metadata/p02762.csv',\n",
       " './metadata/p02413.csv',\n",
       " './metadata/p02954.csv',\n",
       " './metadata/p03393.csv',\n",
       " './metadata/p03061.csv',\n",
       " './metadata/p02613.csv',\n",
       " './metadata/p03106.csv',\n",
       " './metadata/p03125.csv',\n",
       " './metadata/p03150.csv',\n",
       " './metadata/p03673.csv',\n",
       " './metadata/p02421.csv',\n",
       " './metadata/p02263.csv',\n",
       " './metadata/p03209.csv',\n",
       " './metadata/p02753.csv',\n",
       " './metadata/p03573.csv',\n",
       " './metadata/p02743.csv',\n",
       " './metadata/p02945.csv',\n",
       " './metadata/p02609.csv',\n",
       " './metadata/p02836.csv',\n",
       " './metadata/p02912.csv',\n",
       " './metadata/p03495.csv',\n",
       " './metadata/p03316.csv',\n",
       " './metadata/p02918.csv',\n",
       " './metadata/p02258.csv',\n",
       " './metadata/p03112.csv',\n",
       " './metadata/p03074.csv',\n",
       " './metadata/p02621.csv',\n",
       " './metadata/p02917.csv',\n",
       " './metadata/p03469.csv',\n",
       " './metadata/p03029.csv',\n",
       " './metadata/p02830.csv',\n",
       " './metadata/p03633.csv',\n",
       " './metadata/p03962.csv',\n",
       " './metadata/p03504.csv',\n",
       " './metadata/p02640.csv',\n",
       " './metadata/p03108.csv',\n",
       " './metadata/p03494.csv',\n",
       " './metadata/p02747.csv',\n",
       " './metadata/p02780.csv',\n",
       " './metadata/p03165.csv',\n",
       " './metadata/p03162.csv',\n",
       " './metadata/p03137.csv',\n",
       " './metadata/p02963.csv',\n",
       " './metadata/p03544.csv',\n",
       " './metadata/p03361.csv',\n",
       " './metadata/p02999.csv',\n",
       " './metadata/p02975.csv',\n",
       " './metadata/p02268.csv',\n",
       " './metadata/p02719.csv',\n",
       " './metadata/p02981.csv',\n",
       " './metadata/p03044.csv',\n",
       " './metadata/p02993.csv',\n",
       " './metadata/p02723.csv',\n",
       " './metadata/p02951.csv',\n",
       " './metadata/p02702.csv',\n",
       " './metadata/p02688.csv',\n",
       " './metadata/p03738.csv',\n",
       " './metadata/p02900.csv',\n",
       " './metadata/p02718.csv',\n",
       " './metadata/p02897.csv',\n",
       " './metadata/p03803.csv',\n",
       " './metadata/p03087.csv',\n",
       " './metadata/p02393.csv',\n",
       " './metadata/p03062.csv',\n",
       " './metadata/p02612.csv',\n",
       " './metadata/p03102.csv',\n",
       " './metadata/p02755.csv',\n",
       " './metadata/p02658.csv',\n",
       " './metadata/p03076.csv',\n",
       " './metadata/p03105.csv',\n",
       " './metadata/p02397.csv',\n",
       " './metadata/p03455.csv',\n",
       " './metadata/p02763.csv',\n",
       " './metadata/p02922.csv',\n",
       " './metadata/p02759.csv',\n",
       " './metadata/p02774.csv',\n",
       " './metadata/p03986.csv',\n",
       " './metadata/p03260.csv',\n",
       " './metadata/p02903.csv',\n",
       " './metadata/p03834.csv',\n",
       " './metadata/p03146.csv',\n",
       " './metadata/p03624.csv',\n",
       " './metadata/p02898.csv',\n",
       " './metadata/p00003.csv',\n",
       " './metadata/p03543.csv',\n",
       " './metadata/p02958.csv',\n",
       " './metadata/p02891.csv',\n",
       " './metadata/p02676.csv',\n",
       " './metadata/p03658.csv',\n",
       " './metadata/p03214.csv',\n",
       " './metadata/p02760.csv',\n",
       " './metadata/p03814.csv',\n",
       " './metadata/p03719.csv',\n",
       " './metadata/p02885.csv',\n",
       " './metadata/p02690.csv',\n",
       " './metadata/p02264.csv',\n",
       " './metadata/p03161.csv',\n",
       " './metadata/p03059.csv',\n",
       " './metadata/p03053.csv',\n",
       " './metadata/p02647.csv',\n",
       " './metadata/p02791.csv',\n",
       " './metadata/p02608.csv',\n",
       " './metadata/p03035.csv',\n",
       " './metadata/p02835.csv',\n",
       " './metadata/p02410.csv',\n",
       " './metadata/p02785.csv',\n",
       " './metadata/p02265.csv',\n",
       " './metadata/p03221.csv',\n",
       " './metadata/p02262.csv',\n",
       " './metadata/p02627.csv',\n",
       " './metadata/p03805.csv',\n",
       " './metadata/p02255.csv',\n",
       " './metadata/p02987.csv',\n",
       " './metadata/p02934.csv',\n",
       " './metadata/p02730.csv',\n",
       " './metadata/p02272.csv',\n",
       " './metadata/p03077.csv',\n",
       " './metadata/p02694.csv',\n",
       " './metadata/p03253.csv',\n",
       " './metadata/p02618.csv',\n",
       " './metadata/p03071.csv',\n",
       " './metadata/p03293.csv',\n",
       " './metadata/p04044.csv',\n",
       " './metadata/p03486.csv',\n",
       " './metadata/p03846.csv',\n",
       " './metadata/p03127.csv',\n",
       " './metadata/p02678.csv',\n",
       " './metadata/p02802.csv',\n",
       " './metadata/p03018.csv',\n",
       " './metadata/p03433.csv',\n",
       " './metadata/p02812.csv',\n",
       " './metadata/p02705.csv',\n",
       " './metadata/p03352.csv',\n",
       " './metadata/p02923.csv',\n",
       " './metadata/p04045.csv',\n",
       " './metadata/p02616.csv',\n",
       " './metadata/p02536.csv',\n",
       " './metadata/p02261.csv',\n",
       " './metadata/p03048.csv',\n",
       " './metadata/p03471.csv',\n",
       " './metadata/p03081.csv',\n",
       " './metadata/p03679.csv',\n",
       " './metadata/p02936.csv',\n",
       " './metadata/p00005.csv',\n",
       " './metadata/p04047.csv',\n",
       " './metadata/p03085.csv',\n",
       " './metadata/p03434.csv',\n",
       " './metadata/p03353.csv',\n",
       " './metadata/p02847.csv',\n",
       " './metadata/p02921.csv',\n",
       " './metadata/p03068.csv',\n",
       " './metadata/p02701.csv',\n",
       " './metadata/p02771.csv',\n",
       " './metadata/p02595.csv',\n",
       " './metadata/p02862.csv',\n",
       " './metadata/p02848.csv',\n",
       " './metadata/p03262.csv',\n",
       " './metadata/p02681.csv',\n",
       " './metadata/p02622.csv',\n",
       " './metadata/p02584.csv',\n",
       " './metadata/p02957.csv',\n",
       " './metadata/p03680.csv',\n",
       " './metadata/p03107.csv',\n",
       " './metadata/p03104.csv',\n",
       " './metadata/p02256.csv',\n",
       " './metadata/p02600.csv',\n",
       " './metadata/p03324.csv',\n",
       " './metadata/p02881.csv',\n",
       " './metadata/p03126.csv',\n",
       " './metadata/p02933.csv',\n",
       " './metadata/p03998.csv',\n",
       " './metadata/p04030.csv',\n",
       " './metadata/p03274.csv',\n",
       " './metadata/p02279.csv',\n",
       " './metadata/p03075.csv',\n",
       " './metadata/p02935.csv',\n",
       " './metadata/p02829.csv',\n",
       " './metadata/p03695.csv',\n",
       " './metadata/p02915.csv',\n",
       " './metadata/p03110.csv',\n",
       " './metadata/p03861.csv',\n",
       " './metadata/p02947.csv',\n",
       " './metadata/p02910.csv',\n",
       " './metadata/p03163.csv',\n",
       " './metadata/p02831.csv',\n",
       " './metadata/p02401.csv',\n",
       " './metadata/p03363.csv',\n",
       " './metadata/p03860.csv',\n",
       " './metadata/p02860.csv',\n",
       " './metadata/p03795.csv',\n",
       " './metadata/p04029.csv',\n",
       " './metadata/p03101.csv',\n",
       " './metadata/p03721.csv',\n",
       " './metadata/p04043.csv',\n",
       " './metadata/p03045.csv']"
      ]
     },
     "execution_count": 35,
     "metadata": {},
     "output_type": "execute_result"
    }
   ],
   "source": [
    "problem_id"
   ]
  },
  {
   "cell_type": "code",
   "execution_count": 60,
   "id": "e74436af",
   "metadata": {},
   "outputs": [],
   "source": [
    "import pickle\n",
    "\n",
    "with open('./test_problems.pkl','rb') as f:\n",
    "    test_problems=pickle.load(f)\n",
    "    "
   ]
  },
  {
   "cell_type": "code",
   "execution_count": 61,
   "id": "96c73a09",
   "metadata": {},
   "outputs": [
    {
     "data": {
      "text/plain": [
       "'./metadata/p03261.csv'"
      ]
     },
     "execution_count": 61,
     "metadata": {},
     "output_type": "execute_result"
    }
   ],
   "source": [
    "test_problems[0]"
   ]
  },
  {
   "cell_type": "code",
   "execution_count": 62,
   "id": "f94c82be",
   "metadata": {},
   "outputs": [],
   "source": [
    "import pandas as pd\n",
    "\n",
    "test_df=pd.read_csv(test_problems[0])\n",
    "python_accepted=test_df.loc[(test_df['language']=='Python') & (test_df['status']=='Accepted')]\n",
    "python_wa=test_df.loc[(test_df['language']=='Python') & (test_df['status']=='Wrong Answer')]\n",
    "php_accepted=test_df.loc[(test_df['language']=='PHP') & (test_df['status']=='Accepted')]\n",
    "php_wa=test_df.loc[(test_df['language']=='PHP') & (test_df['status']=='Wrong Answer')]"
   ]
  },
  {
   "cell_type": "code",
   "execution_count": 63,
   "id": "ce63681c",
   "metadata": {},
   "outputs": [
    {
     "name": "stdout",
     "output_type": "stream",
     "text": [
      "2744\n",
      "799\n",
      "28\n",
      "6\n"
     ]
    }
   ],
   "source": [
    "print(len(python_accepted))\n",
    "print(len(python_wa))\n",
    "print(len(php_accepted))\n",
    "print(len(php_wa))"
   ]
  },
  {
   "cell_type": "code",
   "execution_count": 64,
   "id": "863b1dc3",
   "metadata": {},
   "outputs": [
    {
     "data": {
      "text/plain": [
       "0        s889012137\n",
       "4        s450529759\n",
       "6        s973687320\n",
       "7        s084767354\n",
       "9        s539393521\n",
       "            ...    \n",
       "12474    s554879698\n",
       "12475    s754014407\n",
       "12481    s665510687\n",
       "12491    s416206082\n",
       "12499    s173563404\n",
       "Name: submission_id, Length: 2744, dtype: object"
      ]
     },
     "execution_count": 64,
     "metadata": {},
     "output_type": "execute_result"
    }
   ],
   "source": [
    "python_accepted['submission_id']"
   ]
  },
  {
   "cell_type": "code",
   "execution_count": 65,
   "id": "de6b1366",
   "metadata": {},
   "outputs": [
    {
     "data": {
      "text/plain": [
       "56       s403675233\n",
       "57       s936544376\n",
       "58       s651295150\n",
       "61       s374671119\n",
       "62       s970496506\n",
       "            ...    \n",
       "12343    s937107562\n",
       "12371    s180080168\n",
       "12378    s565997774\n",
       "12392    s794218142\n",
       "12477    s669942163\n",
       "Name: submission_id, Length: 799, dtype: object"
      ]
     },
     "execution_count": 65,
     "metadata": {},
     "output_type": "execute_result"
    }
   ],
   "source": [
    "python_wa['submission_id']"
   ]
  },
  {
   "cell_type": "code",
   "execution_count": 66,
   "id": "a32c51c2",
   "metadata": {},
   "outputs": [],
   "source": [
    "from tqdm import tqdm\n",
    "def get_code_li(df,language):\n",
    "    \n",
    "    extension_dict={'Python':'.py','PHP':'.php'}\n",
    "    \n",
    "    code_li=[]\n",
    "    \n",
    "    for i,row in tqdm(df.iterrows(),total=len(df)):\n",
    "        sid=row['submission_id']\n",
    "        \n",
    "#         print(sid)\n",
    "#         break\n",
    "        \n",
    "        file_path=f'./data/p03261/{language}/{sid}{extension_dict[language]}'\n",
    "        \n",
    "        with open(file_path,'r') as f:\n",
    "            code=f.read()\n",
    "            \n",
    "        code_li.append(code)\n",
    "        \n",
    "    return code_li"
   ]
  },
  {
   "cell_type": "code",
   "execution_count": 71,
   "id": "68655a98",
   "metadata": {},
   "outputs": [
    {
     "name": "stderr",
     "output_type": "stream",
     "text": [
      "100%|████████████████████████████████████| 2744/2744 [00:00<00:00, 13072.82it/s]\n"
     ]
    }
   ],
   "source": [
    "python_accepted_li=get_code_li(python_accepted,'Python')"
   ]
  },
  {
   "cell_type": "code",
   "execution_count": 72,
   "id": "944a3423",
   "metadata": {},
   "outputs": [
    {
     "name": "stderr",
     "output_type": "stream",
     "text": [
      "100%|██████████████████████████████████████| 799/799 [00:00<00:00, 14303.97it/s]\n"
     ]
    }
   ],
   "source": [
    "python_wa_li=get_code_li(python_wa,'Python')"
   ]
  },
  {
   "cell_type": "code",
   "execution_count": 73,
   "id": "d1c7d080",
   "metadata": {},
   "outputs": [
    {
     "name": "stderr",
     "output_type": "stream",
     "text": [
      "100%|███████████████████████████████████████████| 6/6 [00:00<00:00, 2141.77it/s]\n",
      "100%|█████████████████████████████████████████| 28/28 [00:00<00:00, 4215.53it/s]\n"
     ]
    }
   ],
   "source": [
    "php_wa_li=get_code_li(php_wa,'PHP')\n",
    "php_accepted_li=get_code_li(php_accepted,'PHP')"
   ]
  },
  {
   "cell_type": "code",
   "execution_count": 74,
   "id": "37643d4c",
   "metadata": {},
   "outputs": [],
   "source": [
    "def Jaccard_Similarity(doc1, doc2): \n",
    "    \n",
    "    # List the unique words in a document\n",
    "    words_doc1 = set(doc1.lower().split()) \n",
    "    words_doc2 = set(doc2.lower().split())\n",
    "    \n",
    "    # Find the intersection of words list of doc1 & doc2\n",
    "    intersection = words_doc1.intersection(words_doc2)\n",
    "\n",
    "    # Find the union of words list of doc1 & doc2\n",
    "    union = words_doc1.union(words_doc2)\n",
    "        \n",
    "    # Calculate Jaccard similarity score \n",
    "    # using length of intersection set divided by length of union set\n",
    "    return float(len(intersection)) / len(union)\n"
   ]
  },
  {
   "cell_type": "code",
   "execution_count": 76,
   "id": "77819792",
   "metadata": {},
   "outputs": [
    {
     "name": "stderr",
     "output_type": "stream",
     "text": [
      "100%|███████████████████████████████████████| 2744/2744 [00:31<00:00, 88.47it/s]\n"
     ]
    }
   ],
   "source": [
    "similarity_li=[]\n",
    "for i,str1 in tqdm(enumerate(python_accepted_li),total=len(python_accepted_li)):\n",
    "    for j,str2 in enumerate(python_wa_li):\n",
    "        temp_li=[]\n",
    "        temp_li.append(i)\n",
    "        temp_li.append(j)\n",
    "        temp_li.append(Jaccard_Similarity(str1,str2))\n",
    "        \n",
    "        similarity_li.append(temp_li)\n",
    "        \n",
    "              \n"
   ]
  },
  {
   "cell_type": "code",
   "execution_count": 77,
   "id": "e36e41c7",
   "metadata": {},
   "outputs": [],
   "source": [
    "similarity_li = sorted(similarity_li, key=lambda x: x[2])"
   ]
  },
  {
   "cell_type": "code",
   "execution_count": 78,
   "id": "de42fcb3",
   "metadata": {},
   "outputs": [
    {
     "data": {
      "text/plain": [
       "[2674, 789, 1.0]"
      ]
     },
     "execution_count": 78,
     "metadata": {},
     "output_type": "execute_result"
    }
   ],
   "source": [
    "similarity_li[-1]"
   ]
  },
  {
   "cell_type": "code",
   "execution_count": 80,
   "id": "25cf4c04",
   "metadata": {},
   "outputs": [
    {
     "data": {
      "text/plain": [
       "'s272963690'"
      ]
     },
     "execution_count": 80,
     "metadata": {},
     "output_type": "execute_result"
    }
   ],
   "source": [
    "python_accepted.iloc[2674]['submission_id']"
   ]
  },
  {
   "cell_type": "code",
   "execution_count": 81,
   "id": "a4445ed2",
   "metadata": {},
   "outputs": [
    {
     "data": {
      "text/plain": [
       "'s331881266'"
      ]
     },
     "execution_count": 81,
     "metadata": {},
     "output_type": "execute_result"
    }
   ],
   "source": [
    "python_wa.iloc[789]['submission_id']"
   ]
  },
  {
   "cell_type": "code",
   "execution_count": 82,
   "id": "268a974e",
   "metadata": {},
   "outputs": [
    {
     "name": "stdout",
     "output_type": "stream",
     "text": [
      "N = int(input())\n",
      "W = input()\n",
      "L = []\n",
      "L.append(W)\n",
      "last = W[-1]\n",
      "ans = 'Yes'\n",
      "for _ in range(N-1):\n",
      "    w = input()\n",
      "    if w in L:\n",
      "        ans = 'No'\n",
      "    if last == w[0]:\n",
      "        last = w[-1]\n",
      "        L.append(w)\n",
      "    else:\n",
      "        ans = 'No'\n",
      "print(ans)\n"
     ]
    }
   ],
   "source": [
    "with open('./data/p03261/Python/s272963690.py','r') as f:\n",
    "    code=f.read()\n",
    "    \n",
    "print(code)"
   ]
  },
  {
   "cell_type": "code",
   "execution_count": 84,
   "id": "cf3a5923",
   "metadata": {},
   "outputs": [
    {
     "name": "stdout",
     "output_type": "stream",
     "text": [
      "N = int(input())\n",
      "W = input()\n",
      "L = []\n",
      "L.append(W)\n",
      "last = W[-1]\n",
      "ans = 'Yes'\n",
      "for _ in range(N-1):\n",
      "    w = input()\n",
      "    if w in L:\n",
      "        ans = 'No'\n",
      "    if last == w[0]:\n",
      "        last = w[-1]\n",
      "    else:\n",
      "        ans = 'No'\n",
      "print(ans)\n"
     ]
    }
   ],
   "source": [
    "with open('./data/p03261/Python/s331881266.py','r') as f:\n",
    "    code=f.read()\n",
    "    \n",
    "print(code)"
   ]
  },
  {
   "cell_type": "code",
   "execution_count": 95,
   "id": "1032f982",
   "metadata": {},
   "outputs": [
    {
     "name": "stdout",
     "output_type": "stream",
     "text": [
      "4\n",
      "eagle\n",
      "english\n",
      "house\n",
      "english\n",
      "No\n"
     ]
    }
   ],
   "source": [
    "#Right Submission\n",
    "\n",
    "N = int(input())\n",
    "W = input()\n",
    "L = []\n",
    "L.append(W)\n",
    "last = W[-1]\n",
    "ans = 'Yes'\n",
    "for _ in range(N-1):\n",
    "    w = input()\n",
    "    if w in L:\n",
    "        ans = 'No'\n",
    "    if last == w[0]:\n",
    "        last = w[-1]\n",
    "        L.append(w)\n",
    "    else:\n",
    "        ans = 'No'\n",
    "print(ans)"
   ]
  },
  {
   "cell_type": "code",
   "execution_count": 96,
   "id": "c253fb94",
   "metadata": {},
   "outputs": [
    {
     "name": "stdout",
     "output_type": "stream",
     "text": [
      "4\n",
      "eagle\n",
      "english\n",
      "house\n",
      "english\n",
      "Yes\n"
     ]
    }
   ],
   "source": [
    "# Wrong Submission\n",
    "\n",
    "N = int(input())\n",
    "W = input()\n",
    "L = []\n",
    "L.append(W)\n",
    "last = W[-1]\n",
    "ans = 'Yes'\n",
    "for _ in range(N-1):\n",
    "    w = input()\n",
    "    if w in L:\n",
    "        ans = 'No'\n",
    "    if last == w[0]:\n",
    "        last = w[-1]\n",
    "    else:\n",
    "        ans = 'No'\n",
    "print(ans)\n"
   ]
  },
  {
   "cell_type": "code",
   "execution_count": null,
   "id": "7b4c45c8",
   "metadata": {},
   "outputs": [],
   "source": []
  }
 ],
 "metadata": {
  "kernelspec": {
   "display_name": "Python 3 (ipykernel)",
   "language": "python",
   "name": "python3"
  },
  "language_info": {
   "codemirror_mode": {
    "name": "ipython",
    "version": 3
   },
   "file_extension": ".py",
   "mimetype": "text/x-python",
   "name": "python",
   "nbconvert_exporter": "python",
   "pygments_lexer": "ipython3",
   "version": "3.9.7"
  }
 },
 "nbformat": 4,
 "nbformat_minor": 5
}
