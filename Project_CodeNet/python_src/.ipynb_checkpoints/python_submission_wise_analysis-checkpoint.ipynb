{
 "cells": [
  {
   "cell_type": "code",
   "execution_count": 34,
   "id": "4e6956fa",
   "metadata": {},
   "outputs": [],
   "source": [
    "import glob\n",
    "import pandas as pd"
   ]
  },
  {
   "cell_type": "code",
   "execution_count": 35,
   "id": "29da3c5e",
   "metadata": {},
   "outputs": [],
   "source": [
    "import pickle\n",
    "from tqdm import tqdm"
   ]
  },
  {
   "cell_type": "code",
   "execution_count": 36,
   "id": "52127dd9",
   "metadata": {},
   "outputs": [],
   "source": [
    "import numpy as np"
   ]
  },
  {
   "cell_type": "code",
   "execution_count": 37,
   "id": "fcef7d4b",
   "metadata": {},
   "outputs": [],
   "source": [
    "with open('../train_problems.pkl','rb') as f:\n",
    "    train_problems=pickle.load(f)\n",
    "\n",
    "\n",
    "# train_problems="
   ]
  },
  {
   "cell_type": "code",
   "execution_count": null,
   "id": "44020d53",
   "metadata": {},
   "outputs": [],
   "source": []
  },
  {
   "cell_type": "code",
   "execution_count": 38,
   "id": "88aa491d",
   "metadata": {},
   "outputs": [],
   "source": [
    "final_df=pd.DataFrame(columns=['submission_id','problem_id','user_id','date','language','original_language','filename_ext',\t'status','cpu_time','memory','code_size','accuracy'])\n"
   ]
  },
  {
   "cell_type": "code",
   "execution_count": 39,
   "id": "7cfeff81",
   "metadata": {},
   "outputs": [
    {
     "name": "stderr",
     "output_type": "stream",
     "text": [
      "100%|█████████████████████████████████████████| 807/807 [00:12<00:00, 66.13it/s]\n"
     ]
    }
   ],
   "source": [
    "train_problem_description_dict={}\n",
    "for file in tqdm(train_problems,total=len(train_problems)):\n",
    "    \n",
    "    \n",
    "    file='.'+file\n",
    "    pid=file.split('/')[-1].split('.')[0]\n",
    "    df=pd.read_csv(file)\n",
    "    \n",
    "    acc_len=len(df.loc[(df['status']=='Accepted') & (df['language']=='Java')])\n",
    "    \n",
    "    train_problem_description_dict[pid]=acc_len\n",
    "#     train_problem_description_dict[pid].append(acc_len)\n",
    "    \n",
    "    \n",
    "#     break\n",
    "    \n",
    "    \n",
    "    \n",
    "    \n",
    "    "
   ]
  },
  {
   "cell_type": "code",
   "execution_count": 40,
   "id": "40ac7707",
   "metadata": {},
   "outputs": [],
   "source": [
    "value_li=list(train_problem_description_dict.values())"
   ]
  },
  {
   "cell_type": "code",
   "execution_count": 41,
   "id": "2c2bc029",
   "metadata": {},
   "outputs": [],
   "source": [
    "def get_stats(li):\n",
    "    print(f'Length of list: {len(li)}')\n",
    "    print(f'Mimimum among the list: {np.min(li)}')\n",
    "    print(f'Maximum among the list: {np.max(li)}')\n",
    "    print(f'Mean of the list: {np.mean(li)}')\n",
    "    print(f'Standard Deviation of the list: {np.std(li)}')\n",
    "    \n",
    "    mean=np.mean(li)\n",
    "    std=np.std(li)\n",
    "    \n",
    "    count=0\n",
    "    \n",
    "    for v in li:\n",
    "        if v>(mean+std):\n",
    "            count+=1\n",
    "            \n",
    "    print(f'Number of problems above the Mean+STD:{count}')\n",
    "    \n",
    "    \n",
    "    \n",
    "    count=0\n",
    "#     print(mean -std)\n",
    "    for v in li:\n",
    "        if v<(mean-std):\n",
    "            count+=1\n",
    "            \n",
    "    print(f'Number of problems below the Mean-STD:{count}')\n",
    "    \n",
    "    \n",
    "    "
   ]
  },
  {
   "cell_type": "code",
   "execution_count": 1,
   "id": "d80494a1",
   "metadata": {},
   "outputs": [],
   "source": [
    "# np.min(value_li)"
   ]
  },
  {
   "cell_type": "code",
   "execution_count": 2,
   "id": "8ca9092b",
   "metadata": {},
   "outputs": [],
   "source": [
    "# np.max(value_li)"
   ]
  },
  {
   "cell_type": "code",
   "execution_count": 44,
   "id": "997bf8f2",
   "metadata": {},
   "outputs": [
    {
     "data": {
      "text/plain": [
       "243.98265179677819"
      ]
     },
     "execution_count": 44,
     "metadata": {},
     "output_type": "execute_result"
    }
   ],
   "source": [
    "np.mean(value_li)"
   ]
  },
  {
   "cell_type": "code",
   "execution_count": 45,
   "id": "cd40adf8",
   "metadata": {},
   "outputs": [
    {
     "data": {
      "text/plain": [
       "219.90034285898312"
      ]
     },
     "execution_count": 45,
     "metadata": {},
     "output_type": "execute_result"
    }
   ],
   "source": [
    "np.std(value_li)"
   ]
  },
  {
   "cell_type": "code",
   "execution_count": 46,
   "id": "f6666486",
   "metadata": {},
   "outputs": [
    {
     "name": "stdout",
     "output_type": "stream",
     "text": [
      "Length of list: 807\n",
      "Mimimum among the list: 3\n",
      "Maximum among the list: 2356\n",
      "Mean of the list: 243.98265179677819\n",
      "Standard Deviation of the list: 219.90034285898312\n",
      "Number of problems above the Mean+STD:92\n",
      "Number of problems below the Mean-STD:12\n"
     ]
    }
   ],
   "source": [
    "get_stats(value_li)"
   ]
  },
  {
   "cell_type": "code",
   "execution_count": 47,
   "id": "81918259",
   "metadata": {},
   "outputs": [],
   "source": [
    "with open('../test_problems.pkl','rb') as f:\n",
    "    test_problems=pickle.load(f)"
   ]
  },
  {
   "cell_type": "code",
   "execution_count": 48,
   "id": "68f17995",
   "metadata": {},
   "outputs": [
    {
     "name": "stderr",
     "output_type": "stream",
     "text": [
      "100%|█████████████████████████████████████████| 255/255 [00:08<00:00, 28.54it/s]\n"
     ]
    }
   ],
   "source": [
    "test_problem_description_dict={}\n",
    "for file in tqdm(test_problems,total=len(test_problems)):\n",
    "    \n",
    "    \n",
    "    file='.'+file\n",
    "    pid=file.split('/')[-1].split('.')[0]\n",
    "    df=pd.read_csv(file)\n",
    "    \n",
    "    acc_len=len(df.loc[(df['status']=='Accepted') & (df['language']=='Java')])\n",
    "    WA_len=len(df.loc[(df['status']=='Wrong Answer') & (df['language']=='Java')])\n",
    "    RE_len=len(df.loc[(df['status']=='Runtime Error') & (df['language']=='Java')])\n",
    "    CE_len=len(df.loc[(df['status']=='Compile Error') & (df['language']=='Java')])\n",
    "    \n",
    "    test_problem_description_dict[pid]=[acc_len,WA_len,RE_len,CE_len]\n",
    "#     train_problem_description_dict[pid].append(acc_len)\n",
    "    \n",
    "    \n",
    "#     break"
   ]
  },
  {
   "cell_type": "code",
   "execution_count": 49,
   "id": "8bfd0bff",
   "metadata": {},
   "outputs": [],
   "source": [
    "test_df=pd.DataFrame.from_dict(test_problem_description_dict,orient='index',columns=['Accepted','WrongAnswer','RuntimeError','CompileError'])"
   ]
  },
  {
   "cell_type": "code",
   "execution_count": 50,
   "id": "ca6610c6",
   "metadata": {},
   "outputs": [
    {
     "data": {
      "text/html": [
       "<div>\n",
       "<style scoped>\n",
       "    .dataframe tbody tr th:only-of-type {\n",
       "        vertical-align: middle;\n",
       "    }\n",
       "\n",
       "    .dataframe tbody tr th {\n",
       "        vertical-align: top;\n",
       "    }\n",
       "\n",
       "    .dataframe thead th {\n",
       "        text-align: right;\n",
       "    }\n",
       "</style>\n",
       "<table border=\"1\" class=\"dataframe\">\n",
       "  <thead>\n",
       "    <tr style=\"text-align: right;\">\n",
       "      <th></th>\n",
       "      <th>Accepted</th>\n",
       "      <th>WrongAnswer</th>\n",
       "      <th>RuntimeError</th>\n",
       "      <th>CompileError</th>\n",
       "    </tr>\n",
       "  </thead>\n",
       "  <tbody>\n",
       "    <tr>\n",
       "      <th>p03261</th>\n",
       "      <td>416</td>\n",
       "      <td>78</td>\n",
       "      <td>17</td>\n",
       "      <td>38</td>\n",
       "    </tr>\n",
       "    <tr>\n",
       "      <th>p02657</th>\n",
       "      <td>838</td>\n",
       "      <td>34</td>\n",
       "      <td>148</td>\n",
       "      <td>269</td>\n",
       "    </tr>\n",
       "    <tr>\n",
       "      <th>p02675</th>\n",
       "      <td>847</td>\n",
       "      <td>110</td>\n",
       "      <td>143</td>\n",
       "      <td>290</td>\n",
       "    </tr>\n",
       "    <tr>\n",
       "      <th>p03012</th>\n",
       "      <td>477</td>\n",
       "      <td>104</td>\n",
       "      <td>9</td>\n",
       "      <td>38</td>\n",
       "    </tr>\n",
       "    <tr>\n",
       "      <th>p03011</th>\n",
       "      <td>546</td>\n",
       "      <td>101</td>\n",
       "      <td>36</td>\n",
       "      <td>87</td>\n",
       "    </tr>\n",
       "  </tbody>\n",
       "</table>\n",
       "</div>"
      ],
      "text/plain": [
       "        Accepted  WrongAnswer  RuntimeError  CompileError\n",
       "p03261       416           78            17            38\n",
       "p02657       838           34           148           269\n",
       "p02675       847          110           143           290\n",
       "p03012       477          104             9            38\n",
       "p03011       546          101            36            87"
      ]
     },
     "execution_count": 50,
     "metadata": {},
     "output_type": "execute_result"
    }
   ],
   "source": [
    "test_df.head()"
   ]
  },
  {
   "cell_type": "code",
   "execution_count": 51,
   "id": "ff94cac5",
   "metadata": {},
   "outputs": [],
   "source": [
    "accepted_test_li=list(test_df['Accepted'])\n",
    "WA_test_li=list(test_df['WrongAnswer'])\n",
    "RE_test_li=list(test_df['RuntimeError'])\n",
    "CE_test_li=list(test_df['CompileError'])"
   ]
  },
  {
   "cell_type": "code",
   "execution_count": 52,
   "id": "07e0bd4c",
   "metadata": {},
   "outputs": [
    {
     "name": "stdout",
     "output_type": "stream",
     "text": [
      "Length of list: 254\n",
      "Mimimum among the list: 62\n",
      "Maximum among the list: 1394\n",
      "Mean of the list: 442.62992125984255\n",
      "Standard Deviation of the list: 213.44706707589327\n",
      "Number of problems above the Mean+STD:28\n",
      "Number of problems below the Mean-STD:45\n"
     ]
    }
   ],
   "source": [
    "get_stats(accepted_test_li)"
   ]
  },
  {
   "cell_type": "code",
   "execution_count": 53,
   "id": "160e351a",
   "metadata": {},
   "outputs": [
    {
     "name": "stdout",
     "output_type": "stream",
     "text": [
      "Length of list: 254\n",
      "Mimimum among the list: 6\n",
      "Maximum among the list: 2152\n",
      "Mean of the list: 218.83464566929135\n",
      "Standard Deviation of the list: 242.3821497474866\n",
      "Number of problems above the Mean+STD:29\n",
      "Number of problems below the Mean-STD:0\n"
     ]
    }
   ],
   "source": [
    "get_stats(WA_test_li)"
   ]
  },
  {
   "cell_type": "code",
   "execution_count": 54,
   "id": "232dbd75",
   "metadata": {},
   "outputs": [
    {
     "name": "stdout",
     "output_type": "stream",
     "text": [
      "Length of list: 254\n",
      "Mimimum among the list: 3\n",
      "Maximum among the list: 706\n",
      "Mean of the list: 69.04330708661418\n",
      "Standard Deviation of the list: 80.41292360047957\n",
      "Number of problems above the Mean+STD:21\n",
      "Number of problems below the Mean-STD:0\n"
     ]
    }
   ],
   "source": [
    "get_stats(RE_test_li)"
   ]
  },
  {
   "cell_type": "code",
   "execution_count": 55,
   "id": "4664fbbc",
   "metadata": {},
   "outputs": [
    {
     "name": "stdout",
     "output_type": "stream",
     "text": [
      "Length of list: 254\n",
      "Mimimum among the list: 5\n",
      "Maximum among the list: 537\n",
      "Mean of the list: 78.3267716535433\n",
      "Standard Deviation of the list: 77.9659697104119\n",
      "Number of problems above the Mean+STD:29\n",
      "Number of problems below the Mean-STD:0\n"
     ]
    }
   ],
   "source": [
    "get_stats(CE_test_li)"
   ]
  },
  {
   "cell_type": "code",
   "execution_count": null,
   "id": "f843b804",
   "metadata": {},
   "outputs": [],
   "source": []
  },
  {
   "cell_type": "code",
   "execution_count": null,
   "id": "9bd70a18",
   "metadata": {},
   "outputs": [],
   "source": []
  },
  {
   "cell_type": "code",
   "execution_count": null,
   "id": "41e740d9",
   "metadata": {},
   "outputs": [],
   "source": []
  },
  {
   "cell_type": "code",
   "execution_count": null,
   "id": "536d37e0",
   "metadata": {},
   "outputs": [],
   "source": []
  },
  {
   "cell_type": "code",
   "execution_count": null,
   "id": "66badd51",
   "metadata": {},
   "outputs": [],
   "source": []
  },
  {
   "cell_type": "code",
   "execution_count": null,
   "id": "900fd22f",
   "metadata": {},
   "outputs": [],
   "source": []
  },
  {
   "cell_type": "code",
   "execution_count": null,
   "id": "b28496c6",
   "metadata": {},
   "outputs": [],
   "source": []
  },
  {
   "cell_type": "code",
   "execution_count": null,
   "id": "8449213d",
   "metadata": {},
   "outputs": [],
   "source": []
  },
  {
   "cell_type": "code",
   "execution_count": null,
   "id": "78534c90",
   "metadata": {},
   "outputs": [],
   "source": []
  },
  {
   "cell_type": "code",
   "execution_count": null,
   "id": "50de8a96",
   "metadata": {},
   "outputs": [],
   "source": []
  },
  {
   "cell_type": "code",
   "execution_count": null,
   "id": "0c455e31",
   "metadata": {},
   "outputs": [],
   "source": []
  }
 ],
 "metadata": {
  "kernelspec": {
   "display_name": "Python 3 (ipykernel)",
   "language": "python",
   "name": "python3"
  },
  "language_info": {
   "codemirror_mode": {
    "name": "ipython",
    "version": 3
   },
   "file_extension": ".py",
   "mimetype": "text/x-python",
   "name": "python",
   "nbconvert_exporter": "python",
   "pygments_lexer": "ipython3",
   "version": "3.9.7"
  }
 },
 "nbformat": 4,
 "nbformat_minor": 5
}
