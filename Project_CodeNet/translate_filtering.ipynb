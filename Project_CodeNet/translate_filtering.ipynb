{
 "cells": [
  {
   "cell_type": "code",
   "execution_count": 1,
   "id": "d3eee148",
   "metadata": {},
   "outputs": [],
   "source": [
    "import pandas as pd\n",
    "import numpy as np"
   ]
  },
  {
   "cell_type": "code",
   "execution_count": 2,
   "id": "703e97d2",
   "metadata": {},
   "outputs": [],
   "source": [
    "from tqdm import tqdm"
   ]
  },
  {
   "cell_type": "code",
   "execution_count": 3,
   "id": "4dc7a750",
   "metadata": {},
   "outputs": [],
   "source": [
    "import pickle"
   ]
  },
  {
   "cell_type": "code",
   "execution_count": 4,
   "id": "b8c4b649",
   "metadata": {},
   "outputs": [],
   "source": [
    "unfiltered_df=pd.read_csv('./problem_descriptions_untranslated.csv')"
   ]
  },
  {
   "cell_type": "code",
   "execution_count": 5,
   "id": "f924b44d",
   "metadata": {},
   "outputs": [
    {
     "data": {
      "text/html": [
       "<div>\n",
       "<style scoped>\n",
       "    .dataframe tbody tr th:only-of-type {\n",
       "        vertical-align: middle;\n",
       "    }\n",
       "\n",
       "    .dataframe tbody tr th {\n",
       "        vertical-align: top;\n",
       "    }\n",
       "\n",
       "    .dataframe thead th {\n",
       "        text-align: right;\n",
       "    }\n",
       "</style>\n",
       "<table border=\"1\" class=\"dataframe\">\n",
       "  <thead>\n",
       "    <tr style=\"text-align: right;\">\n",
       "      <th></th>\n",
       "      <th>index</th>\n",
       "      <th>Title_CSV</th>\n",
       "      <th>Title</th>\n",
       "      <th>Description</th>\n",
       "      <th>Sec_Description</th>\n",
       "    </tr>\n",
       "  </thead>\n",
       "  <tbody>\n",
       "    <tr>\n",
       "      <th>0</th>\n",
       "      <td>p00000</td>\n",
       "      <td>QQ</td>\n",
       "      <td>qq</td>\n",
       "      <td>\\nwrite a program which prints multiplication ...</td>\n",
       "      <td>\\nno input.\\n \\n\\n</td>\n",
       "    </tr>\n",
       "    <tr>\n",
       "      <th>1</th>\n",
       "      <td>p00001</td>\n",
       "      <td>List of Top 3 Hills</td>\n",
       "      <td>list of top 3 hills</td>\n",
       "      <td>\\nthere is a data which provides heights (in m...</td>\n",
       "      <td>input\\n\\n\\nheight of mountain 1\\nheight of mou...</td>\n",
       "    </tr>\n",
       "    <tr>\n",
       "      <th>2</th>\n",
       "      <td>p00002</td>\n",
       "      <td>Digit Number</td>\n",
       "      <td>digit number</td>\n",
       "      <td>\\nwrite a program which computes the digit num...</td>\n",
       "      <td>\\nthere are several test cases. each test case...</td>\n",
       "    </tr>\n",
       "    <tr>\n",
       "      <th>3</th>\n",
       "      <td>p00003</td>\n",
       "      <td>Is it a Right Triangle?</td>\n",
       "      <td>is it a right triangle?</td>\n",
       "      <td>\\nwrite a program which judges wheather given ...</td>\n",
       "      <td>\\ninput consists of several data sets. in the ...</td>\n",
       "    </tr>\n",
       "    <tr>\n",
       "      <th>4</th>\n",
       "      <td>p00004</td>\n",
       "      <td>Simultaneous Equation</td>\n",
       "      <td>simultaneous equation</td>\n",
       "      <td>\\nwrite a program which solve a simultaneous e...</td>\n",
       "      <td>\\nthe input consists of several data sets, 1 l...</td>\n",
       "    </tr>\n",
       "  </tbody>\n",
       "</table>\n",
       "</div>"
      ],
      "text/plain": [
       "    index                Title_CSV                    Title  \\\n",
       "0  p00000                       QQ                       qq   \n",
       "1  p00001      List of Top 3 Hills      list of top 3 hills   \n",
       "2  p00002             Digit Number             digit number   \n",
       "3  p00003  Is it a Right Triangle?  is it a right triangle?   \n",
       "4  p00004    Simultaneous Equation    simultaneous equation   \n",
       "\n",
       "                                         Description  \\\n",
       "0  \\nwrite a program which prints multiplication ...   \n",
       "1  \\nthere is a data which provides heights (in m...   \n",
       "2  \\nwrite a program which computes the digit num...   \n",
       "3  \\nwrite a program which judges wheather given ...   \n",
       "4  \\nwrite a program which solve a simultaneous e...   \n",
       "\n",
       "                                     Sec_Description  \n",
       "0                                 \\nno input.\\n \\n\\n  \n",
       "1  input\\n\\n\\nheight of mountain 1\\nheight of mou...  \n",
       "2  \\nthere are several test cases. each test case...  \n",
       "3  \\ninput consists of several data sets. in the ...  \n",
       "4  \\nthe input consists of several data sets, 1 l...  "
      ]
     },
     "execution_count": 5,
     "metadata": {},
     "output_type": "execute_result"
    }
   ],
   "source": [
    "unfiltered_df.head()"
   ]
  },
  {
   "cell_type": "code",
   "execution_count": 6,
   "id": "c309b0ee",
   "metadata": {},
   "outputs": [
    {
     "data": {
      "text/html": [
       "<div>\n",
       "<style scoped>\n",
       "    .dataframe tbody tr th:only-of-type {\n",
       "        vertical-align: middle;\n",
       "    }\n",
       "\n",
       "    .dataframe tbody tr th {\n",
       "        vertical-align: top;\n",
       "    }\n",
       "\n",
       "    .dataframe thead th {\n",
       "        text-align: right;\n",
       "    }\n",
       "</style>\n",
       "<table border=\"1\" class=\"dataframe\">\n",
       "  <thead>\n",
       "    <tr style=\"text-align: right;\">\n",
       "      <th></th>\n",
       "      <th>index</th>\n",
       "      <th>Title_CSV</th>\n",
       "      <th>Title</th>\n",
       "      <th>Description</th>\n",
       "      <th>Sec_Description</th>\n",
       "    </tr>\n",
       "  </thead>\n",
       "  <tbody>\n",
       "    <tr>\n",
       "      <th>2478</th>\n",
       "      <td>p02478</td>\n",
       "      <td>NaN</td>\n",
       "      <td>problem is available from here.</td>\n",
       "      <td>NaN</td>\n",
       "      <td></td>\n",
       "    </tr>\n",
       "    <tr>\n",
       "      <th>2479</th>\n",
       "      <td>p02533</td>\n",
       "      <td>NaN</td>\n",
       "      <td>problem 9999</td>\n",
       "      <td>\\nこれはテスト問題です。\\nthis is test problem. compute a...</td>\n",
       "      <td></td>\n",
       "    </tr>\n",
       "  </tbody>\n",
       "</table>\n",
       "</div>"
      ],
      "text/plain": [
       "       index Title_CSV                            Title  \\\n",
       "2478  p02478       NaN  problem is available from here.   \n",
       "2479  p02533       NaN                     problem 9999   \n",
       "\n",
       "                                            Description Sec_Description  \n",
       "2478                                                NaN                  \n",
       "2479  \\nこれはテスト問題です。\\nthis is test problem. compute a...                  "
      ]
     },
     "execution_count": 6,
     "metadata": {},
     "output_type": "execute_result"
    }
   ],
   "source": [
    "none_li=unfiltered_df['Title_CSV'].isnull().values\n",
    "unfiltered_df[none_li]"
   ]
  },
  {
   "cell_type": "code",
   "execution_count": 7,
   "id": "92cee4a6",
   "metadata": {},
   "outputs": [
    {
     "data": {
      "text/plain": [
       "1775    \\n\\n\n",
       "Name: Description, dtype: object"
      ]
     },
     "execution_count": 7,
     "metadata": {},
     "output_type": "execute_result"
    }
   ],
   "source": [
    "unfiltered_df.loc[unfiltered_df['index']=='p01775']['Description']"
   ]
  },
  {
   "cell_type": "code",
   "execution_count": 8,
   "id": "e1061dcd",
   "metadata": {},
   "outputs": [
    {
     "data": {
      "text/html": [
       "<div>\n",
       "<style scoped>\n",
       "    .dataframe tbody tr th:only-of-type {\n",
       "        vertical-align: middle;\n",
       "    }\n",
       "\n",
       "    .dataframe tbody tr th {\n",
       "        vertical-align: top;\n",
       "    }\n",
       "\n",
       "    .dataframe thead th {\n",
       "        text-align: right;\n",
       "    }\n",
       "</style>\n",
       "<table border=\"1\" class=\"dataframe\">\n",
       "  <thead>\n",
       "    <tr style=\"text-align: right;\">\n",
       "      <th></th>\n",
       "      <th>index</th>\n",
       "      <th>Title_CSV</th>\n",
       "      <th>Title</th>\n",
       "      <th>Description</th>\n",
       "      <th>Sec_Description</th>\n",
       "    </tr>\n",
       "  </thead>\n",
       "  <tbody>\n",
       "    <tr>\n",
       "      <th>1731</th>\n",
       "      <td>p01731</td>\n",
       "      <td>Thread Tree</td>\n",
       "      <td>\\nnathan o. davis has been running an electron...</td>\n",
       "      <td>NaN</td>\n",
       "      <td></td>\n",
       "    </tr>\n",
       "    <tr>\n",
       "      <th>2225</th>\n",
       "      <td>p02225</td>\n",
       "      <td>Sum Them Up!</td>\n",
       "      <td>problem description is available from here.</td>\n",
       "      <td>NaN</td>\n",
       "      <td></td>\n",
       "    </tr>\n",
       "    <tr>\n",
       "      <th>2227</th>\n",
       "      <td>p02227</td>\n",
       "      <td>Test</td>\n",
       "      <td>unionfind（ランダム生成）</td>\n",
       "      <td>NaN</td>\n",
       "      <td></td>\n",
       "    </tr>\n",
       "    <tr>\n",
       "      <th>2228</th>\n",
       "      <td>p02228</td>\n",
       "      <td>UF</td>\n",
       "      <td>a</td>\n",
       "      <td>NaN</td>\n",
       "      <td></td>\n",
       "    </tr>\n",
       "    <tr>\n",
       "      <th>2229</th>\n",
       "      <td>p02229</td>\n",
       "      <td>UF</td>\n",
       "      <td>b</td>\n",
       "      <td>NaN</td>\n",
       "      <td></td>\n",
       "    </tr>\n",
       "    <tr>\n",
       "      <th>2230</th>\n",
       "      <td>p02230</td>\n",
       "      <td>UF</td>\n",
       "      <td>uf with binary input (k = 100)</td>\n",
       "      <td>NaN</td>\n",
       "      <td></td>\n",
       "    </tr>\n",
       "    <tr>\n",
       "      <th>2231</th>\n",
       "      <td>p02231</td>\n",
       "      <td>UF</td>\n",
       "      <td>uf with standard input (k = 100)</td>\n",
       "      <td>NaN</td>\n",
       "      <td></td>\n",
       "    </tr>\n",
       "    <tr>\n",
       "      <th>2232</th>\n",
       "      <td>p02232</td>\n",
       "      <td>Secret of Chocolate Poles</td>\n",
       "      <td>problem is available from here.</td>\n",
       "      <td>NaN</td>\n",
       "      <td></td>\n",
       "    </tr>\n",
       "    <tr>\n",
       "      <th>2478</th>\n",
       "      <td>p02478</td>\n",
       "      <td>NaN</td>\n",
       "      <td>problem is available from here.</td>\n",
       "      <td>NaN</td>\n",
       "      <td></td>\n",
       "    </tr>\n",
       "    <tr>\n",
       "      <th>2817</th>\n",
       "      <td>p02871</td>\n",
       "      <td>Hitachi Hokudai Labo &amp; Hokkaido University Con...</td>\n",
       "      <td>problem setting</td>\n",
       "      <td>NaN</td>\n",
       "      <td></td>\n",
       "    </tr>\n",
       "    <tr>\n",
       "      <th>2818</th>\n",
       "      <td>p02872</td>\n",
       "      <td>Hitachi Hokudai Labo &amp; Hokkaido University Con...</td>\n",
       "      <td>problem setting</td>\n",
       "      <td>NaN</td>\n",
       "      <td></td>\n",
       "    </tr>\n",
       "  </tbody>\n",
       "</table>\n",
       "</div>"
      ],
      "text/plain": [
       "       index                                          Title_CSV  \\\n",
       "1731  p01731                                        Thread Tree   \n",
       "2225  p02225                                       Sum Them Up!   \n",
       "2227  p02227                                               Test   \n",
       "2228  p02228                                                 UF   \n",
       "2229  p02229                                                 UF   \n",
       "2230  p02230                                                 UF   \n",
       "2231  p02231                                                 UF   \n",
       "2232  p02232                          Secret of Chocolate Poles   \n",
       "2478  p02478                                                NaN   \n",
       "2817  p02871  Hitachi Hokudai Labo & Hokkaido University Con...   \n",
       "2818  p02872  Hitachi Hokudai Labo & Hokkaido University Con...   \n",
       "\n",
       "                                                  Title Description  \\\n",
       "1731  \\nnathan o. davis has been running an electron...         NaN   \n",
       "2225        problem description is available from here.         NaN   \n",
       "2227                                 unionfind（ランダム生成）          NaN   \n",
       "2228                                                  a         NaN   \n",
       "2229                                                  b         NaN   \n",
       "2230                     uf with binary input (k = 100)         NaN   \n",
       "2231                   uf with standard input (k = 100)         NaN   \n",
       "2232                    problem is available from here.         NaN   \n",
       "2478                    problem is available from here.         NaN   \n",
       "2817                                    problem setting         NaN   \n",
       "2818                                    problem setting         NaN   \n",
       "\n",
       "     Sec_Description  \n",
       "1731                  \n",
       "2225                  \n",
       "2227                  \n",
       "2228                  \n",
       "2229                  \n",
       "2230                  \n",
       "2231                  \n",
       "2232                  \n",
       "2478                  \n",
       "2817                  \n",
       "2818                  "
      ]
     },
     "execution_count": 8,
     "metadata": {},
     "output_type": "execute_result"
    }
   ],
   "source": [
    "none_li=unfiltered_df['Description'].isnull().values\n",
    "unfiltered_df[none_li]"
   ]
  },
  {
   "cell_type": "code",
   "execution_count": 9,
   "id": "1f3a183c",
   "metadata": {},
   "outputs": [
    {
     "data": {
      "text/plain": [
       "float"
      ]
     },
     "execution_count": 9,
     "metadata": {},
     "output_type": "execute_result"
    }
   ],
   "source": [
    "num=9.8\n",
    "type(num)"
   ]
  },
  {
   "cell_type": "code",
   "execution_count": 10,
   "id": "646ca797",
   "metadata": {},
   "outputs": [
    {
     "name": "stdout",
     "output_type": "stream",
     "text": [
      "<re.Match object; span=(0, 0), match=''>\n",
      "Hi\n"
     ]
    }
   ],
   "source": [
    "import re\n",
    "st='hello'\n",
    "print(re.match('\\n*',st))\n",
    "if re.match('\\n*',st):\n",
    "    print('Hi')"
   ]
  },
  {
   "cell_type": "code",
   "execution_count": 11,
   "id": "e277e45f",
   "metadata": {},
   "outputs": [
    {
     "name": "stderr",
     "output_type": "stream",
     "text": [
      "100%|████████████████████████████████████| 3999/3999 [00:00<00:00, 18187.62it/s]\n"
     ]
    },
    {
     "data": {
      "text/html": [
       "<div>\n",
       "<style scoped>\n",
       "    .dataframe tbody tr th:only-of-type {\n",
       "        vertical-align: middle;\n",
       "    }\n",
       "\n",
       "    .dataframe tbody tr th {\n",
       "        vertical-align: top;\n",
       "    }\n",
       "\n",
       "    .dataframe thead th {\n",
       "        text-align: right;\n",
       "    }\n",
       "</style>\n",
       "<table border=\"1\" class=\"dataframe\">\n",
       "  <thead>\n",
       "    <tr style=\"text-align: right;\">\n",
       "      <th></th>\n",
       "      <th>index</th>\n",
       "      <th>Final_title</th>\n",
       "      <th>Final_description</th>\n",
       "    </tr>\n",
       "  </thead>\n",
       "  <tbody>\n",
       "    <tr>\n",
       "      <th>0</th>\n",
       "      <td>p00000</td>\n",
       "      <td>QQ</td>\n",
       "      <td>\\nwrite a program which prints multiplication ...</td>\n",
       "    </tr>\n",
       "    <tr>\n",
       "      <th>1</th>\n",
       "      <td>p00001</td>\n",
       "      <td>List of Top 3 Hills</td>\n",
       "      <td>\\nthere is a data which provides heights (in m...</td>\n",
       "    </tr>\n",
       "    <tr>\n",
       "      <th>2</th>\n",
       "      <td>p00002</td>\n",
       "      <td>Digit Number</td>\n",
       "      <td>\\nwrite a program which computes the digit num...</td>\n",
       "    </tr>\n",
       "    <tr>\n",
       "      <th>3</th>\n",
       "      <td>p00003</td>\n",
       "      <td>Is it a Right Triangle?</td>\n",
       "      <td>\\nwrite a program which judges wheather given ...</td>\n",
       "    </tr>\n",
       "    <tr>\n",
       "      <th>4</th>\n",
       "      <td>p00004</td>\n",
       "      <td>Simultaneous Equation</td>\n",
       "      <td>\\nwrite a program which solve a simultaneous e...</td>\n",
       "    </tr>\n",
       "  </tbody>\n",
       "</table>\n",
       "</div>"
      ],
      "text/plain": [
       "    index              Final_title  \\\n",
       "0  p00000                       QQ   \n",
       "1  p00001      List of Top 3 Hills   \n",
       "2  p00002             Digit Number   \n",
       "3  p00003  Is it a Right Triangle?   \n",
       "4  p00004    Simultaneous Equation   \n",
       "\n",
       "                                   Final_description  \n",
       "0  \\nwrite a program which prints multiplication ...  \n",
       "1  \\nthere is a data which provides heights (in m...  \n",
       "2  \\nwrite a program which computes the digit num...  \n",
       "3  \\nwrite a program which judges wheather given ...  \n",
       "4  \\nwrite a program which solve a simultaneous e...  "
      ]
     },
     "execution_count": 11,
     "metadata": {},
     "output_type": "execute_result"
    }
   ],
   "source": [
    "title_final=[]\n",
    "description_final=[]\n",
    "\n",
    "\n",
    "for i,row in tqdm(unfiltered_df.iterrows(),total=len(unfiltered_df)):\n",
    "    \n",
    "\n",
    "    if pd.isnull(row['Title_CSV']):\n",
    "        title_final.append(row['Title'])\n",
    "        \n",
    "    else:\n",
    "        title_final.append(row['Title_CSV'].split('-')[-1])\n",
    "        \n",
    "        \n",
    "    if pd.isnull(row['Description']) or row['Description'].isspace():\n",
    "        description_final.append(row['Sec_Description'])\n",
    "        \n",
    "    else:\n",
    "        description_final.append(row['Description'])\n",
    "        \n",
    "unfiltered_df['Final_title']=title_final\n",
    "unfiltered_df['Final_description']=description_final\n",
    "\n",
    "\n",
    "filtered_df=unfiltered_df[['index','Final_title','Final_description']]\n",
    "filtered_df.head()\n",
    "    \n",
    "    "
   ]
  },
  {
   "cell_type": "code",
   "execution_count": 31,
   "id": "ac1eb474",
   "metadata": {},
   "outputs": [],
   "source": [
    "filtered_df.to_csv('filtered_problem_desc.csv',index=False)"
   ]
  },
  {
   "cell_type": "code",
   "execution_count": 12,
   "id": "62a4a898",
   "metadata": {},
   "outputs": [],
   "source": [
    "with open('test_problems.pkl','rb') as f:\n",
    "    test_problems=pickle.load(f)\n",
    "    \n",
    "with open('train_problems.pkl','rb') as f:\n",
    "    train_problems=pickle.load(f)"
   ]
  },
  {
   "cell_type": "code",
   "execution_count": 13,
   "id": "36323de0",
   "metadata": {},
   "outputs": [
    {
     "data": {
      "text/plain": [
       "1062"
      ]
     },
     "execution_count": 13,
     "metadata": {},
     "output_type": "execute_result"
    }
   ],
   "source": [
    "all_problems=test_problems+train_problems\n",
    "len(all_problems)"
   ]
  },
  {
   "cell_type": "code",
   "execution_count": 14,
   "id": "716296a9",
   "metadata": {},
   "outputs": [],
   "source": [
    "all_problems[0]\n",
    "for i,file in enumerate(all_problems):\n",
    "    all_problems[i]=file.split('/')[-1].split('.c')[0]"
   ]
  },
  {
   "cell_type": "code",
   "execution_count": 15,
   "id": "95cbddde",
   "metadata": {},
   "outputs": [
    {
     "data": {
      "text/plain": [
       "'p03261'"
      ]
     },
     "execution_count": 15,
     "metadata": {},
     "output_type": "execute_result"
    }
   ],
   "source": [
    "all_problems[0]"
   ]
  },
  {
   "cell_type": "code",
   "execution_count": 16,
   "id": "398e7ca3",
   "metadata": {},
   "outputs": [
    {
     "data": {
      "text/plain": [
       "1061"
      ]
     },
     "execution_count": 16,
     "metadata": {},
     "output_type": "execute_result"
    }
   ],
   "source": [
    "filtered_df=filtered_df.loc[filtered_df['index'].isin(all_problems)]\n",
    "len(filtered_df)"
   ]
  },
  {
   "cell_type": "code",
   "execution_count": 17,
   "id": "4f91f36b",
   "metadata": {},
   "outputs": [
    {
     "data": {
      "text/html": [
       "<div>\n",
       "<style scoped>\n",
       "    .dataframe tbody tr th:only-of-type {\n",
       "        vertical-align: middle;\n",
       "    }\n",
       "\n",
       "    .dataframe tbody tr th {\n",
       "        vertical-align: top;\n",
       "    }\n",
       "\n",
       "    .dataframe thead th {\n",
       "        text-align: right;\n",
       "    }\n",
       "</style>\n",
       "<table border=\"1\" class=\"dataframe\">\n",
       "  <thead>\n",
       "    <tr style=\"text-align: right;\">\n",
       "      <th></th>\n",
       "      <th>index</th>\n",
       "      <th>Final_title</th>\n",
       "      <th>Final_description</th>\n",
       "    </tr>\n",
       "  </thead>\n",
       "  <tbody>\n",
       "    <tr>\n",
       "      <th>0</th>\n",
       "      <td>p00000</td>\n",
       "      <td>QQ</td>\n",
       "      <td>\\nwrite a program which prints multiplication ...</td>\n",
       "    </tr>\n",
       "    <tr>\n",
       "      <th>1</th>\n",
       "      <td>p00001</td>\n",
       "      <td>List of Top 3 Hills</td>\n",
       "      <td>\\nthere is a data which provides heights (in m...</td>\n",
       "    </tr>\n",
       "    <tr>\n",
       "      <th>2</th>\n",
       "      <td>p00002</td>\n",
       "      <td>Digit Number</td>\n",
       "      <td>\\nwrite a program which computes the digit num...</td>\n",
       "    </tr>\n",
       "    <tr>\n",
       "      <th>3</th>\n",
       "      <td>p00003</td>\n",
       "      <td>Is it a Right Triangle?</td>\n",
       "      <td>\\nwrite a program which judges wheather given ...</td>\n",
       "    </tr>\n",
       "    <tr>\n",
       "      <th>4</th>\n",
       "      <td>p00004</td>\n",
       "      <td>Simultaneous Equation</td>\n",
       "      <td>\\nwrite a program which solve a simultaneous e...</td>\n",
       "    </tr>\n",
       "    <tr>\n",
       "      <th>...</th>\n",
       "      <td>...</td>\n",
       "      <td>...</td>\n",
       "      <td>...</td>\n",
       "    </tr>\n",
       "    <tr>\n",
       "      <th>3990</th>\n",
       "      <td>p04044</td>\n",
       "      <td>Iroha Loves Strings (ABC Edition)</td>\n",
       "      <td>iroha has a sequence of n strings s_1, s_2, .....</td>\n",
       "    </tr>\n",
       "    <tr>\n",
       "      <th>3991</th>\n",
       "      <td>p04045</td>\n",
       "      <td>Iroha's Obsession</td>\n",
       "      <td>iroha is very particular about numbers. there ...</td>\n",
       "    </tr>\n",
       "    <tr>\n",
       "      <th>3992</th>\n",
       "      <td>p04046</td>\n",
       "      <td>Iroha and a Grid</td>\n",
       "      <td>we have a large square grid with h rows and w ...</td>\n",
       "    </tr>\n",
       "    <tr>\n",
       "      <th>3993</th>\n",
       "      <td>p04047</td>\n",
       "      <td>BBQ Easy</td>\n",
       "      <td>snuke is having a barbeque party. at the party...</td>\n",
       "    </tr>\n",
       "    <tr>\n",
       "      <th>3994</th>\n",
       "      <td>p04048</td>\n",
       "      <td>Mysterious Light</td>\n",
       "      <td>snuke is conducting an optical experiment usin...</td>\n",
       "    </tr>\n",
       "  </tbody>\n",
       "</table>\n",
       "<p>1061 rows × 3 columns</p>\n",
       "</div>"
      ],
      "text/plain": [
       "       index                         Final_title  \\\n",
       "0     p00000                                  QQ   \n",
       "1     p00001                 List of Top 3 Hills   \n",
       "2     p00002                        Digit Number   \n",
       "3     p00003             Is it a Right Triangle?   \n",
       "4     p00004               Simultaneous Equation   \n",
       "...      ...                                 ...   \n",
       "3990  p04044   Iroha Loves Strings (ABC Edition)   \n",
       "3991  p04045                   Iroha's Obsession   \n",
       "3992  p04046                    Iroha and a Grid   \n",
       "3993  p04047                            BBQ Easy   \n",
       "3994  p04048                    Mysterious Light   \n",
       "\n",
       "                                      Final_description  \n",
       "0     \\nwrite a program which prints multiplication ...  \n",
       "1     \\nthere is a data which provides heights (in m...  \n",
       "2     \\nwrite a program which computes the digit num...  \n",
       "3     \\nwrite a program which judges wheather given ...  \n",
       "4     \\nwrite a program which solve a simultaneous e...  \n",
       "...                                                 ...  \n",
       "3990  iroha has a sequence of n strings s_1, s_2, .....  \n",
       "3991  iroha is very particular about numbers. there ...  \n",
       "3992  we have a large square grid with h rows and w ...  \n",
       "3993  snuke is having a barbeque party. at the party...  \n",
       "3994  snuke is conducting an optical experiment usin...  \n",
       "\n",
       "[1061 rows x 3 columns]"
      ]
     },
     "execution_count": 17,
     "metadata": {},
     "output_type": "execute_result"
    }
   ],
   "source": [
    "filtered_df"
   ]
  },
  {
   "cell_type": "code",
   "execution_count": 18,
   "id": "8ad4ec40",
   "metadata": {},
   "outputs": [
    {
     "data": {
      "text/html": [
       "<div>\n",
       "<style scoped>\n",
       "    .dataframe tbody tr th:only-of-type {\n",
       "        vertical-align: middle;\n",
       "    }\n",
       "\n",
       "    .dataframe tbody tr th {\n",
       "        vertical-align: top;\n",
       "    }\n",
       "\n",
       "    .dataframe thead th {\n",
       "        text-align: right;\n",
       "    }\n",
       "</style>\n",
       "<table border=\"1\" class=\"dataframe\">\n",
       "  <thead>\n",
       "    <tr style=\"text-align: right;\">\n",
       "      <th></th>\n",
       "      <th>index</th>\n",
       "      <th>Final_description</th>\n",
       "    </tr>\n",
       "  </thead>\n",
       "  <tbody>\n",
       "    <tr>\n",
       "      <th>0</th>\n",
       "      <td>p00000</td>\n",
       "      <td>\\nwrite a program which prints multiplication ...</td>\n",
       "    </tr>\n",
       "    <tr>\n",
       "      <th>1</th>\n",
       "      <td>p00001</td>\n",
       "      <td>\\nthere is a data which provides heights (in m...</td>\n",
       "    </tr>\n",
       "    <tr>\n",
       "      <th>2</th>\n",
       "      <td>p00002</td>\n",
       "      <td>\\nwrite a program which computes the digit num...</td>\n",
       "    </tr>\n",
       "    <tr>\n",
       "      <th>3</th>\n",
       "      <td>p00003</td>\n",
       "      <td>\\nwrite a program which judges wheather given ...</td>\n",
       "    </tr>\n",
       "    <tr>\n",
       "      <th>4</th>\n",
       "      <td>p00004</td>\n",
       "      <td>\\nwrite a program which solve a simultaneous e...</td>\n",
       "    </tr>\n",
       "    <tr>\n",
       "      <th>...</th>\n",
       "      <td>...</td>\n",
       "      <td>...</td>\n",
       "    </tr>\n",
       "    <tr>\n",
       "      <th>3990</th>\n",
       "      <td>p04044</td>\n",
       "      <td>iroha has a sequence of n strings s_1, s_2, .....</td>\n",
       "    </tr>\n",
       "    <tr>\n",
       "      <th>3991</th>\n",
       "      <td>p04045</td>\n",
       "      <td>iroha is very particular about numbers. there ...</td>\n",
       "    </tr>\n",
       "    <tr>\n",
       "      <th>3992</th>\n",
       "      <td>p04046</td>\n",
       "      <td>we have a large square grid with h rows and w ...</td>\n",
       "    </tr>\n",
       "    <tr>\n",
       "      <th>3993</th>\n",
       "      <td>p04047</td>\n",
       "      <td>snuke is having a barbeque party. at the party...</td>\n",
       "    </tr>\n",
       "    <tr>\n",
       "      <th>3994</th>\n",
       "      <td>p04048</td>\n",
       "      <td>snuke is conducting an optical experiment usin...</td>\n",
       "    </tr>\n",
       "  </tbody>\n",
       "</table>\n",
       "<p>1061 rows × 2 columns</p>\n",
       "</div>"
      ],
      "text/plain": [
       "       index                                  Final_description\n",
       "0     p00000  \\nwrite a program which prints multiplication ...\n",
       "1     p00001  \\nthere is a data which provides heights (in m...\n",
       "2     p00002  \\nwrite a program which computes the digit num...\n",
       "3     p00003  \\nwrite a program which judges wheather given ...\n",
       "4     p00004  \\nwrite a program which solve a simultaneous e...\n",
       "...      ...                                                ...\n",
       "3990  p04044  iroha has a sequence of n strings s_1, s_2, .....\n",
       "3991  p04045  iroha is very particular about numbers. there ...\n",
       "3992  p04046  we have a large square grid with h rows and w ...\n",
       "3993  p04047  snuke is having a barbeque party. at the party...\n",
       "3994  p04048  snuke is conducting an optical experiment usin...\n",
       "\n",
       "[1061 rows x 2 columns]"
      ]
     },
     "execution_count": 18,
     "metadata": {},
     "output_type": "execute_result"
    }
   ],
   "source": [
    "to_translate=filtered_df[['index','Final_description']]\n",
    "to_translate"
   ]
  },
  {
   "cell_type": "code",
   "execution_count": 20,
   "id": "c6ee5def",
   "metadata": {},
   "outputs": [],
   "source": [
    "to_translate.to_csv('./to_translate.csv',index=False)"
   ]
  },
  {
   "cell_type": "code",
   "execution_count": null,
   "id": "d010a13f",
   "metadata": {},
   "outputs": [],
   "source": []
  }
 ],
 "metadata": {
  "kernelspec": {
   "display_name": "Python 3 (ipykernel)",
   "language": "python",
   "name": "python3"
  },
  "language_info": {
   "codemirror_mode": {
    "name": "ipython",
    "version": 3
   },
   "file_extension": ".py",
   "mimetype": "text/x-python",
   "name": "python",
   "nbconvert_exporter": "python",
   "pygments_lexer": "ipython3",
   "version": "3.8.8"
  }
 },
 "nbformat": 4,
 "nbformat_minor": 5
}
