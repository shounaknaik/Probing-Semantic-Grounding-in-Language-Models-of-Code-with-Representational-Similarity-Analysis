{
  "nbformat": 4,
  "nbformat_minor": 0,
  "metadata": {
    "colab": {
      "name": "Extracting_embeddings_Code_BERT.ipynb",
      "provenance": [],
      "collapsed_sections": []
    },
    "kernelspec": {
      "name": "python3",
      "display_name": "Python 3"
    },
    "language_info": {
      "name": "python"
    },
    "accelerator": "GPU"
  },
  "cells": [
    {
      "cell_type": "markdown",
      "metadata": {
        "id": "WmfgBICYTeUF"
      },
      "source": [
        "# Setup"
      ]
    },
    {
      "cell_type": "code",
      "metadata": {
        "id": "LFC9ThNVk453"
      },
      "source": [
        ""
      ],
      "execution_count": null,
      "outputs": []
    },
    {
      "cell_type": "code",
      "metadata": {
        "colab": {
          "base_uri": "https://localhost:8080/"
        },
        "id": "Me2jhgW_Z_ft",
        "outputId": "6e8ef3bc-3b8c-4eb1-86a0-cf204b7378d8"
      },
      "source": [
        "!curl https://rclone.org/install.sh | sudo bash\n"
      ],
      "execution_count": null,
      "outputs": [
        {
          "output_type": "stream",
          "name": "stdout",
          "text": [
            "  % Total    % Received % Xferd  Average Speed   Time    Time     Time  Current\n",
            "                                 Dload  Upload   Total   Spent    Left  Speed\n",
            "100  4497  100  4497    0     0   6929      0 --:--:-- --:--:-- --:--:--  6918\n",
            "Archive:  rclone-current-linux-amd64.zip\n",
            "   creating: tmp_unzip_dir_for_rclone/rclone-v1.57.0-linux-amd64/\n",
            "  inflating: tmp_unzip_dir_for_rclone/rclone-v1.57.0-linux-amd64/README.txt  [text]  \n",
            "  inflating: tmp_unzip_dir_for_rclone/rclone-v1.57.0-linux-amd64/git-log.txt  [text]  \n",
            "  inflating: tmp_unzip_dir_for_rclone/rclone-v1.57.0-linux-amd64/rclone.1  [text]  \n",
            "  inflating: tmp_unzip_dir_for_rclone/rclone-v1.57.0-linux-amd64/README.html  [text]  \n",
            "  inflating: tmp_unzip_dir_for_rclone/rclone-v1.57.0-linux-amd64/rclone  [binary]\n",
            "Purging old database entries in /usr/share/man...\n",
            "Processing manual pages under /usr/share/man...\n",
            "Purging old database entries in /usr/share/man/fr...\n",
            "Processing manual pages under /usr/share/man/fr...\n",
            "Purging old database entries in /usr/share/man/es...\n",
            "Processing manual pages under /usr/share/man/es...\n",
            "Purging old database entries in /usr/share/man/fi...\n",
            "Processing manual pages under /usr/share/man/fi...\n",
            "Purging old database entries in /usr/share/man/da...\n",
            "Processing manual pages under /usr/share/man/da...\n",
            "Purging old database entries in /usr/share/man/pt...\n",
            "Processing manual pages under /usr/share/man/pt...\n",
            "Purging old database entries in /usr/share/man/sv...\n",
            "Processing manual pages under /usr/share/man/sv...\n",
            "Purging old database entries in /usr/share/man/de...\n",
            "Processing manual pages under /usr/share/man/de...\n",
            "Purging old database entries in /usr/share/man/cs...\n",
            "Processing manual pages under /usr/share/man/cs...\n",
            "Purging old database entries in /usr/share/man/nl...\n",
            "Processing manual pages under /usr/share/man/nl...\n",
            "Purging old database entries in /usr/share/man/tr...\n",
            "Processing manual pages under /usr/share/man/tr...\n",
            "Purging old database entries in /usr/share/man/ru...\n",
            "Processing manual pages under /usr/share/man/ru...\n",
            "Purging old database entries in /usr/share/man/hu...\n",
            "Processing manual pages under /usr/share/man/hu...\n",
            "Purging old database entries in /usr/share/man/id...\n",
            "Processing manual pages under /usr/share/man/id...\n",
            "Purging old database entries in /usr/share/man/ko...\n",
            "Processing manual pages under /usr/share/man/ko...\n",
            "Purging old database entries in /usr/share/man/zh_TW...\n",
            "Processing manual pages under /usr/share/man/zh_TW...\n",
            "Purging old database entries in /usr/share/man/zh_CN...\n",
            "Processing manual pages under /usr/share/man/zh_CN...\n",
            "Purging old database entries in /usr/share/man/pl...\n",
            "Processing manual pages under /usr/share/man/pl...\n",
            "Purging old database entries in /usr/share/man/it...\n",
            "Processing manual pages under /usr/share/man/it...\n",
            "Purging old database entries in /usr/share/man/ja...\n",
            "Processing manual pages under /usr/share/man/ja...\n",
            "Purging old database entries in /usr/share/man/sr...\n",
            "Processing manual pages under /usr/share/man/sr...\n",
            "Purging old database entries in /usr/share/man/pt_BR...\n",
            "Processing manual pages under /usr/share/man/pt_BR...\n",
            "Processing manual pages under /usr/local/man...\n",
            "Updating index cache for path `/usr/local/man/man1'. Wait...done.\n",
            "Checking for stray cats under /usr/local/man...\n",
            "Checking for stray cats under /var/cache/man/oldlocal...\n",
            "1 man subdirectory contained newer manual pages.\n",
            "4 manual pages were added.\n",
            "0 stray cats were added.\n",
            "20 old database entries were purged.\n",
            "\n",
            "rclone v1.57.0 has successfully installed.\n",
            "Now run \"rclone config\" for setup. Check https://rclone.org/docs/ for more details.\n",
            "\n"
          ]
        }
      ]
    },
    {
      "cell_type": "code",
      "metadata": {
        "colab": {
          "base_uri": "https://localhost:8080/"
        },
        "id": "z_936oQPbGel",
        "outputId": "125260fb-5db8-483b-f682-b2edbc3c7017"
      },
      "source": [
        "!rclone "
      ],
      "execution_count": null,
      "outputs": [
        {
          "output_type": "stream",
          "name": "stdout",
          "text": [
            "Usage:\n",
            "  rclone [flags]\n",
            "  rclone [command]\n",
            "\n",
            "Available Commands:\n",
            "  about           Get quota information from the remote.\n",
            "  authorize       Remote authorization.\n",
            "  backend         Run a backend specific command.\n",
            "  cat             Concatenates any files and sends them to stdout.\n",
            "  check           Checks the files in the source and destination match.\n",
            "  checksum        Checks the files in the source against a SUM file.\n",
            "  cleanup         Clean up the remote if possible.\n",
            "  completion      generate the autocompletion script for the specified shell\n",
            "  config          Enter an interactive configuration session.\n",
            "  copy            Copy files from source to dest, skipping identical files.\n",
            "  copyto          Copy files from source to dest, skipping identical files.\n",
            "  copyurl         Copy url content to dest.\n",
            "  cryptcheck      Cryptcheck checks the integrity of a crypted remote.\n",
            "  cryptdecode     Cryptdecode returns unencrypted file names.\n",
            "  dedupe          Interactively find duplicate filenames and delete/rename them.\n",
            "  delete          Remove the files in path.\n",
            "  deletefile      Remove a single file from remote.\n",
            "  genautocomplete Output completion script for a given shell.\n",
            "  gendocs         Output markdown docs for rclone to the directory supplied.\n",
            "  hashsum         Produces a hashsum file for all the objects in the path.\n",
            "  help            Show help for rclone commands, flags and backends.\n",
            "  link            Generate public link to file/folder.\n",
            "  listremotes     List all the remotes in the config file.\n",
            "  ls              List the objects in the path with size and path.\n",
            "  lsd             List all directories/containers/buckets in the path.\n",
            "  lsf             List directories and objects in remote:path formatted for parsing.\n",
            "  lsjson          List directories and objects in the path in JSON format.\n",
            "  lsl             List the objects in path with modification time, size and path.\n",
            "  md5sum          Produces an md5sum file for all the objects in the path.\n",
            "  mkdir           Make the path if it doesn't already exist.\n",
            "  mount           Mount the remote as file system on a mountpoint.\n",
            "  move            Move files from source to dest.\n",
            "  moveto          Move file or directory from source to dest.\n",
            "  ncdu            Explore a remote with a text based user interface.\n",
            "  obscure         Obscure password for use in the rclone config file.\n",
            "  purge           Remove the path and all of its contents.\n",
            "  rc              Run a command against a running rclone.\n",
            "  rcat            Copies standard input to file on remote.\n",
            "  rcd             Run rclone listening to remote control commands only.\n",
            "  rmdir           Remove the empty directory at path.\n",
            "  rmdirs          Remove empty directories under the path.\n",
            "  selfupdate      Update the rclone binary.\n",
            "  serve           Serve a remote over a protocol.\n",
            "  settier         Changes storage class/tier of objects in remote.\n",
            "  sha1sum         Produces an sha1sum file for all the objects in the path.\n",
            "  size            Prints the total size and number of objects in remote:path.\n",
            "  sync            Make source and dest identical, modifying destination only.\n",
            "  test            Run a test command\n",
            "  touch           Create new file or change file modification time.\n",
            "  tree            List the contents of the remote in a tree like fashion.\n",
            "  version         Show the version number.\n",
            "\n",
            "Use \"rclone [command] --help\" for more information about a command.\n",
            "Use \"rclone help flags\" for to see the global flags.\n",
            "Use \"rclone help backends\" for a list of supported services.\n"
          ]
        }
      ]
    },
    {
      "cell_type": "code",
      "metadata": {
        "id": "WrVMqbUBwzg6",
        "colab": {
          "base_uri": "https://localhost:8080/"
        },
        "outputId": "d7fbe480-4653-481a-b3f0-1b496f4ea311"
      },
      "source": [
        "# check GPU\n",
        "!nvidia-smi"
      ],
      "execution_count": null,
      "outputs": [
        {
          "output_type": "stream",
          "name": "stdout",
          "text": [
            "Tue Nov  2 04:34:47 2021       \n",
            "+-----------------------------------------------------------------------------+\n",
            "| NVIDIA-SMI 495.29.05    Driver Version: 460.32.03    CUDA Version: 11.2     |\n",
            "|-------------------------------+----------------------+----------------------+\n",
            "| GPU  Name        Persistence-M| Bus-Id        Disp.A | Volatile Uncorr. ECC |\n",
            "| Fan  Temp  Perf  Pwr:Usage/Cap|         Memory-Usage | GPU-Util  Compute M. |\n",
            "|                               |                      |               MIG M. |\n",
            "|===============================+======================+======================|\n",
            "|   0  Tesla K80           Off  | 00000000:00:04.0 Off |                    0 |\n",
            "| N/A   39C    P8    28W / 149W |      0MiB / 11441MiB |      0%      Default |\n",
            "|                               |                      |                  N/A |\n",
            "+-------------------------------+----------------------+----------------------+\n",
            "                                                                               \n",
            "+-----------------------------------------------------------------------------+\n",
            "| Processes:                                                                  |\n",
            "|  GPU   GI   CI        PID   Type   Process name                  GPU Memory |\n",
            "|        ID   ID                                                   Usage      |\n",
            "|=============================================================================|\n",
            "|  No running processes found                                                 |\n",
            "+-----------------------------------------------------------------------------+\n"
          ]
        }
      ]
    },
    {
      "cell_type": "code",
      "metadata": {
        "id": "-8urCsD92w7b",
        "colab": {
          "base_uri": "https://localhost:8080/"
        },
        "outputId": "c6ec5722-0e11-4098-f566-70006c9d4e4a"
      },
      "source": [
        "# install transformers\n",
        "!pip install transformers"
      ],
      "execution_count": null,
      "outputs": [
        {
          "output_type": "stream",
          "name": "stdout",
          "text": [
            "Collecting transformers\n",
            "  Downloading transformers-4.12.2-py3-none-any.whl (3.1 MB)\n",
            "\u001b[?25l\r\u001b[K     |                                | 10 kB 25.7 MB/s eta 0:00:01\r\u001b[K     |▏                               | 20 kB 31.4 MB/s eta 0:00:01\r\u001b[K     |▎                               | 30 kB 32.0 MB/s eta 0:00:01\r\u001b[K     |▍                               | 40 kB 31.7 MB/s eta 0:00:01\r\u001b[K     |▌                               | 51 kB 32.4 MB/s eta 0:00:01\r\u001b[K     |▋                               | 61 kB 34.5 MB/s eta 0:00:01\r\u001b[K     |▊                               | 71 kB 33.5 MB/s eta 0:00:01\r\u001b[K     |▉                               | 81 kB 32.9 MB/s eta 0:00:01\r\u001b[K     |█                               | 92 kB 34.6 MB/s eta 0:00:01\r\u001b[K     |█                               | 102 kB 36.4 MB/s eta 0:00:01\r\u001b[K     |█▏                              | 112 kB 36.4 MB/s eta 0:00:01\r\u001b[K     |█▎                              | 122 kB 36.4 MB/s eta 0:00:01\r\u001b[K     |█▍                              | 133 kB 36.4 MB/s eta 0:00:01\r\u001b[K     |█▌                              | 143 kB 36.4 MB/s eta 0:00:01\r\u001b[K     |█▋                              | 153 kB 36.4 MB/s eta 0:00:01\r\u001b[K     |█▊                              | 163 kB 36.4 MB/s eta 0:00:01\r\u001b[K     |█▉                              | 174 kB 36.4 MB/s eta 0:00:01\r\u001b[K     |██                              | 184 kB 36.4 MB/s eta 0:00:01\r\u001b[K     |██                              | 194 kB 36.4 MB/s eta 0:00:01\r\u001b[K     |██▏                             | 204 kB 36.4 MB/s eta 0:00:01\r\u001b[K     |██▎                             | 215 kB 36.4 MB/s eta 0:00:01\r\u001b[K     |██▍                             | 225 kB 36.4 MB/s eta 0:00:01\r\u001b[K     |██▌                             | 235 kB 36.4 MB/s eta 0:00:01\r\u001b[K     |██▋                             | 245 kB 36.4 MB/s eta 0:00:01\r\u001b[K     |██▊                             | 256 kB 36.4 MB/s eta 0:00:01\r\u001b[K     |██▉                             | 266 kB 36.4 MB/s eta 0:00:01\r\u001b[K     |██▉                             | 276 kB 36.4 MB/s eta 0:00:01\r\u001b[K     |███                             | 286 kB 36.4 MB/s eta 0:00:01\r\u001b[K     |███                             | 296 kB 36.4 MB/s eta 0:00:01\r\u001b[K     |███▏                            | 307 kB 36.4 MB/s eta 0:00:01\r\u001b[K     |███▎                            | 317 kB 36.4 MB/s eta 0:00:01\r\u001b[K     |███▍                            | 327 kB 36.4 MB/s eta 0:00:01\r\u001b[K     |███▌                            | 337 kB 36.4 MB/s eta 0:00:01\r\u001b[K     |███▋                            | 348 kB 36.4 MB/s eta 0:00:01\r\u001b[K     |███▊                            | 358 kB 36.4 MB/s eta 0:00:01\r\u001b[K     |███▉                            | 368 kB 36.4 MB/s eta 0:00:01\r\u001b[K     |████                            | 378 kB 36.4 MB/s eta 0:00:01\r\u001b[K     |████                            | 389 kB 36.4 MB/s eta 0:00:01\r\u001b[K     |████▏                           | 399 kB 36.4 MB/s eta 0:00:01\r\u001b[K     |████▎                           | 409 kB 36.4 MB/s eta 0:00:01\r\u001b[K     |████▍                           | 419 kB 36.4 MB/s eta 0:00:01\r\u001b[K     |████▌                           | 430 kB 36.4 MB/s eta 0:00:01\r\u001b[K     |████▋                           | 440 kB 36.4 MB/s eta 0:00:01\r\u001b[K     |████▊                           | 450 kB 36.4 MB/s eta 0:00:01\r\u001b[K     |████▉                           | 460 kB 36.4 MB/s eta 0:00:01\r\u001b[K     |█████                           | 471 kB 36.4 MB/s eta 0:00:01\r\u001b[K     |█████                           | 481 kB 36.4 MB/s eta 0:00:01\r\u001b[K     |█████▏                          | 491 kB 36.4 MB/s eta 0:00:01\r\u001b[K     |█████▎                          | 501 kB 36.4 MB/s eta 0:00:01\r\u001b[K     |█████▍                          | 512 kB 36.4 MB/s eta 0:00:01\r\u001b[K     |█████▌                          | 522 kB 36.4 MB/s eta 0:00:01\r\u001b[K     |█████▋                          | 532 kB 36.4 MB/s eta 0:00:01\r\u001b[K     |█████▋                          | 542 kB 36.4 MB/s eta 0:00:01\r\u001b[K     |█████▊                          | 552 kB 36.4 MB/s eta 0:00:01\r\u001b[K     |█████▉                          | 563 kB 36.4 MB/s eta 0:00:01\r\u001b[K     |██████                          | 573 kB 36.4 MB/s eta 0:00:01\r\u001b[K     |██████                          | 583 kB 36.4 MB/s eta 0:00:01\r\u001b[K     |██████▏                         | 593 kB 36.4 MB/s eta 0:00:01\r\u001b[K     |██████▎                         | 604 kB 36.4 MB/s eta 0:00:01\r\u001b[K     |██████▍                         | 614 kB 36.4 MB/s eta 0:00:01\r\u001b[K     |██████▌                         | 624 kB 36.4 MB/s eta 0:00:01\r\u001b[K     |██████▋                         | 634 kB 36.4 MB/s eta 0:00:01\r\u001b[K     |██████▊                         | 645 kB 36.4 MB/s eta 0:00:01\r\u001b[K     |██████▉                         | 655 kB 36.4 MB/s eta 0:00:01\r\u001b[K     |███████                         | 665 kB 36.4 MB/s eta 0:00:01\r\u001b[K     |███████                         | 675 kB 36.4 MB/s eta 0:00:01\r\u001b[K     |███████▏                        | 686 kB 36.4 MB/s eta 0:00:01\r\u001b[K     |███████▎                        | 696 kB 36.4 MB/s eta 0:00:01\r\u001b[K     |███████▍                        | 706 kB 36.4 MB/s eta 0:00:01\r\u001b[K     |███████▌                        | 716 kB 36.4 MB/s eta 0:00:01\r\u001b[K     |███████▋                        | 727 kB 36.4 MB/s eta 0:00:01\r\u001b[K     |███████▊                        | 737 kB 36.4 MB/s eta 0:00:01\r\u001b[K     |███████▉                        | 747 kB 36.4 MB/s eta 0:00:01\r\u001b[K     |████████                        | 757 kB 36.4 MB/s eta 0:00:01\r\u001b[K     |████████                        | 768 kB 36.4 MB/s eta 0:00:01\r\u001b[K     |████████▏                       | 778 kB 36.4 MB/s eta 0:00:01\r\u001b[K     |████████▎                       | 788 kB 36.4 MB/s eta 0:00:01\r\u001b[K     |████████▍                       | 798 kB 36.4 MB/s eta 0:00:01\r\u001b[K     |████████▍                       | 808 kB 36.4 MB/s eta 0:00:01\r\u001b[K     |████████▌                       | 819 kB 36.4 MB/s eta 0:00:01\r\u001b[K     |████████▋                       | 829 kB 36.4 MB/s eta 0:00:01\r\u001b[K     |████████▊                       | 839 kB 36.4 MB/s eta 0:00:01\r\u001b[K     |████████▉                       | 849 kB 36.4 MB/s eta 0:00:01\r\u001b[K     |█████████                       | 860 kB 36.4 MB/s eta 0:00:01\r\u001b[K     |█████████                       | 870 kB 36.4 MB/s eta 0:00:01\r\u001b[K     |█████████▏                      | 880 kB 36.4 MB/s eta 0:00:01\r\u001b[K     |█████████▎                      | 890 kB 36.4 MB/s eta 0:00:01\r\u001b[K     |█████████▍                      | 901 kB 36.4 MB/s eta 0:00:01\r\u001b[K     |█████████▌                      | 911 kB 36.4 MB/s eta 0:00:01\r\u001b[K     |█████████▋                      | 921 kB 36.4 MB/s eta 0:00:01\r\u001b[K     |█████████▊                      | 931 kB 36.4 MB/s eta 0:00:01\r\u001b[K     |█████████▉                      | 942 kB 36.4 MB/s eta 0:00:01\r\u001b[K     |██████████                      | 952 kB 36.4 MB/s eta 0:00:01\r\u001b[K     |██████████                      | 962 kB 36.4 MB/s eta 0:00:01\r\u001b[K     |██████████▏                     | 972 kB 36.4 MB/s eta 0:00:01\r\u001b[K     |██████████▎                     | 983 kB 36.4 MB/s eta 0:00:01\r\u001b[K     |██████████▍                     | 993 kB 36.4 MB/s eta 0:00:01\r\u001b[K     |██████████▌                     | 1.0 MB 36.4 MB/s eta 0:00:01\r\u001b[K     |██████████▋                     | 1.0 MB 36.4 MB/s eta 0:00:01\r\u001b[K     |██████████▊                     | 1.0 MB 36.4 MB/s eta 0:00:01\r\u001b[K     |██████████▉                     | 1.0 MB 36.4 MB/s eta 0:00:01\r\u001b[K     |███████████                     | 1.0 MB 36.4 MB/s eta 0:00:01\r\u001b[K     |███████████                     | 1.1 MB 36.4 MB/s eta 0:00:01\r\u001b[K     |███████████▏                    | 1.1 MB 36.4 MB/s eta 0:00:01\r\u001b[K     |███████████▏                    | 1.1 MB 36.4 MB/s eta 0:00:01\r\u001b[K     |███████████▎                    | 1.1 MB 36.4 MB/s eta 0:00:01\r\u001b[K     |███████████▍                    | 1.1 MB 36.4 MB/s eta 0:00:01\r\u001b[K     |███████████▌                    | 1.1 MB 36.4 MB/s eta 0:00:01\r\u001b[K     |███████████▋                    | 1.1 MB 36.4 MB/s eta 0:00:01\r\u001b[K     |███████████▊                    | 1.1 MB 36.4 MB/s eta 0:00:01\r\u001b[K     |███████████▉                    | 1.1 MB 36.4 MB/s eta 0:00:01\r\u001b[K     |████████████                    | 1.1 MB 36.4 MB/s eta 0:00:01\r\u001b[K     |████████████                    | 1.2 MB 36.4 MB/s eta 0:00:01\r\u001b[K     |████████████▏                   | 1.2 MB 36.4 MB/s eta 0:00:01\r\u001b[K     |████████████▎                   | 1.2 MB 36.4 MB/s eta 0:00:01\r\u001b[K     |████████████▍                   | 1.2 MB 36.4 MB/s eta 0:00:01\r\u001b[K     |████████████▌                   | 1.2 MB 36.4 MB/s eta 0:00:01\r\u001b[K     |████████████▋                   | 1.2 MB 36.4 MB/s eta 0:00:01\r\u001b[K     |████████████▊                   | 1.2 MB 36.4 MB/s eta 0:00:01\r\u001b[K     |████████████▉                   | 1.2 MB 36.4 MB/s eta 0:00:01\r\u001b[K     |█████████████                   | 1.2 MB 36.4 MB/s eta 0:00:01\r\u001b[K     |█████████████                   | 1.2 MB 36.4 MB/s eta 0:00:01\r\u001b[K     |█████████████▏                  | 1.3 MB 36.4 MB/s eta 0:00:01\r\u001b[K     |█████████████▎                  | 1.3 MB 36.4 MB/s eta 0:00:01\r\u001b[K     |█████████████▍                  | 1.3 MB 36.4 MB/s eta 0:00:01\r\u001b[K     |█████████████▌                  | 1.3 MB 36.4 MB/s eta 0:00:01\r\u001b[K     |█████████████▋                  | 1.3 MB 36.4 MB/s eta 0:00:01\r\u001b[K     |█████████████▊                  | 1.3 MB 36.4 MB/s eta 0:00:01\r\u001b[K     |█████████████▉                  | 1.3 MB 36.4 MB/s eta 0:00:01\r\u001b[K     |██████████████                  | 1.3 MB 36.4 MB/s eta 0:00:01\r\u001b[K     |██████████████                  | 1.3 MB 36.4 MB/s eta 0:00:01\r\u001b[K     |██████████████                  | 1.4 MB 36.4 MB/s eta 0:00:01\r\u001b[K     |██████████████▏                 | 1.4 MB 36.4 MB/s eta 0:00:01\r\u001b[K     |██████████████▎                 | 1.4 MB 36.4 MB/s eta 0:00:01\r\u001b[K     |██████████████▍                 | 1.4 MB 36.4 MB/s eta 0:00:01\r\u001b[K     |██████████████▌                 | 1.4 MB 36.4 MB/s eta 0:00:01\r\u001b[K     |██████████████▋                 | 1.4 MB 36.4 MB/s eta 0:00:01\r\u001b[K     |██████████████▊                 | 1.4 MB 36.4 MB/s eta 0:00:01\r\u001b[K     |██████████████▉                 | 1.4 MB 36.4 MB/s eta 0:00:01\r\u001b[K     |███████████████                 | 1.4 MB 36.4 MB/s eta 0:00:01\r\u001b[K     |███████████████                 | 1.4 MB 36.4 MB/s eta 0:00:01\r\u001b[K     |███████████████▏                | 1.5 MB 36.4 MB/s eta 0:00:01\r\u001b[K     |███████████████▎                | 1.5 MB 36.4 MB/s eta 0:00:01\r\u001b[K     |███████████████▍                | 1.5 MB 36.4 MB/s eta 0:00:01\r\u001b[K     |███████████████▌                | 1.5 MB 36.4 MB/s eta 0:00:01\r\u001b[K     |███████████████▋                | 1.5 MB 36.4 MB/s eta 0:00:01\r\u001b[K     |███████████████▊                | 1.5 MB 36.4 MB/s eta 0:00:01\r\u001b[K     |███████████████▉                | 1.5 MB 36.4 MB/s eta 0:00:01\r\u001b[K     |████████████████                | 1.5 MB 36.4 MB/s eta 0:00:01\r\u001b[K     |████████████████                | 1.5 MB 36.4 MB/s eta 0:00:01\r\u001b[K     |████████████████▏               | 1.5 MB 36.4 MB/s eta 0:00:01\r\u001b[K     |████████████████▎               | 1.6 MB 36.4 MB/s eta 0:00:01\r\u001b[K     |████████████████▍               | 1.6 MB 36.4 MB/s eta 0:00:01\r\u001b[K     |████████████████▌               | 1.6 MB 36.4 MB/s eta 0:00:01\r\u001b[K     |████████████████▋               | 1.6 MB 36.4 MB/s eta 0:00:01\r\u001b[K     |████████████████▊               | 1.6 MB 36.4 MB/s eta 0:00:01\r\u001b[K     |████████████████▊               | 1.6 MB 36.4 MB/s eta 0:00:01\r\u001b[K     |████████████████▉               | 1.6 MB 36.4 MB/s eta 0:00:01\r\u001b[K     |█████████████████               | 1.6 MB 36.4 MB/s eta 0:00:01\r\u001b[K     |█████████████████               | 1.6 MB 36.4 MB/s eta 0:00:01\r\u001b[K     |█████████████████▏              | 1.6 MB 36.4 MB/s eta 0:00:01\r\u001b[K     |█████████████████▎              | 1.7 MB 36.4 MB/s eta 0:00:01\r\u001b[K     |█████████████████▍              | 1.7 MB 36.4 MB/s eta 0:00:01\r\u001b[K     |█████████████████▌              | 1.7 MB 36.4 MB/s eta 0:00:01\r\u001b[K     |█████████████████▋              | 1.7 MB 36.4 MB/s eta 0:00:01\r\u001b[K     |█████████████████▊              | 1.7 MB 36.4 MB/s eta 0:00:01\r\u001b[K     |█████████████████▉              | 1.7 MB 36.4 MB/s eta 0:00:01\r\u001b[K     |██████████████████              | 1.7 MB 36.4 MB/s eta 0:00:01\r\u001b[K     |██████████████████              | 1.7 MB 36.4 MB/s eta 0:00:01\r\u001b[K     |██████████████████▏             | 1.7 MB 36.4 MB/s eta 0:00:01\r\u001b[K     |██████████████████▎             | 1.8 MB 36.4 MB/s eta 0:00:01\r\u001b[K     |██████████████████▍             | 1.8 MB 36.4 MB/s eta 0:00:01\r\u001b[K     |██████████████████▌             | 1.8 MB 36.4 MB/s eta 0:00:01\r\u001b[K     |██████████████████▋             | 1.8 MB 36.4 MB/s eta 0:00:01\r\u001b[K     |██████████████████▊             | 1.8 MB 36.4 MB/s eta 0:00:01\r\u001b[K     |██████████████████▉             | 1.8 MB 36.4 MB/s eta 0:00:01\r\u001b[K     |███████████████████             | 1.8 MB 36.4 MB/s eta 0:00:01\r\u001b[K     |███████████████████             | 1.8 MB 36.4 MB/s eta 0:00:01\r\u001b[K     |███████████████████▏            | 1.8 MB 36.4 MB/s eta 0:00:01\r\u001b[K     |███████████████████▎            | 1.8 MB 36.4 MB/s eta 0:00:01\r\u001b[K     |███████████████████▍            | 1.9 MB 36.4 MB/s eta 0:00:01\r\u001b[K     |███████████████████▌            | 1.9 MB 36.4 MB/s eta 0:00:01\r\u001b[K     |███████████████████▌            | 1.9 MB 36.4 MB/s eta 0:00:01\r\u001b[K     |███████████████████▋            | 1.9 MB 36.4 MB/s eta 0:00:01\r\u001b[K     |███████████████████▊            | 1.9 MB 36.4 MB/s eta 0:00:01\r\u001b[K     |███████████████████▉            | 1.9 MB 36.4 MB/s eta 0:00:01\r\u001b[K     |████████████████████            | 1.9 MB 36.4 MB/s eta 0:00:01\r\u001b[K     |████████████████████            | 1.9 MB 36.4 MB/s eta 0:00:01\r\u001b[K     |████████████████████▏           | 1.9 MB 36.4 MB/s eta 0:00:01\r\u001b[K     |████████████████████▎           | 1.9 MB 36.4 MB/s eta 0:00:01\r\u001b[K     |████████████████████▍           | 2.0 MB 36.4 MB/s eta 0:00:01\r\u001b[K     |████████████████████▌           | 2.0 MB 36.4 MB/s eta 0:00:01\r\u001b[K     |████████████████████▋           | 2.0 MB 36.4 MB/s eta 0:00:01\r\u001b[K     |████████████████████▊           | 2.0 MB 36.4 MB/s eta 0:00:01\r\u001b[K     |████████████████████▉           | 2.0 MB 36.4 MB/s eta 0:00:01\r\u001b[K     |█████████████████████           | 2.0 MB 36.4 MB/s eta 0:00:01\r\u001b[K     |█████████████████████           | 2.0 MB 36.4 MB/s eta 0:00:01\r\u001b[K     |█████████████████████▏          | 2.0 MB 36.4 MB/s eta 0:00:01\r\u001b[K     |█████████████████████▎          | 2.0 MB 36.4 MB/s eta 0:00:01\r\u001b[K     |█████████████████████▍          | 2.0 MB 36.4 MB/s eta 0:00:01\r\u001b[K     |█████████████████████▌          | 2.1 MB 36.4 MB/s eta 0:00:01\r\u001b[K     |█████████████████████▋          | 2.1 MB 36.4 MB/s eta 0:00:01\r\u001b[K     |█████████████████████▊          | 2.1 MB 36.4 MB/s eta 0:00:01\r\u001b[K     |█████████████████████▉          | 2.1 MB 36.4 MB/s eta 0:00:01\r\u001b[K     |██████████████████████          | 2.1 MB 36.4 MB/s eta 0:00:01\r\u001b[K     |██████████████████████          | 2.1 MB 36.4 MB/s eta 0:00:01\r\u001b[K     |██████████████████████▏         | 2.1 MB 36.4 MB/s eta 0:00:01\r\u001b[K     |██████████████████████▎         | 2.1 MB 36.4 MB/s eta 0:00:01\r\u001b[K     |██████████████████████▎         | 2.1 MB 36.4 MB/s eta 0:00:01\r\u001b[K     |██████████████████████▍         | 2.2 MB 36.4 MB/s eta 0:00:01\r\u001b[K     |██████████████████████▌         | 2.2 MB 36.4 MB/s eta 0:00:01\r\u001b[K     |██████████████████████▋         | 2.2 MB 36.4 MB/s eta 0:00:01\r\u001b[K     |██████████████████████▊         | 2.2 MB 36.4 MB/s eta 0:00:01\r\u001b[K     |██████████████████████▉         | 2.2 MB 36.4 MB/s eta 0:00:01\r\u001b[K     |███████████████████████         | 2.2 MB 36.4 MB/s eta 0:00:01\r\u001b[K     |███████████████████████         | 2.2 MB 36.4 MB/s eta 0:00:01\r\u001b[K     |███████████████████████▏        | 2.2 MB 36.4 MB/s eta 0:00:01\r\u001b[K     |███████████████████████▎        | 2.2 MB 36.4 MB/s eta 0:00:01\r\u001b[K     |███████████████████████▍        | 2.2 MB 36.4 MB/s eta 0:00:01\r\u001b[K     |███████████████████████▌        | 2.3 MB 36.4 MB/s eta 0:00:01\r\u001b[K     |███████████████████████▋        | 2.3 MB 36.4 MB/s eta 0:00:01\r\u001b[K     |███████████████████████▊        | 2.3 MB 36.4 MB/s eta 0:00:01\r\u001b[K     |███████████████████████▉        | 2.3 MB 36.4 MB/s eta 0:00:01\r\u001b[K     |████████████████████████        | 2.3 MB 36.4 MB/s eta 0:00:01\r\u001b[K     |████████████████████████        | 2.3 MB 36.4 MB/s eta 0:00:01\r\u001b[K     |████████████████████████▏       | 2.3 MB 36.4 MB/s eta 0:00:01\r\u001b[K     |████████████████████████▎       | 2.3 MB 36.4 MB/s eta 0:00:01\r\u001b[K     |████████████████████████▍       | 2.3 MB 36.4 MB/s eta 0:00:01\r\u001b[K     |████████████████████████▌       | 2.3 MB 36.4 MB/s eta 0:00:01\r\u001b[K     |████████████████████████▋       | 2.4 MB 36.4 MB/s eta 0:00:01\r\u001b[K     |████████████████████████▊       | 2.4 MB 36.4 MB/s eta 0:00:01\r\u001b[K     |████████████████████████▉       | 2.4 MB 36.4 MB/s eta 0:00:01\r\u001b[K     |█████████████████████████       | 2.4 MB 36.4 MB/s eta 0:00:01\r\u001b[K     |█████████████████████████       | 2.4 MB 36.4 MB/s eta 0:00:01\r\u001b[K     |█████████████████████████       | 2.4 MB 36.4 MB/s eta 0:00:01\r\u001b[K     |█████████████████████████▏      | 2.4 MB 36.4 MB/s eta 0:00:01\r\u001b[K     |█████████████████████████▎      | 2.4 MB 36.4 MB/s eta 0:00:01\r\u001b[K     |█████████████████████████▍      | 2.4 MB 36.4 MB/s eta 0:00:01\r\u001b[K     |█████████████████████████▌      | 2.4 MB 36.4 MB/s eta 0:00:01\r\u001b[K     |█████████████████████████▋      | 2.5 MB 36.4 MB/s eta 0:00:01\r\u001b[K     |█████████████████████████▊      | 2.5 MB 36.4 MB/s eta 0:00:01\r\u001b[K     |█████████████████████████▉      | 2.5 MB 36.4 MB/s eta 0:00:01\r\u001b[K     |██████████████████████████      | 2.5 MB 36.4 MB/s eta 0:00:01\r\u001b[K     |██████████████████████████      | 2.5 MB 36.4 MB/s eta 0:00:01\r\u001b[K     |██████████████████████████▏     | 2.5 MB 36.4 MB/s eta 0:00:01\r\u001b[K     |██████████████████████████▎     | 2.5 MB 36.4 MB/s eta 0:00:01\r\u001b[K     |██████████████████████████▍     | 2.5 MB 36.4 MB/s eta 0:00:01\r\u001b[K     |██████████████████████████▌     | 2.5 MB 36.4 MB/s eta 0:00:01\r\u001b[K     |██████████████████████████▋     | 2.5 MB 36.4 MB/s eta 0:00:01\r\u001b[K     |██████████████████████████▊     | 2.6 MB 36.4 MB/s eta 0:00:01\r\u001b[K     |██████████████████████████▉     | 2.6 MB 36.4 MB/s eta 0:00:01\r\u001b[K     |███████████████████████████     | 2.6 MB 36.4 MB/s eta 0:00:01\r\u001b[K     |███████████████████████████     | 2.6 MB 36.4 MB/s eta 0:00:01\r\u001b[K     |███████████████████████████▏    | 2.6 MB 36.4 MB/s eta 0:00:01\r\u001b[K     |███████████████████████████▎    | 2.6 MB 36.4 MB/s eta 0:00:01\r\u001b[K     |███████████████████████████▍    | 2.6 MB 36.4 MB/s eta 0:00:01\r\u001b[K     |███████████████████████████▌    | 2.6 MB 36.4 MB/s eta 0:00:01\r\u001b[K     |███████████████████████████▋    | 2.6 MB 36.4 MB/s eta 0:00:01\r\u001b[K     |███████████████████████████▊    | 2.7 MB 36.4 MB/s eta 0:00:01\r\u001b[K     |███████████████████████████▉    | 2.7 MB 36.4 MB/s eta 0:00:01\r\u001b[K     |███████████████████████████▉    | 2.7 MB 36.4 MB/s eta 0:00:01\r\u001b[K     |████████████████████████████    | 2.7 MB 36.4 MB/s eta 0:00:01\r\u001b[K     |████████████████████████████    | 2.7 MB 36.4 MB/s eta 0:00:01\r\u001b[K     |████████████████████████████▏   | 2.7 MB 36.4 MB/s eta 0:00:01\r\u001b[K     |████████████████████████████▎   | 2.7 MB 36.4 MB/s eta 0:00:01\r\u001b[K     |████████████████████████████▍   | 2.7 MB 36.4 MB/s eta 0:00:01\r\u001b[K     |████████████████████████████▌   | 2.7 MB 36.4 MB/s eta 0:00:01\r\u001b[K     |████████████████████████████▋   | 2.7 MB 36.4 MB/s eta 0:00:01\r\u001b[K     |████████████████████████████▊   | 2.8 MB 36.4 MB/s eta 0:00:01\r\u001b[K     |████████████████████████████▉   | 2.8 MB 36.4 MB/s eta 0:00:01\r\u001b[K     |█████████████████████████████   | 2.8 MB 36.4 MB/s eta 0:00:01\r\u001b[K     |█████████████████████████████   | 2.8 MB 36.4 MB/s eta 0:00:01\r\u001b[K     |█████████████████████████████▏  | 2.8 MB 36.4 MB/s eta 0:00:01\r\u001b[K     |█████████████████████████████▎  | 2.8 MB 36.4 MB/s eta 0:00:01\r\u001b[K     |█████████████████████████████▍  | 2.8 MB 36.4 MB/s eta 0:00:01\r\u001b[K     |█████████████████████████████▌  | 2.8 MB 36.4 MB/s eta 0:00:01\r\u001b[K     |█████████████████████████████▋  | 2.8 MB 36.4 MB/s eta 0:00:01\r\u001b[K     |█████████████████████████████▊  | 2.8 MB 36.4 MB/s eta 0:00:01\r\u001b[K     |█████████████████████████████▉  | 2.9 MB 36.4 MB/s eta 0:00:01\r\u001b[K     |██████████████████████████████  | 2.9 MB 36.4 MB/s eta 0:00:01\r\u001b[K     |██████████████████████████████  | 2.9 MB 36.4 MB/s eta 0:00:01\r\u001b[K     |██████████████████████████████▏ | 2.9 MB 36.4 MB/s eta 0:00:01\r\u001b[K     |██████████████████████████████▎ | 2.9 MB 36.4 MB/s eta 0:00:01\r\u001b[K     |██████████████████████████████▍ | 2.9 MB 36.4 MB/s eta 0:00:01\r\u001b[K     |██████████████████████████████▌ | 2.9 MB 36.4 MB/s eta 0:00:01\r\u001b[K     |██████████████████████████████▋ | 2.9 MB 36.4 MB/s eta 0:00:01\r\u001b[K     |██████████████████████████████▋ | 2.9 MB 36.4 MB/s eta 0:00:01\r\u001b[K     |██████████████████████████████▊ | 2.9 MB 36.4 MB/s eta 0:00:01\r\u001b[K     |██████████████████████████████▉ | 3.0 MB 36.4 MB/s eta 0:00:01\r\u001b[K     |███████████████████████████████ | 3.0 MB 36.4 MB/s eta 0:00:01\r\u001b[K     |███████████████████████████████ | 3.0 MB 36.4 MB/s eta 0:00:01\r\u001b[K     |███████████████████████████████▏| 3.0 MB 36.4 MB/s eta 0:00:01\r\u001b[K     |███████████████████████████████▎| 3.0 MB 36.4 MB/s eta 0:00:01\r\u001b[K     |███████████████████████████████▍| 3.0 MB 36.4 MB/s eta 0:00:01\r\u001b[K     |███████████████████████████████▌| 3.0 MB 36.4 MB/s eta 0:00:01\r\u001b[K     |███████████████████████████████▋| 3.0 MB 36.4 MB/s eta 0:00:01\r\u001b[K     |███████████████████████████████▊| 3.0 MB 36.4 MB/s eta 0:00:01\r\u001b[K     |███████████████████████████████▉| 3.1 MB 36.4 MB/s eta 0:00:01\r\u001b[K     |████████████████████████████████| 3.1 MB 36.4 MB/s eta 0:00:01\r\u001b[K     |████████████████████████████████| 3.1 MB 36.4 MB/s \n",
            "\u001b[?25hRequirement already satisfied: tqdm>=4.27 in /usr/local/lib/python3.7/dist-packages (from transformers) (4.62.3)\n",
            "Requirement already satisfied: packaging>=20.0 in /usr/local/lib/python3.7/dist-packages (from transformers) (21.0)\n",
            "Collecting tokenizers<0.11,>=0.10.1\n",
            "  Downloading tokenizers-0.10.3-cp37-cp37m-manylinux_2_5_x86_64.manylinux1_x86_64.manylinux_2_12_x86_64.manylinux2010_x86_64.whl (3.3 MB)\n",
            "\u001b[K     |████████████████████████████████| 3.3 MB 53.3 MB/s \n",
            "\u001b[?25hCollecting huggingface-hub>=0.0.17\n",
            "  Downloading huggingface_hub-0.0.19-py3-none-any.whl (56 kB)\n",
            "\u001b[K     |████████████████████████████████| 56 kB 5.7 MB/s \n",
            "\u001b[?25hRequirement already satisfied: numpy>=1.17 in /usr/local/lib/python3.7/dist-packages (from transformers) (1.19.5)\n",
            "Requirement already satisfied: filelock in /usr/local/lib/python3.7/dist-packages (from transformers) (3.3.0)\n",
            "Requirement already satisfied: regex!=2019.12.17 in /usr/local/lib/python3.7/dist-packages (from transformers) (2019.12.20)\n",
            "Collecting pyyaml>=5.1\n",
            "  Downloading PyYAML-6.0-cp37-cp37m-manylinux_2_5_x86_64.manylinux1_x86_64.manylinux_2_12_x86_64.manylinux2010_x86_64.whl (596 kB)\n",
            "\u001b[K     |████████████████████████████████| 596 kB 48.6 MB/s \n",
            "\u001b[?25hRequirement already satisfied: importlib-metadata in /usr/local/lib/python3.7/dist-packages (from transformers) (4.8.1)\n",
            "Collecting sacremoses\n",
            "  Downloading sacremoses-0.0.46-py3-none-any.whl (895 kB)\n",
            "\u001b[K     |████████████████████████████████| 895 kB 54.7 MB/s \n",
            "\u001b[?25hRequirement already satisfied: requests in /usr/local/lib/python3.7/dist-packages (from transformers) (2.23.0)\n",
            "Requirement already satisfied: typing-extensions in /usr/local/lib/python3.7/dist-packages (from huggingface-hub>=0.0.17->transformers) (3.7.4.3)\n",
            "Requirement already satisfied: pyparsing>=2.0.2 in /usr/local/lib/python3.7/dist-packages (from packaging>=20.0->transformers) (2.4.7)\n",
            "Requirement already satisfied: zipp>=0.5 in /usr/local/lib/python3.7/dist-packages (from importlib-metadata->transformers) (3.6.0)\n",
            "Requirement already satisfied: idna<3,>=2.5 in /usr/local/lib/python3.7/dist-packages (from requests->transformers) (2.10)\n",
            "Requirement already satisfied: chardet<4,>=3.0.2 in /usr/local/lib/python3.7/dist-packages (from requests->transformers) (3.0.4)\n",
            "Requirement already satisfied: urllib3!=1.25.0,!=1.25.1,<1.26,>=1.21.1 in /usr/local/lib/python3.7/dist-packages (from requests->transformers) (1.24.3)\n",
            "Requirement already satisfied: certifi>=2017.4.17 in /usr/local/lib/python3.7/dist-packages (from requests->transformers) (2021.5.30)\n",
            "Requirement already satisfied: joblib in /usr/local/lib/python3.7/dist-packages (from sacremoses->transformers) (1.0.1)\n",
            "Requirement already satisfied: click in /usr/local/lib/python3.7/dist-packages (from sacremoses->transformers) (7.1.2)\n",
            "Requirement already satisfied: six in /usr/local/lib/python3.7/dist-packages (from sacremoses->transformers) (1.15.0)\n",
            "Installing collected packages: pyyaml, tokenizers, sacremoses, huggingface-hub, transformers\n",
            "  Attempting uninstall: pyyaml\n",
            "    Found existing installation: PyYAML 3.13\n",
            "    Uninstalling PyYAML-3.13:\n",
            "      Successfully uninstalled PyYAML-3.13\n",
            "Successfully installed huggingface-hub-0.0.19 pyyaml-6.0 sacremoses-0.0.46 tokenizers-0.10.3 transformers-4.12.2\n"
          ]
        }
      ]
    },
    {
      "cell_type": "code",
      "metadata": {
        "id": "Y21L65k4Ydlt",
        "colab": {
          "base_uri": "https://localhost:8080/"
        },
        "outputId": "a164a344-a435-4679-bf4b-8c05fa765159"
      },
      "source": [
        "# mount drive\n",
        "from google.colab import drive\n",
        "\n",
        "drive.mount(\"/content/drive\")"
      ],
      "execution_count": null,
      "outputs": [
        {
          "output_type": "stream",
          "name": "stdout",
          "text": [
            "Drive already mounted at /content/drive; to attempt to forcibly remount, call drive.mount(\"/content/drive\", force_remount=True).\n"
          ]
        }
      ]
    },
    {
      "cell_type": "code",
      "metadata": {
        "id": "aVVtdavUSBZe"
      },
      "source": [
        "# imports\n",
        "import numpy as np\n",
        "import pandas as pd\n",
        "from tqdm import tqdm\n",
        "from pprint import pprint\n",
        "\n",
        "import torch\n",
        "from transformers import AutoTokenizer\n",
        "from transformers import AutoConfig, AutoModel"
      ],
      "execution_count": null,
      "outputs": []
    },
    {
      "cell_type": "code",
      "metadata": {
        "id": "1X9G8drj1GCN",
        "colab": {
          "base_uri": "https://localhost:8080/",
          "height": 467
        },
        "outputId": "0f60372d-897c-41ef-fe4f-026a6aa73717"
      },
      "source": [
        "# load metadata\n",
        "info_df = pd.read_json('/content/drive/MyDrive/Probing CodeBERT /test.jsonl', lines=True)\n",
        "info_df.head()"
      ],
      "execution_count": null,
      "outputs": [
        {
          "output_type": "execute_result",
          "data": {
            "text/html": [
              "<div>\n",
              "<style scoped>\n",
              "    .dataframe tbody tr th:only-of-type {\n",
              "        vertical-align: middle;\n",
              "    }\n",
              "\n",
              "    .dataframe tbody tr th {\n",
              "        vertical-align: top;\n",
              "    }\n",
              "\n",
              "    .dataframe thead th {\n",
              "        text-align: right;\n",
              "    }\n",
              "</style>\n",
              "<table border=\"1\" class=\"dataframe\">\n",
              "  <thead>\n",
              "    <tr style=\"text-align: right;\">\n",
              "      <th></th>\n",
              "      <th>function</th>\n",
              "      <th>identifier</th>\n",
              "      <th>parameters</th>\n",
              "      <th>language</th>\n",
              "      <th>url</th>\n",
              "      <th>docstring_summary</th>\n",
              "      <th>docstring</th>\n",
              "      <th>return_statement</th>\n",
              "      <th>sha</th>\n",
              "      <th>score</th>\n",
              "      <th>argument_list</th>\n",
              "      <th>docstring_tokens</th>\n",
              "      <th>path</th>\n",
              "      <th>nwo</th>\n",
              "      <th>function_tokens</th>\n",
              "      <th>idx</th>\n",
              "    </tr>\n",
              "  </thead>\n",
              "  <tbody>\n",
              "    <tr>\n",
              "      <th>0</th>\n",
              "      <td>def Func(arg_0, arg_1, *arg_2, **arg_3):\\n    ...</td>\n",
              "      <td>Cache.from_file</td>\n",
              "      <td>(cls, file, *args, **kwargs)</td>\n",
              "      <td>python</td>\n",
              "      <td>https://github.com/buckket/twtxt/blob/6c8ad8ef...</td>\n",
              "      <td>Try loading given cache file.</td>\n",
              "      <td>Try loading given cache file.</td>\n",
              "      <td></td>\n",
              "      <td>6c8ad8ef3cbcf0dd335a12285d8b6bbdf93ce851</td>\n",
              "      <td>0.578385</td>\n",
              "      <td></td>\n",
              "      <td>[Try, loading, given, cache, file, .]</td>\n",
              "      <td>twtxt/cache.py</td>\n",
              "      <td>buckket/twtxt</td>\n",
              "      <td>[def, Func, (, arg_0, ,, arg_1, ,, *, arg_2, ,...</td>\n",
              "      <td>261424</td>\n",
              "    </tr>\n",
              "    <tr>\n",
              "      <th>1</th>\n",
              "      <td>def Func(arg_0, arg_1, arg_2,\\n               ...</td>\n",
              "      <td>all_nonperiodic_features</td>\n",
              "      <td>(times, mags, errs,\\n                         ...</td>\n",
              "      <td>python</td>\n",
              "      <td>https://github.com/waqasbhatti/astrobase/blob/...</td>\n",
              "      <td>This rolls up the feature functions above and ...</td>\n",
              "      <td>This rolls up the feature functions above and ...</td>\n",
              "      <td>return xfeatures</td>\n",
              "      <td>2922a14619d183fb28005fa7d02027ac436f2265</td>\n",
              "      <td>0.507280</td>\n",
              "      <td></td>\n",
              "      <td>[This, rolls, up, the, feature, functions, abo...</td>\n",
              "      <td>astrobase/varclass/varfeatures.py</td>\n",
              "      <td>waqasbhatti/astrobase</td>\n",
              "      <td>[def, Func, (, arg_0, ,, arg_1, ,, arg_2, ,, a...</td>\n",
              "      <td>261425</td>\n",
              "    </tr>\n",
              "    <tr>\n",
              "      <th>2</th>\n",
              "      <td>def Func(arg_0):\\n    \"\"\"Get interfaces from t...</td>\n",
              "      <td>get_interfaces</td>\n",
              "      <td>(impls)</td>\n",
              "      <td>python</td>\n",
              "      <td>https://github.com/fumitoh/modelx/blob/0180da3...</td>\n",
              "      <td>Get interfaces from their implementations.</td>\n",
              "      <td>Get interfaces from their implementations.</td>\n",
              "      <td></td>\n",
              "      <td>0180da34d052c44fb94dab9e115e218bbebfc9c3</td>\n",
              "      <td>0.284458</td>\n",
              "      <td></td>\n",
              "      <td>[Get, interfaces, from, their, implementations...</td>\n",
              "      <td>modelx/core/base.py</td>\n",
              "      <td>fumitoh/modelx</td>\n",
              "      <td>[def, Func, (, arg_0, ), :, if, arg_0, is, Non...</td>\n",
              "      <td>261426</td>\n",
              "    </tr>\n",
              "    <tr>\n",
              "      <th>3</th>\n",
              "      <td>def Func(arg_0, arg_1, arg_2=None):\\n    \"\"\"Fe...</td>\n",
              "      <td>institute_and_case</td>\n",
              "      <td>(store, institute_id, case_name=None)</td>\n",
              "      <td>python</td>\n",
              "      <td>https://github.com/Clinical-Genomics/scout/blo...</td>\n",
              "      <td>Fetch insitiute and case objects.</td>\n",
              "      <td>Fetch insitiute and case objects.</td>\n",
              "      <td></td>\n",
              "      <td>90a551e2e1653a319e654c2405c2866f93d0ebb9</td>\n",
              "      <td>0.411248</td>\n",
              "      <td></td>\n",
              "      <td>[Fetch, insitiute, and, case, objects, .]</td>\n",
              "      <td>scout/server/utils.py</td>\n",
              "      <td>Clinical-Genomics/scout</td>\n",
              "      <td>[def, Func, (, arg_0, ,, arg_1, ,, arg_2, =, N...</td>\n",
              "      <td>261427</td>\n",
              "    </tr>\n",
              "    <tr>\n",
              "      <th>4</th>\n",
              "      <td>def Func(arg_0, arg_1):\\n  \"\"\"Return the image...</td>\n",
              "      <td>get_action_image</td>\n",
              "      <td>(op, name)</td>\n",
              "      <td>python</td>\n",
              "      <td>https://github.com/DataBiosphere/dsub/blob/443...</td>\n",
              "      <td>Return the image for the operation.</td>\n",
              "      <td>Return the image for the operation.</td>\n",
              "      <td></td>\n",
              "      <td>443ce31daa6023dc2fd65ef2051796e19d18d5a7</td>\n",
              "      <td>0.578675</td>\n",
              "      <td></td>\n",
              "      <td>[Return, the, image, for, the, operation, .]</td>\n",
              "      <td>dsub/providers/google_v2_operations.py</td>\n",
              "      <td>DataBiosphere/dsub</td>\n",
              "      <td>[def, Func, (, arg_0, ,, arg_1, ), :, arg_2, =...</td>\n",
              "      <td>261428</td>\n",
              "    </tr>\n",
              "  </tbody>\n",
              "</table>\n",
              "</div>"
            ],
            "text/plain": [
              "                                            function  ...     idx\n",
              "0  def Func(arg_0, arg_1, *arg_2, **arg_3):\\n    ...  ...  261424\n",
              "1  def Func(arg_0, arg_1, arg_2,\\n               ...  ...  261425\n",
              "2  def Func(arg_0):\\n    \"\"\"Get interfaces from t...  ...  261426\n",
              "3  def Func(arg_0, arg_1, arg_2=None):\\n    \"\"\"Fe...  ...  261427\n",
              "4  def Func(arg_0, arg_1):\\n  \"\"\"Return the image...  ...  261428\n",
              "\n",
              "[5 rows x 16 columns]"
            ]
          },
          "metadata": {},
          "execution_count": 3
        }
      ]
    },
    {
      "cell_type": "code",
      "metadata": {
        "colab": {
          "base_uri": "https://localhost:8080/",
          "height": 484
        },
        "id": "Fpnlc9OoXdgG",
        "outputId": "8b493368-462d-4c27-da1a-2404cd1821e8"
      },
      "source": [
        "#preprocessing function\n",
        "req_func_li=[]\n",
        "for index,row in tqdm(info_df.iterrows(),total=len(info_df)):\n",
        "  temp='def '+ row['identifier'].split('.')[-1]+ row['parameters']+row['function'].split(':',1)[-1]\n",
        "  req_func_li.append(temp)\n",
        "\n",
        "info_df['processed_func']=req_func_li\n",
        "info_df.head()"
      ],
      "execution_count": null,
      "outputs": [
        {
          "output_type": "stream",
          "name": "stderr",
          "text": [
            "100%|██████████| 19210/19210 [00:01<00:00, 9707.99it/s]\n"
          ]
        },
        {
          "output_type": "execute_result",
          "data": {
            "text/html": [
              "<div>\n",
              "<style scoped>\n",
              "    .dataframe tbody tr th:only-of-type {\n",
              "        vertical-align: middle;\n",
              "    }\n",
              "\n",
              "    .dataframe tbody tr th {\n",
              "        vertical-align: top;\n",
              "    }\n",
              "\n",
              "    .dataframe thead th {\n",
              "        text-align: right;\n",
              "    }\n",
              "</style>\n",
              "<table border=\"1\" class=\"dataframe\">\n",
              "  <thead>\n",
              "    <tr style=\"text-align: right;\">\n",
              "      <th></th>\n",
              "      <th>function</th>\n",
              "      <th>identifier</th>\n",
              "      <th>parameters</th>\n",
              "      <th>language</th>\n",
              "      <th>url</th>\n",
              "      <th>docstring_summary</th>\n",
              "      <th>docstring</th>\n",
              "      <th>return_statement</th>\n",
              "      <th>sha</th>\n",
              "      <th>score</th>\n",
              "      <th>argument_list</th>\n",
              "      <th>docstring_tokens</th>\n",
              "      <th>path</th>\n",
              "      <th>nwo</th>\n",
              "      <th>function_tokens</th>\n",
              "      <th>idx</th>\n",
              "      <th>processed_func</th>\n",
              "    </tr>\n",
              "  </thead>\n",
              "  <tbody>\n",
              "    <tr>\n",
              "      <th>0</th>\n",
              "      <td>def Func(arg_0, arg_1, *arg_2, **arg_3):\\n    ...</td>\n",
              "      <td>Cache.from_file</td>\n",
              "      <td>(cls, file, *args, **kwargs)</td>\n",
              "      <td>python</td>\n",
              "      <td>https://github.com/buckket/twtxt/blob/6c8ad8ef...</td>\n",
              "      <td>Try loading given cache file.</td>\n",
              "      <td>Try loading given cache file.</td>\n",
              "      <td></td>\n",
              "      <td>6c8ad8ef3cbcf0dd335a12285d8b6bbdf93ce851</td>\n",
              "      <td>0.578385</td>\n",
              "      <td></td>\n",
              "      <td>[Try, loading, given, cache, file, .]</td>\n",
              "      <td>twtxt/cache.py</td>\n",
              "      <td>buckket/twtxt</td>\n",
              "      <td>[def, Func, (, arg_0, ,, arg_1, ,, *, arg_2, ,...</td>\n",
              "      <td>261424</td>\n",
              "      <td>def from_file(cls, file, *args, **kwargs)\\n   ...</td>\n",
              "    </tr>\n",
              "    <tr>\n",
              "      <th>1</th>\n",
              "      <td>def Func(arg_0, arg_1, arg_2,\\n               ...</td>\n",
              "      <td>all_nonperiodic_features</td>\n",
              "      <td>(times, mags, errs,\\n                         ...</td>\n",
              "      <td>python</td>\n",
              "      <td>https://github.com/waqasbhatti/astrobase/blob/...</td>\n",
              "      <td>This rolls up the feature functions above and ...</td>\n",
              "      <td>This rolls up the feature functions above and ...</td>\n",
              "      <td>return xfeatures</td>\n",
              "      <td>2922a14619d183fb28005fa7d02027ac436f2265</td>\n",
              "      <td>0.507280</td>\n",
              "      <td></td>\n",
              "      <td>[This, rolls, up, the, feature, functions, abo...</td>\n",
              "      <td>astrobase/varclass/varfeatures.py</td>\n",
              "      <td>waqasbhatti/astrobase</td>\n",
              "      <td>[def, Func, (, arg_0, ,, arg_1, ,, arg_2, ,, a...</td>\n",
              "      <td>261425</td>\n",
              "      <td>def all_nonperiodic_features(times, mags, errs...</td>\n",
              "    </tr>\n",
              "    <tr>\n",
              "      <th>2</th>\n",
              "      <td>def Func(arg_0):\\n    \"\"\"Get interfaces from t...</td>\n",
              "      <td>get_interfaces</td>\n",
              "      <td>(impls)</td>\n",
              "      <td>python</td>\n",
              "      <td>https://github.com/fumitoh/modelx/blob/0180da3...</td>\n",
              "      <td>Get interfaces from their implementations.</td>\n",
              "      <td>Get interfaces from their implementations.</td>\n",
              "      <td></td>\n",
              "      <td>0180da34d052c44fb94dab9e115e218bbebfc9c3</td>\n",
              "      <td>0.284458</td>\n",
              "      <td></td>\n",
              "      <td>[Get, interfaces, from, their, implementations...</td>\n",
              "      <td>modelx/core/base.py</td>\n",
              "      <td>fumitoh/modelx</td>\n",
              "      <td>[def, Func, (, arg_0, ), :, if, arg_0, is, Non...</td>\n",
              "      <td>261426</td>\n",
              "      <td>def get_interfaces(impls)\\n    \"\"\"Get interfac...</td>\n",
              "    </tr>\n",
              "    <tr>\n",
              "      <th>3</th>\n",
              "      <td>def Func(arg_0, arg_1, arg_2=None):\\n    \"\"\"Fe...</td>\n",
              "      <td>institute_and_case</td>\n",
              "      <td>(store, institute_id, case_name=None)</td>\n",
              "      <td>python</td>\n",
              "      <td>https://github.com/Clinical-Genomics/scout/blo...</td>\n",
              "      <td>Fetch insitiute and case objects.</td>\n",
              "      <td>Fetch insitiute and case objects.</td>\n",
              "      <td></td>\n",
              "      <td>90a551e2e1653a319e654c2405c2866f93d0ebb9</td>\n",
              "      <td>0.411248</td>\n",
              "      <td></td>\n",
              "      <td>[Fetch, insitiute, and, case, objects, .]</td>\n",
              "      <td>scout/server/utils.py</td>\n",
              "      <td>Clinical-Genomics/scout</td>\n",
              "      <td>[def, Func, (, arg_0, ,, arg_1, ,, arg_2, =, N...</td>\n",
              "      <td>261427</td>\n",
              "      <td>def institute_and_case(store, institute_id, ca...</td>\n",
              "    </tr>\n",
              "    <tr>\n",
              "      <th>4</th>\n",
              "      <td>def Func(arg_0, arg_1):\\n  \"\"\"Return the image...</td>\n",
              "      <td>get_action_image</td>\n",
              "      <td>(op, name)</td>\n",
              "      <td>python</td>\n",
              "      <td>https://github.com/DataBiosphere/dsub/blob/443...</td>\n",
              "      <td>Return the image for the operation.</td>\n",
              "      <td>Return the image for the operation.</td>\n",
              "      <td></td>\n",
              "      <td>443ce31daa6023dc2fd65ef2051796e19d18d5a7</td>\n",
              "      <td>0.578675</td>\n",
              "      <td></td>\n",
              "      <td>[Return, the, image, for, the, operation, .]</td>\n",
              "      <td>dsub/providers/google_v2_operations.py</td>\n",
              "      <td>DataBiosphere/dsub</td>\n",
              "      <td>[def, Func, (, arg_0, ,, arg_1, ), :, arg_2, =...</td>\n",
              "      <td>261428</td>\n",
              "      <td>def get_action_image(op, name)\\n  \"\"\"Return th...</td>\n",
              "    </tr>\n",
              "  </tbody>\n",
              "</table>\n",
              "</div>"
            ],
            "text/plain": [
              "                                            function  ...                                     processed_func\n",
              "0  def Func(arg_0, arg_1, *arg_2, **arg_3):\\n    ...  ...  def from_file(cls, file, *args, **kwargs)\\n   ...\n",
              "1  def Func(arg_0, arg_1, arg_2,\\n               ...  ...  def all_nonperiodic_features(times, mags, errs...\n",
              "2  def Func(arg_0):\\n    \"\"\"Get interfaces from t...  ...  def get_interfaces(impls)\\n    \"\"\"Get interfac...\n",
              "3  def Func(arg_0, arg_1, arg_2=None):\\n    \"\"\"Fe...  ...  def institute_and_case(store, institute_id, ca...\n",
              "4  def Func(arg_0, arg_1):\\n  \"\"\"Return the image...  ...  def get_action_image(op, name)\\n  \"\"\"Return th...\n",
              "\n",
              "[5 rows x 17 columns]"
            ]
          },
          "metadata": {},
          "execution_count": 4
        }
      ]
    },
    {
      "cell_type": "code",
      "metadata": {
        "id": "40zta_2t5OUk",
        "colab": {
          "base_uri": "https://localhost:8080/",
          "height": 345
        },
        "outputId": "4944ecdf-f20c-4a14-ec2f-f293af72572c"
      },
      "source": [
        "# load pretrained model/tokenizer\n",
        "\n",
        "tokenizer = AutoTokenizer.from_pretrained(\"microsoft/codebert-base\")\n",
        "model = AutoModel.from_pretrained(\"microsoft/codebert-base\")\n",
        "model.eval()\n",
        "model.to(\"cuda:0\")"
      ],
      "execution_count": null,
      "outputs": [
        {
          "output_type": "error",
          "ename": "RuntimeError",
          "evalue": "ignored",
          "traceback": [
            "\u001b[0;31m---------------------------------------------------------------------------\u001b[0m",
            "\u001b[0;31mRuntimeError\u001b[0m                              Traceback (most recent call last)",
            "\u001b[0;32m<ipython-input-5-161969323606>\u001b[0m in \u001b[0;36m<module>\u001b[0;34m()\u001b[0m\n\u001b[1;32m      4\u001b[0m \u001b[0mmodel\u001b[0m \u001b[0;34m=\u001b[0m \u001b[0mAutoModel\u001b[0m\u001b[0;34m.\u001b[0m\u001b[0mfrom_pretrained\u001b[0m\u001b[0;34m(\u001b[0m\u001b[0;34m\"microsoft/codebert-base\"\u001b[0m\u001b[0;34m)\u001b[0m\u001b[0;34m\u001b[0m\u001b[0;34m\u001b[0m\u001b[0m\n\u001b[1;32m      5\u001b[0m \u001b[0mmodel\u001b[0m\u001b[0;34m.\u001b[0m\u001b[0meval\u001b[0m\u001b[0;34m(\u001b[0m\u001b[0;34m)\u001b[0m\u001b[0;34m\u001b[0m\u001b[0;34m\u001b[0m\u001b[0m\n\u001b[0;32m----> 6\u001b[0;31m \u001b[0mmodel\u001b[0m\u001b[0;34m.\u001b[0m\u001b[0mto\u001b[0m\u001b[0;34m(\u001b[0m\u001b[0;34m\"cuda:0\"\u001b[0m\u001b[0;34m)\u001b[0m\u001b[0;34m\u001b[0m\u001b[0;34m\u001b[0m\u001b[0m\n\u001b[0m",
            "\u001b[0;32m/usr/local/lib/python3.7/dist-packages/torch/nn/modules/module.py\u001b[0m in \u001b[0;36mto\u001b[0;34m(self, *args, **kwargs)\u001b[0m\n\u001b[1;32m    850\u001b[0m             \u001b[0;32mreturn\u001b[0m \u001b[0mt\u001b[0m\u001b[0;34m.\u001b[0m\u001b[0mto\u001b[0m\u001b[0;34m(\u001b[0m\u001b[0mdevice\u001b[0m\u001b[0;34m,\u001b[0m \u001b[0mdtype\u001b[0m \u001b[0;32mif\u001b[0m \u001b[0mt\u001b[0m\u001b[0;34m.\u001b[0m\u001b[0mis_floating_point\u001b[0m\u001b[0;34m(\u001b[0m\u001b[0;34m)\u001b[0m \u001b[0;32mor\u001b[0m \u001b[0mt\u001b[0m\u001b[0;34m.\u001b[0m\u001b[0mis_complex\u001b[0m\u001b[0;34m(\u001b[0m\u001b[0;34m)\u001b[0m \u001b[0;32melse\u001b[0m \u001b[0;32mNone\u001b[0m\u001b[0;34m,\u001b[0m \u001b[0mnon_blocking\u001b[0m\u001b[0;34m)\u001b[0m\u001b[0;34m\u001b[0m\u001b[0;34m\u001b[0m\u001b[0m\n\u001b[1;32m    851\u001b[0m \u001b[0;34m\u001b[0m\u001b[0m\n\u001b[0;32m--> 852\u001b[0;31m         \u001b[0;32mreturn\u001b[0m \u001b[0mself\u001b[0m\u001b[0;34m.\u001b[0m\u001b[0m_apply\u001b[0m\u001b[0;34m(\u001b[0m\u001b[0mconvert\u001b[0m\u001b[0;34m)\u001b[0m\u001b[0;34m\u001b[0m\u001b[0;34m\u001b[0m\u001b[0m\n\u001b[0m\u001b[1;32m    853\u001b[0m \u001b[0;34m\u001b[0m\u001b[0m\n\u001b[1;32m    854\u001b[0m     def register_backward_hook(\n",
            "\u001b[0;32m/usr/local/lib/python3.7/dist-packages/torch/nn/modules/module.py\u001b[0m in \u001b[0;36m_apply\u001b[0;34m(self, fn)\u001b[0m\n\u001b[1;32m    528\u001b[0m     \u001b[0;32mdef\u001b[0m \u001b[0m_apply\u001b[0m\u001b[0;34m(\u001b[0m\u001b[0mself\u001b[0m\u001b[0;34m,\u001b[0m \u001b[0mfn\u001b[0m\u001b[0;34m)\u001b[0m\u001b[0;34m:\u001b[0m\u001b[0;34m\u001b[0m\u001b[0;34m\u001b[0m\u001b[0m\n\u001b[1;32m    529\u001b[0m         \u001b[0;32mfor\u001b[0m \u001b[0mmodule\u001b[0m \u001b[0;32min\u001b[0m \u001b[0mself\u001b[0m\u001b[0;34m.\u001b[0m\u001b[0mchildren\u001b[0m\u001b[0;34m(\u001b[0m\u001b[0;34m)\u001b[0m\u001b[0;34m:\u001b[0m\u001b[0;34m\u001b[0m\u001b[0;34m\u001b[0m\u001b[0m\n\u001b[0;32m--> 530\u001b[0;31m             \u001b[0mmodule\u001b[0m\u001b[0;34m.\u001b[0m\u001b[0m_apply\u001b[0m\u001b[0;34m(\u001b[0m\u001b[0mfn\u001b[0m\u001b[0;34m)\u001b[0m\u001b[0;34m\u001b[0m\u001b[0;34m\u001b[0m\u001b[0m\n\u001b[0m\u001b[1;32m    531\u001b[0m \u001b[0;34m\u001b[0m\u001b[0m\n\u001b[1;32m    532\u001b[0m         \u001b[0;32mdef\u001b[0m \u001b[0mcompute_should_use_set_data\u001b[0m\u001b[0;34m(\u001b[0m\u001b[0mtensor\u001b[0m\u001b[0;34m,\u001b[0m \u001b[0mtensor_applied\u001b[0m\u001b[0;34m)\u001b[0m\u001b[0;34m:\u001b[0m\u001b[0;34m\u001b[0m\u001b[0;34m\u001b[0m\u001b[0m\n",
            "\u001b[0;32m/usr/local/lib/python3.7/dist-packages/torch/nn/modules/module.py\u001b[0m in \u001b[0;36m_apply\u001b[0;34m(self, fn)\u001b[0m\n\u001b[1;32m    528\u001b[0m     \u001b[0;32mdef\u001b[0m \u001b[0m_apply\u001b[0m\u001b[0;34m(\u001b[0m\u001b[0mself\u001b[0m\u001b[0;34m,\u001b[0m \u001b[0mfn\u001b[0m\u001b[0;34m)\u001b[0m\u001b[0;34m:\u001b[0m\u001b[0;34m\u001b[0m\u001b[0;34m\u001b[0m\u001b[0m\n\u001b[1;32m    529\u001b[0m         \u001b[0;32mfor\u001b[0m \u001b[0mmodule\u001b[0m \u001b[0;32min\u001b[0m \u001b[0mself\u001b[0m\u001b[0;34m.\u001b[0m\u001b[0mchildren\u001b[0m\u001b[0;34m(\u001b[0m\u001b[0;34m)\u001b[0m\u001b[0;34m:\u001b[0m\u001b[0;34m\u001b[0m\u001b[0;34m\u001b[0m\u001b[0m\n\u001b[0;32m--> 530\u001b[0;31m             \u001b[0mmodule\u001b[0m\u001b[0;34m.\u001b[0m\u001b[0m_apply\u001b[0m\u001b[0;34m(\u001b[0m\u001b[0mfn\u001b[0m\u001b[0;34m)\u001b[0m\u001b[0;34m\u001b[0m\u001b[0;34m\u001b[0m\u001b[0m\n\u001b[0m\u001b[1;32m    531\u001b[0m \u001b[0;34m\u001b[0m\u001b[0m\n\u001b[1;32m    532\u001b[0m         \u001b[0;32mdef\u001b[0m \u001b[0mcompute_should_use_set_data\u001b[0m\u001b[0;34m(\u001b[0m\u001b[0mtensor\u001b[0m\u001b[0;34m,\u001b[0m \u001b[0mtensor_applied\u001b[0m\u001b[0;34m)\u001b[0m\u001b[0;34m:\u001b[0m\u001b[0;34m\u001b[0m\u001b[0;34m\u001b[0m\u001b[0m\n",
            "\u001b[0;32m/usr/local/lib/python3.7/dist-packages/torch/nn/modules/module.py\u001b[0m in \u001b[0;36m_apply\u001b[0;34m(self, fn)\u001b[0m\n\u001b[1;32m    550\u001b[0m                 \u001b[0;31m# `with torch.no_grad():`\u001b[0m\u001b[0;34m\u001b[0m\u001b[0;34m\u001b[0m\u001b[0;34m\u001b[0m\u001b[0m\n\u001b[1;32m    551\u001b[0m                 \u001b[0;32mwith\u001b[0m \u001b[0mtorch\u001b[0m\u001b[0;34m.\u001b[0m\u001b[0mno_grad\u001b[0m\u001b[0;34m(\u001b[0m\u001b[0;34m)\u001b[0m\u001b[0;34m:\u001b[0m\u001b[0;34m\u001b[0m\u001b[0;34m\u001b[0m\u001b[0m\n\u001b[0;32m--> 552\u001b[0;31m                     \u001b[0mparam_applied\u001b[0m \u001b[0;34m=\u001b[0m \u001b[0mfn\u001b[0m\u001b[0;34m(\u001b[0m\u001b[0mparam\u001b[0m\u001b[0;34m)\u001b[0m\u001b[0;34m\u001b[0m\u001b[0;34m\u001b[0m\u001b[0m\n\u001b[0m\u001b[1;32m    553\u001b[0m                 \u001b[0mshould_use_set_data\u001b[0m \u001b[0;34m=\u001b[0m \u001b[0mcompute_should_use_set_data\u001b[0m\u001b[0;34m(\u001b[0m\u001b[0mparam\u001b[0m\u001b[0;34m,\u001b[0m \u001b[0mparam_applied\u001b[0m\u001b[0;34m)\u001b[0m\u001b[0;34m\u001b[0m\u001b[0;34m\u001b[0m\u001b[0m\n\u001b[1;32m    554\u001b[0m                 \u001b[0;32mif\u001b[0m \u001b[0mshould_use_set_data\u001b[0m\u001b[0;34m:\u001b[0m\u001b[0;34m\u001b[0m\u001b[0;34m\u001b[0m\u001b[0m\n",
            "\u001b[0;32m/usr/local/lib/python3.7/dist-packages/torch/nn/modules/module.py\u001b[0m in \u001b[0;36mconvert\u001b[0;34m(t)\u001b[0m\n\u001b[1;32m    848\u001b[0m                 return t.to(device, dtype if t.is_floating_point() or t.is_complex() else None,\n\u001b[1;32m    849\u001b[0m                             non_blocking, memory_format=convert_to_format)\n\u001b[0;32m--> 850\u001b[0;31m             \u001b[0;32mreturn\u001b[0m \u001b[0mt\u001b[0m\u001b[0;34m.\u001b[0m\u001b[0mto\u001b[0m\u001b[0;34m(\u001b[0m\u001b[0mdevice\u001b[0m\u001b[0;34m,\u001b[0m \u001b[0mdtype\u001b[0m \u001b[0;32mif\u001b[0m \u001b[0mt\u001b[0m\u001b[0;34m.\u001b[0m\u001b[0mis_floating_point\u001b[0m\u001b[0;34m(\u001b[0m\u001b[0;34m)\u001b[0m \u001b[0;32mor\u001b[0m \u001b[0mt\u001b[0m\u001b[0;34m.\u001b[0m\u001b[0mis_complex\u001b[0m\u001b[0;34m(\u001b[0m\u001b[0;34m)\u001b[0m \u001b[0;32melse\u001b[0m \u001b[0;32mNone\u001b[0m\u001b[0;34m,\u001b[0m \u001b[0mnon_blocking\u001b[0m\u001b[0;34m)\u001b[0m\u001b[0;34m\u001b[0m\u001b[0;34m\u001b[0m\u001b[0m\n\u001b[0m\u001b[1;32m    851\u001b[0m \u001b[0;34m\u001b[0m\u001b[0m\n\u001b[1;32m    852\u001b[0m         \u001b[0;32mreturn\u001b[0m \u001b[0mself\u001b[0m\u001b[0;34m.\u001b[0m\u001b[0m_apply\u001b[0m\u001b[0;34m(\u001b[0m\u001b[0mconvert\u001b[0m\u001b[0;34m)\u001b[0m\u001b[0;34m\u001b[0m\u001b[0;34m\u001b[0m\u001b[0m\n",
            "\u001b[0;32m/usr/local/lib/python3.7/dist-packages/torch/cuda/__init__.py\u001b[0m in \u001b[0;36m_lazy_init\u001b[0;34m()\u001b[0m\n\u001b[1;32m    170\u001b[0m         \u001b[0;31m# This function throws if there's a driver initialization error, no GPUs\u001b[0m\u001b[0;34m\u001b[0m\u001b[0;34m\u001b[0m\u001b[0;34m\u001b[0m\u001b[0m\n\u001b[1;32m    171\u001b[0m         \u001b[0;31m# are found or any other error occurs\u001b[0m\u001b[0;34m\u001b[0m\u001b[0;34m\u001b[0m\u001b[0;34m\u001b[0m\u001b[0m\n\u001b[0;32m--> 172\u001b[0;31m         \u001b[0mtorch\u001b[0m\u001b[0;34m.\u001b[0m\u001b[0m_C\u001b[0m\u001b[0;34m.\u001b[0m\u001b[0m_cuda_init\u001b[0m\u001b[0;34m(\u001b[0m\u001b[0;34m)\u001b[0m\u001b[0;34m\u001b[0m\u001b[0;34m\u001b[0m\u001b[0m\n\u001b[0m\u001b[1;32m    173\u001b[0m         \u001b[0;31m# Some of the queued calls may reentrantly call _lazy_init();\u001b[0m\u001b[0;34m\u001b[0m\u001b[0;34m\u001b[0m\u001b[0;34m\u001b[0m\u001b[0m\n\u001b[1;32m    174\u001b[0m         \u001b[0;31m# we need to just return without initializing in that case.\u001b[0m\u001b[0;34m\u001b[0m\u001b[0;34m\u001b[0m\u001b[0;34m\u001b[0m\u001b[0m\n",
            "\u001b[0;31mRuntimeError\u001b[0m: No CUDA GPUs are available"
          ]
        }
      ]
    },
    {
      "cell_type": "code",
      "metadata": {
        "id": "qyvjyKYCs5D5",
        "colab": {
          "base_uri": "https://localhost:8080/",
          "height": 235
        },
        "outputId": "ae6743a2-443d-43c6-d699-fefb5afec49b"
      },
      "source": [
        "##making layer wise directories\n",
        "\n",
        "import os\n",
        "\n",
        "for i in range(1, 13):\n",
        "    os.mkdir(\n",
        "        str(\n",
        "            \"/content/drive/MyDrive/Probing CodeBERT /CodeBERT_mean/layer_{}\".format(\n",
        "                i\n",
        "            )\n",
        "        )\n",
        "    )\n",
        "\n"
      ],
      "execution_count": null,
      "outputs": [
        {
          "output_type": "error",
          "ename": "FileExistsError",
          "evalue": "ignored",
          "traceback": [
            "\u001b[0;31m---------------------------------------------------------------------------\u001b[0m",
            "\u001b[0;31mFileExistsError\u001b[0m                           Traceback (most recent call last)",
            "\u001b[0;32m<ipython-input-8-febe328444c2>\u001b[0m in \u001b[0;36m<module>\u001b[0;34m()\u001b[0m\n\u001b[1;32m      7\u001b[0m         str(\n\u001b[1;32m      8\u001b[0m             \"/content/drive/MyDrive/Probing CodeBERT /CodeBERT_mean/layer_{}\".format(\n\u001b[0;32m----> 9\u001b[0;31m                 \u001b[0mi\u001b[0m\u001b[0;34m\u001b[0m\u001b[0;34m\u001b[0m\u001b[0m\n\u001b[0m\u001b[1;32m     10\u001b[0m             )\n\u001b[1;32m     11\u001b[0m         )\n",
            "\u001b[0;31mFileExistsError\u001b[0m: [Errno 17] File exists: '/content/drive/MyDrive/Probing CodeBERT /CodeBERT_mean/layer_1'"
          ]
        }
      ]
    },
    {
      "cell_type": "code",
      "metadata": {
        "id": "TNptezp4SG1s"
      },
      "source": [
        "##making layer wise directories\n",
        "\n",
        "import os\n",
        "\n",
        "for i in range(1, 13):\n",
        "    os.mkdir(\n",
        "        str(\n",
        "            \"/content/drive/MyDrive/Probing CodeBERT /CodeBERT_cls/layer_{}\".format(\n",
        "                i\n",
        "            )\n",
        "        )\n",
        "    )"
      ],
      "execution_count": null,
      "outputs": []
    },
    {
      "cell_type": "code",
      "metadata": {
        "id": "c9jCpha_GmOK",
        "colab": {
          "base_uri": "https://localhost:8080/"
        },
        "outputId": "335d05df-7821-474d-875c-1e1410488d75"
      },
      "source": [
        "# Code-BERT Model\n",
        "index_start=6428\n",
        "for index, row in tqdm(info_df[index_start:].iterrows(), total=len(info_df[index_start:])):\n",
        "      code = row['processed_func']\n",
        "      text_phrase = row[\"identifier\"]\n",
        "\n",
        "\n",
        "      tokenized_text = tokenizer(\n",
        "            text_phrase,\n",
        "            code,\n",
        "            add_special_tokens=True,\n",
        "            return_tensors=\"pt\",\n",
        "            truncation=True,\n",
        "        )\n",
        "      # print((tokenized_text['input_ids']))\n",
        "      model_input=tokenized_text['input_ids'].to('cuda:0')\n",
        "\n",
        "      # tokens=[tokenizer.cls_token]+nl_tokens+[tokenizer.sep_token]+code_tokens+[tokenizer.sep_token]\n",
        "  \n",
        "  \n",
        "  \n",
        "\n",
        "      context_embeddings=model(model_input, output_hidden_states=True,return_dict=True)\n",
        "      # print(context_embeddings)\n",
        "      # print(context_embeddings['last_hidden_state'])\n",
        "      \n",
        "\n",
        "      for i,layer in enumerate(context_embeddings['hidden_states']):\n",
        "\n",
        "        mean_embedding = torch.mean(layer, 1, True).detach().cpu().numpy()\n",
        "        with open(f\"/content/drive/MyDrive/Probing CodeBERT /CodeBERT_mean/layer_{i+1}/line_{index}_{i+1}_codeBERT.npy\", 'wb') as f:\n",
        "            np.save(f, mean_embedding)\n",
        "\n",
        "\n",
        "        cls_embedding=layer[:,0,:].detach().cpu().numpy()\n",
        "        with open(f\"/content/drive/MyDrive/Probing CodeBERT /CodeBERT_cls/layer_{i+1}/line_{index}_{i+1}_codeBERT_cls.npy\", 'wb') as f:\n",
        "            np.save(f, cls_embedding)\n",
        "    \n",
        "\n",
        "\n",
        "     "
      ],
      "execution_count": null,
      "outputs": [
        {
          "output_type": "stream",
          "name": "stderr",
          "text": [
            "\r  0%|          | 0/12782 [00:00<?, ?it/s]"
          ]
        }
      ]
    },
    {
      "cell_type": "code",
      "metadata": {
        "id": "bM6gKC-WEZjS"
      },
      "source": [
        "drive.flush_and_unmount()"
      ],
      "execution_count": null,
      "outputs": []
    },
    {
      "cell_type": "code",
      "metadata": {
        "id": "2nkmKktdekZB",
        "colab": {
          "base_uri": "https://localhost:8080/"
        },
        "outputId": "55dc21de-c888-40a4-c54a-42620e8c61ed"
      },
      "source": [
        "import time\n",
        "\n",
        "print(\"Printed immediately.\")\n",
        "time.sleep(3600)\n",
        "print(\"Printed after 1 hour\")"
      ],
      "execution_count": null,
      "outputs": [
        {
          "output_type": "stream",
          "name": "stdout",
          "text": [
            "Printed immediately.\n",
            "Printed after 1 hour\n"
          ]
        }
      ]
    },
    {
      "cell_type": "code",
      "metadata": {
        "id": "5IKU67ePZbG6",
        "colab": {
          "base_uri": "https://localhost:8080/"
        },
        "outputId": "84cb9be0-2b7d-4882-cc40-c058571f4f0a"
      },
      "source": [
        "import time\n",
        "\n",
        "print(\"Printed immediately.\")\n",
        "time.sleep(3600)\n",
        "print(\"Printed after 1 hour\")"
      ],
      "execution_count": null,
      "outputs": [
        {
          "output_type": "stream",
          "name": "stdout",
          "text": [
            "Printed immediately.\n"
          ]
        }
      ]
    },
    {
      "cell_type": "code",
      "metadata": {
        "id": "qkg8MvIt4JOf"
      },
      "source": [
        "import time\n",
        "\n",
        "print(\"Printed immediately.\")\n",
        "time.sleep(3600)\n",
        "print(\"Printed after 1 hour\")"
      ],
      "execution_count": null,
      "outputs": []
    },
    {
      "cell_type": "code",
      "metadata": {
        "id": "1Z2UIIno_-J6"
      },
      "source": [
        "import time\n",
        "\n",
        "print(\"Printed immediately.\")\n",
        "time.sleep(3600)\n",
        "print(\"Printed after 1 hour\")"
      ],
      "execution_count": null,
      "outputs": []
    },
    {
      "cell_type": "code",
      "metadata": {
        "id": "EZagBt9-E0SF"
      },
      "source": [
        ""
      ],
      "execution_count": null,
      "outputs": []
    }
  ]
}